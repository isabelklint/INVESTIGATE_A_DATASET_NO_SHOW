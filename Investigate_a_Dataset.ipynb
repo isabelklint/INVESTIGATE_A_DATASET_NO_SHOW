{
 "cells": [
  {
   "cell_type": "markdown",
   "metadata": {},
   "source": [
    "\n",
    "# Project: Investigate a Dataset - No-show appointments dataset\n",
    "\n",
    "## Table of Contents\n",
    "<ul>\n",
    "<li><a href=\"#intro\">Introduction</a></li>\n",
    "<li><a href=\"#wrangling\">Data Wrangling</a></li>\n",
    "<li><a href=\"#eda\">Exploratory Data Analysis</a></li>\n",
    "<li><a href=\"#conclusions\">Conclusions</a></li>\n",
    "</ul>"
   ]
  },
  {
   "cell_type": "markdown",
   "metadata": {},
   "source": [
    "<a id='intro'></a>\n",
    "## Introduction\n",
    "\n",
    "### Dataset Description \n",
    "\n",
    "The focus of this investigation is missed appointments. This No-show dataset from Kaggle provides the details of 100k medical appointments in Brazil. Specifically, the data holds information about the hospital where patients scheduled appointments, demographic and health data of the patients, and whether or not they kept their appointments.\n",
    "\n",
    "My analyses are focussed on the dependent variables: appointment_ID or patient ID, in order to predict which type of patient shows up at their hospital appointments.\n",
    "\n",
    "In my analysis of appointment data, I look at the differene in attendance for same-day appointments versus other appointments. For these other appointments, I compare the difference between kept and missed appointments by length of time between scheduling and appointment. I consider appointment attendance by the day of the week of the appointment. I also check the location of the appointment for correlation to patient attendance.\n",
    "\n",
    "For patient information, I checked to see the mean age of patients by attendance at appointments. For this, I divided patients into two groups, attenders and missers (by percentage of appointment attended).\n",
    "\n",
    ", and patient demographic features like  hospital and age group, and by patient health factors. \n",
    "\n",
    "\n",
    "\n",
    "Can I predict what type of person is most likely to keep an appointment?\n",
    "\n",
    "Here are the column names and a brief description of each:\n",
    "\n",
    "- PatientId: A unique ID for each patient</li>\n",
    "- AppointmentID: A unique ID for each appointment</li>\n",
    "- ScheduledDay: The day the patient made their appointment</li>\n",
    "- AppointmentDay: The day of the appointment</li>\n",
    "- Gender, Age: patient demographic information</li>\n",
    "- Neighbourhood: The location of the hospital</li>\n",
    "- Scholarship:  ‘Yes’ denotes that the patient is using Brasilian government assistance (Bolsa Família)</li>\n",
    "- Hipertension, Diabetes, Alcoholism, Handcap: health factors. Presumably ‘Handcap’ refers to disability status</li>\n",
    "- SMS_received: Whether the patient received a text reminder.</li>\n",
    "- No-show: Whether the patient missed an appointment (Yes) or kept an appointment (No)</li>"
   ]
  },
  {
   "cell_type": "code",
   "execution_count": 1,
   "metadata": {},
   "outputs": [],
   "source": [
    "# import statements\n",
    "\n",
    "import pandas as pd\n",
    "import matplotlib.pyplot as plt\n",
    "import numpy as np\n",
    "import dask.dataframe as dd\n",
    "import seaborn as sb\n",
    "pd.options.mode.chained_assignment = None  # Apparently this helps me with all my renaming issues\n",
    "\n",
    "# 'magic word'\n",
    "%matplotlib inline"
   ]
  },
  {
   "cell_type": "markdown",
   "metadata": {},
   "source": [
    "<a id='wrangling'></a>\n",
    "## Data Wrangling"
   ]
  },
  {
   "cell_type": "markdown",
   "metadata": {},
   "source": [
    "The No-show data comes from Kaggle and is provided by Udacity. Here are the first few rows of data, and the total number of rows and columns."
   ]
  },
  {
   "cell_type": "code",
   "execution_count": 2,
   "metadata": {},
   "outputs": [
    {
     "data": {
      "text/html": [
       "<div>\n",
       "<style scoped>\n",
       "    .dataframe tbody tr th:only-of-type {\n",
       "        vertical-align: middle;\n",
       "    }\n",
       "\n",
       "    .dataframe tbody tr th {\n",
       "        vertical-align: top;\n",
       "    }\n",
       "\n",
       "    .dataframe thead th {\n",
       "        text-align: right;\n",
       "    }\n",
       "</style>\n",
       "<table border=\"1\" class=\"dataframe\">\n",
       "  <thead>\n",
       "    <tr style=\"text-align: right;\">\n",
       "      <th></th>\n",
       "      <th>PatientId</th>\n",
       "      <th>AppointmentID</th>\n",
       "      <th>Gender</th>\n",
       "      <th>ScheduledDay</th>\n",
       "      <th>AppointmentDay</th>\n",
       "      <th>Age</th>\n",
       "      <th>Neighbourhood</th>\n",
       "      <th>Scholarship</th>\n",
       "      <th>Hipertension</th>\n",
       "      <th>Diabetes</th>\n",
       "      <th>Alcoholism</th>\n",
       "      <th>Handcap</th>\n",
       "      <th>SMS_received</th>\n",
       "      <th>No-show</th>\n",
       "    </tr>\n",
       "  </thead>\n",
       "  <tbody>\n",
       "    <tr>\n",
       "      <th>0</th>\n",
       "      <td>2.987250e+13</td>\n",
       "      <td>5642903.0</td>\n",
       "      <td>F</td>\n",
       "      <td>2016-04-29T18:38:08Z</td>\n",
       "      <td>2016-04-29T00:00:00Z</td>\n",
       "      <td>62.0</td>\n",
       "      <td>JARDIM DA PENHA</td>\n",
       "      <td>0.0</td>\n",
       "      <td>1.0</td>\n",
       "      <td>0.0</td>\n",
       "      <td>0.0</td>\n",
       "      <td>0.0</td>\n",
       "      <td>0.0</td>\n",
       "      <td>No</td>\n",
       "    </tr>\n",
       "    <tr>\n",
       "      <th>1</th>\n",
       "      <td>5.589978e+14</td>\n",
       "      <td>5642503.0</td>\n",
       "      <td>M</td>\n",
       "      <td>2016-04-29T16:08:27Z</td>\n",
       "      <td>2016-04-29T00:00:00Z</td>\n",
       "      <td>56.0</td>\n",
       "      <td>JARDIM DA PENHA</td>\n",
       "      <td>0.0</td>\n",
       "      <td>0.0</td>\n",
       "      <td>0.0</td>\n",
       "      <td>0.0</td>\n",
       "      <td>0.0</td>\n",
       "      <td>0.0</td>\n",
       "      <td>No</td>\n",
       "    </tr>\n",
       "    <tr>\n",
       "      <th>2</th>\n",
       "      <td>4.262962e+12</td>\n",
       "      <td>5642549.0</td>\n",
       "      <td>F</td>\n",
       "      <td>2016-04-29T16:19:04Z</td>\n",
       "      <td>2016-04-29T00:00:00Z</td>\n",
       "      <td>62.0</td>\n",
       "      <td>MATA DA PRAIA</td>\n",
       "      <td>0.0</td>\n",
       "      <td>0.0</td>\n",
       "      <td>0.0</td>\n",
       "      <td>0.0</td>\n",
       "      <td>0.0</td>\n",
       "      <td>0.0</td>\n",
       "      <td>No</td>\n",
       "    </tr>\n",
       "    <tr>\n",
       "      <th>3</th>\n",
       "      <td>8.679512e+11</td>\n",
       "      <td>5642828.0</td>\n",
       "      <td>F</td>\n",
       "      <td>2016-04-29T17:29:31Z</td>\n",
       "      <td>2016-04-29T00:00:00Z</td>\n",
       "      <td>8.0</td>\n",
       "      <td>PONTAL DE CAMBURI</td>\n",
       "      <td>0.0</td>\n",
       "      <td>0.0</td>\n",
       "      <td>0.0</td>\n",
       "      <td>0.0</td>\n",
       "      <td>0.0</td>\n",
       "      <td>0.0</td>\n",
       "      <td>No</td>\n",
       "    </tr>\n",
       "    <tr>\n",
       "      <th>4</th>\n",
       "      <td>8.841186e+12</td>\n",
       "      <td>5642494.0</td>\n",
       "      <td>F</td>\n",
       "      <td>2016-04-29T16:07:23Z</td>\n",
       "      <td>2016-04-29T00:00:00Z</td>\n",
       "      <td>56.0</td>\n",
       "      <td>JARDIM DA PENHA</td>\n",
       "      <td>0.0</td>\n",
       "      <td>1.0</td>\n",
       "      <td>1.0</td>\n",
       "      <td>0.0</td>\n",
       "      <td>0.0</td>\n",
       "      <td>0.0</td>\n",
       "      <td>No</td>\n",
       "    </tr>\n",
       "  </tbody>\n",
       "</table>\n",
       "</div>"
      ],
      "text/plain": [
       "      PatientId  AppointmentID Gender          ScheduledDay  \\\n",
       "0  2.987250e+13      5642903.0      F  2016-04-29T18:38:08Z   \n",
       "1  5.589978e+14      5642503.0      M  2016-04-29T16:08:27Z   \n",
       "2  4.262962e+12      5642549.0      F  2016-04-29T16:19:04Z   \n",
       "3  8.679512e+11      5642828.0      F  2016-04-29T17:29:31Z   \n",
       "4  8.841186e+12      5642494.0      F  2016-04-29T16:07:23Z   \n",
       "\n",
       "         AppointmentDay   Age      Neighbourhood  Scholarship  Hipertension  \\\n",
       "0  2016-04-29T00:00:00Z  62.0    JARDIM DA PENHA          0.0           1.0   \n",
       "1  2016-04-29T00:00:00Z  56.0    JARDIM DA PENHA          0.0           0.0   \n",
       "2  2016-04-29T00:00:00Z  62.0      MATA DA PRAIA          0.0           0.0   \n",
       "3  2016-04-29T00:00:00Z   8.0  PONTAL DE CAMBURI          0.0           0.0   \n",
       "4  2016-04-29T00:00:00Z  56.0    JARDIM DA PENHA          0.0           1.0   \n",
       "\n",
       "   Diabetes  Alcoholism  Handcap  SMS_received No-show  \n",
       "0       0.0         0.0      0.0           0.0      No  \n",
       "1       0.0         0.0      0.0           0.0      No  \n",
       "2       0.0         0.0      0.0           0.0      No  \n",
       "3       0.0         0.0      0.0           0.0      No  \n",
       "4       1.0         0.0      0.0           0.0      No  "
      ]
     },
     "execution_count": 2,
     "metadata": {},
     "output_type": "execute_result"
    }
   ],
   "source": [
    "# data from Kaggle and Udacity: noshowappointments-kagglev2-may-2016.csv\n",
    "\n",
    "# df = pd.read_csv('/Database_No_show_appointments/noshowappointments-kagglev2-may-2016.csv')\n",
    "# df.head()\n",
    "# error: dataset too large\n",
    "\n",
    "# use dask\n",
    "df_dd = dd.read_csv(\"Database_No_show_appointments/noshowappointments-kagglev2-may-2016.csv\", assume_missing=True)\n",
    "df_dd.head(5)"
   ]
  },
  {
   "cell_type": "code",
   "execution_count": 3,
   "metadata": {},
   "outputs": [],
   "source": [
    "# change the dataframe type to continue using pandas\n",
    "df = df_dd.compute()"
   ]
  },
  {
   "cell_type": "markdown",
   "metadata": {},
   "source": [
    "The dataset was too large to import with pandas, so I imported it with dask and then converted it to a pandas dataframe. Above is the first five rows from the dataset.\n",
    "\n",
    "Here is a overview of the data:"
   ]
  },
  {
   "cell_type": "code",
   "execution_count": 4,
   "metadata": {},
   "outputs": [
    {
     "name": "stdout",
     "output_type": "stream",
     "text": [
      "<class 'pandas.core.frame.DataFrame'>\n",
      "RangeIndex: 110527 entries, 0 to 110526\n",
      "Data columns (total 14 columns):\n",
      "PatientId         110527 non-null float64\n",
      "AppointmentID     110527 non-null float64\n",
      "Gender            110527 non-null object\n",
      "ScheduledDay      110527 non-null object\n",
      "AppointmentDay    110527 non-null object\n",
      "Age               110527 non-null float64\n",
      "Neighbourhood     110527 non-null object\n",
      "Scholarship       110527 non-null float64\n",
      "Hipertension      110527 non-null float64\n",
      "Diabetes          110527 non-null float64\n",
      "Alcoholism        110527 non-null float64\n",
      "Handcap           110527 non-null float64\n",
      "SMS_received      110527 non-null float64\n",
      "No-show           110527 non-null object\n",
      "dtypes: float64(9), object(5)\n",
      "memory usage: 11.8+ MB\n"
     ]
    }
   ],
   "source": [
    "# quick overview of data\n",
    "df.info()"
   ]
  },
  {
   "cell_type": "markdown",
   "metadata": {},
   "source": [
    "Currently the dataset has 110527 rows and 14 columns."
   ]
  },
  {
   "cell_type": "code",
   "execution_count": 5,
   "metadata": {},
   "outputs": [
    {
     "name": "stdout",
     "output_type": "stream",
     "text": [
      "There are 0 duplicated rows.\n"
     ]
    }
   ],
   "source": [
    "# look for duplicated rows\n",
    "d = sum(df.duplicated())\n",
    "print('There are', d, 'duplicated rows.')"
   ]
  },
  {
   "cell_type": "markdown",
   "metadata": {},
   "source": [
    "I searched for duplicated rows, but there were none."
   ]
  },
  {
   "cell_type": "code",
   "execution_count": 6,
   "metadata": {},
   "outputs": [
    {
     "name": "stdout",
     "output_type": "stream",
     "text": [
      "Appointment IDs are duplicated 0 times.\n"
     ]
    }
   ],
   "source": [
    "# look for duplicates where none should be\n",
    "s = sum(df['AppointmentID'].duplicated())\n",
    "print('Appointment IDs are duplicated', s, 'times.')"
   ]
  },
  {
   "cell_type": "markdown",
   "metadata": {},
   "source": [
    "I also searched for duplicated appointment IDs. There should only be one record per appointment. There were no duplicates.\n",
    "\n",
    "Some column names and datatypes need to be changed.\n",
    "\n",
    "First, ScheduledDay and AppointmentDay are 'object' datatypes. I changed these to date."
   ]
  },
  {
   "cell_type": "code",
   "execution_count": 7,
   "metadata": {},
   "outputs": [],
   "source": [
    "# change day columns to datetime type\n",
    "df[['ScheduledDay', 'AppointmentDay']] = df[['ScheduledDay', 'AppointmentDay']].apply(pd.to_datetime)\n",
    "df['Scheduled_Date'] = df['ScheduledDay'].dt.date\n",
    "df['Appointment_Date'] = df['AppointmentDay'].dt.date\n",
    "\n",
    "# drop any appointments that were scheduled after the appointment date\n",
    "df = df.loc[df['Scheduled_Date'] <= df['Appointment_Date']]"
   ]
  },
  {
   "cell_type": "markdown",
   "metadata": {},
   "source": [
    "Also, I removed appointments that were scheduled after they occurred."
   ]
  },
  {
   "cell_type": "code",
   "execution_count": 8,
   "metadata": {},
   "outputs": [],
   "source": [
    "# get the difference in time between scheduling and the appointment date\n",
    "df['Time_Difference'] = (df.Appointment_Date - df.Scheduled_Date).astype('timedelta64[D]')\n",
    "\n",
    "#get rid of NaN\n",
    "df['Time_Difference'] = df['Time_Difference'].replace('NaN', 0)"
   ]
  },
  {
   "cell_type": "markdown",
   "metadata": {},
   "source": [
    "I created a column called 'Time_Difference' that represents the delay between scheduling an appointment and the appointment date. I changed null values in this column to zero."
   ]
  },
  {
   "cell_type": "code",
   "execution_count": 9,
   "metadata": {},
   "outputs": [
    {
     "data": {
      "text/plain": [
       "1    88208\n",
       "0    22314\n",
       "Name: No-show, dtype: int64"
      ]
     },
     "execution_count": 9,
     "metadata": {},
     "output_type": "execute_result"
    }
   ],
   "source": [
    "# make attendance make sense\n",
    "df['No-show'] = df['No-show'].replace(['No'],'hold')\n",
    "\n",
    "# if no-show is yes, they didn't show up and the value should be attendance = 0\n",
    "df['No-show'] = df['No-show'].replace(['Yes'],'0')\n",
    "\n",
    "# if no-show is no, they did show up and the value should be attendance = 1\n",
    "df['No-show'] = df['No-show'].replace(['hold'],'1')\n",
    "\n",
    "df['No-show'].value_counts()"
   ]
  },
  {
   "cell_type": "markdown",
   "metadata": {},
   "source": [
    "There are 88208 appointments attended, and 22314 appointments missed. \n",
    "\n",
    "I changed the No-show column and values to be less confusing. In the original data, a 'no' in the 'No-show' column indicates a kept appointment and a 'Yes' indicates a missed appointment. A 'yes' in a row about appointments indicating that the appointment was kept is clearer."
   ]
  },
  {
   "cell_type": "code",
   "execution_count": 10,
   "metadata": {},
   "outputs": [],
   "source": [
    "# change column headings\n",
    "df = df.rename(columns = {'AppointmentID': 'Appointment_ID',\n",
    "                          'PatientId': 'Patient_ID',\n",
    "                          'AppointmentDay': 'Appointment_Day',\n",
    "                          'ScheduledDay': 'Scheduled_Day',\n",
    "                          'Scholarship': 'Assistance',\n",
    "                          'Neighbourhood': 'Hospital',\n",
    "                          'Hipertension': 'Hypertension',\n",
    "                          'Handcap': 'Disability',\n",
    "                          'No-show': 'Attendance'})"
   ]
  },
  {
   "cell_type": "markdown",
   "metadata": {},
   "source": [
    "The different capitalisation between PatientId and AppointmentID is confusing. Hypertension is spelled as 'hipertension'.  I changed these three column headers to 'Patient_ID', 'Appointment_ID' and 'Hypertension'. \n",
    "\n",
    "As column headers, 'Disability' is preferrable to 'Handcap' and 'Assistance' is clearer than 'Scholarship'. 'Neighbourhood' refers to the location of the hospital, so that has been changed to 'Hospital'. Also, underscores were added where a space would naturally go to make the headers easier to read."
   ]
  },
  {
   "cell_type": "code",
   "execution_count": 11,
   "metadata": {},
   "outputs": [
    {
     "name": "stdout",
     "output_type": "stream",
     "text": [
      "(110522, 17)\n"
     ]
    }
   ],
   "source": [
    "# make a value counter/printer because will use it more than once\n",
    "def getvaluecounts(df, column_1, column_2):\n",
    "    x = column_1\n",
    "    y = column_2\n",
    "    count = df.groupby([x, y]).count()\n",
    "    return(count)\n",
    "\n",
    "df_appointments = df\n",
    "\n",
    "# change values to not scientific numbers, also + 1 (I don't want a zero)\n",
    "for column in ['Appointment_ID','Hospital','Patient_ID', 'Attendance']:\n",
    "         df_appointments[column] = df_appointments.groupby(column).ngroup() + 1\n",
    "\n",
    "x = df_appointments.shape\n",
    "print(x)"
   ]
  },
  {
   "cell_type": "markdown",
   "metadata": {},
   "source": [
    "I made a function for getting value counts easily. Currently the dataset has 110,522 rows and 17 columns.\n",
    " \n",
    "I changed the values for Patient_ID and Appointment_ID as they were too long for easy reading: patient IDs are needlessly in scientific notation. The patient ids need to be unique, but their actual value is probably irrelevant. As they were randomly assigned, I changed them to integers.\n",
    "\n",
    "Some patients have multiple appointments. It would make more sense to add up each patient's appointments by attendance. That way, each patient is represented once. If we need information about individual appointments, we can use the df_appointments dataframe for analysis. \n",
    "\n",
    "What if a patient had a summer birthday?"
   ]
  },
  {
   "cell_type": "code",
   "execution_count": 12,
   "metadata": {
    "scrolled": true
   },
   "outputs": [
    {
     "name": "stdout",
     "output_type": "stream",
     "text": [
      "       Patient_ID\n",
      "count            \n",
      "1           61131\n",
      "2            1168\n"
     ]
    }
   ],
   "source": [
    "# make a df and name it throw-away so i don't use it later by accident\n",
    "df_throw_away = df\n",
    "\n",
    "# i only need age and patient ID for this\n",
    "df_throw_away = pd.DataFrame(df, columns = ['Age','Patient_ID'])\n",
    "\n",
    "# both columns are changed to numbers(thanks ngroup)\n",
    "for column in ['Age','Patient_ID']:\n",
    "         df_throw_away[column] = df_throw_away.groupby(column).ngroup()\n",
    "        \n",
    "'''\n",
    "i assume first birthday value is kept \n",
    "when patient id duplicates are dropped\n",
    "but it's only a one-year difference\n",
    "so i'm not going to worry about it\n",
    "'''\n",
    "# how to groupby and get nunique: thank you grepper\n",
    "df_birthday_people = df_throw_away.groupby('Patient_ID')['Age'].nunique().to_frame(name = 'count').reset_index() \n",
    "\n",
    "# tried to write a function to do this for me but i failed to make this:\n",
    "#\n",
    "#      df_disability = df.groupby('Patient_ID')['disability'].nunique().to_frame(name = 'count').reset_index() \n",
    "#      print(df_disability.groupby('count').count())\n",
    "#\n",
    "# be run by this:\n",
    "#      df_disability = pd.DataFrame(df,columns=['Patient_ID','Disability'])\n",
    "#      changestatus(df_disability, df['Patient_ID'], df['Disability'])\n",
    "\n",
    "#      def changestatus(df_1, column_1, column_2): # get the count of unique values from a column and print out\n",
    "#            df_1 = df.groupby(column_1)[column_2].nunique().to_frame(name = 'count').reset_index() \n",
    "#            df_1.groupby('count')\n",
    "#            print(df_1.groupby('count').count()) # <== keeps returning errors no matter what i do\n",
    "\n",
    "# how to get number of occurences in a column: marsja.se\n",
    "print(df_birthday_people.groupby('count').count())"
   ]
  },
  {
   "cell_type": "markdown",
   "metadata": {},
   "source": [
    "Some patients have 2 ages, birthdays happen.\n",
    "\n",
    "1168 patients had birthdays during the time period of data collection. This is interesting, but the relevance for this analysis is that I can use this code to see if any patients changed status on other factors such as alcoholism, diabetes, hypertension, assistance, gender, or hospital (they didn't).\n",
    "\n",
    "I can make a separate dataframe representing patients as individuals in my analysis section. The df_appointments dataframe represents individual appointments, not individual patients."
   ]
  },
  {
   "cell_type": "code",
   "execution_count": 13,
   "metadata": {},
   "outputs": [],
   "source": [
    "df_freq = df_appointments\n",
    "\n",
    "# make a frequency column\n",
    "df_freq['Frequency'] = df_appointments.groupby('Patient_ID')['Patient_ID'].transform('count')\n",
    "\n",
    "# make sure attendance is a number\n",
    "df_freq[\"Attendance\"] = df_freq[\"Attendance\"].astype(str).astype(int)\n",
    "\n",
    "# get number of appointments per patient\n",
    "df_freq['Attendance_Sum'] = df_freq.groupby('Patient_ID')['Attendance'].transform('sum')\n",
    "\n",
    "# get an ratio of total appointments kept divided by total appointments made\n",
    "df_freq['Attendance_Ratio'] = df_freq['Attendance_Sum']/df_freq['Frequency']\n",
    "        \n",
    "# make sure there are no 'inf' values, why aren't they just zero?\n",
    "df_freq = df_freq.drop_duplicates(subset=['Patient_ID'])\n",
    "\n",
    "df_patients = df_freq"
   ]
  },
  {
   "cell_type": "markdown",
   "metadata": {},
   "source": [
    "Now I have two dataframes to work from: a df_appointments to look at each appointment individually and a df_patients to look at each patient individually.\n",
    "\n",
    "I look for outliers for the patients' ages."
   ]
  },
  {
   "cell_type": "code",
   "execution_count": 14,
   "metadata": {
    "scrolled": true
   },
   "outputs": [
    {
     "data": {
      "text/plain": [
       "Text(0,0.5,'Number of Patients')"
      ]
     },
     "execution_count": 14,
     "metadata": {},
     "output_type": "execute_result"
    },
    {
     "data": {
      "image/png": "[encoded data removed]",
      "text/plain": [
       "<matplotlib.figure.Figure at 0x7fac4c5c65f8>"
      ]
     },
     "metadata": {
      "needs_background": "light"
     },
     "output_type": "display_data"
    }
   ],
   "source": [
    "# look for outliers on box plot.\n",
    "# df_appointments.boxplot('Age')\n",
    "df_patients.boxplot('Age').set_ylabel('Number of Patients')"
   ]
  },
  {
   "cell_type": "markdown",
   "metadata": {},
   "source": [
    "Here is a boxplot. The y-axis is the range of patient ages, showing an outlier for patient ages. I will remove it."
   ]
  },
  {
   "cell_type": "code",
   "execution_count": 15,
   "metadata": {},
   "outputs": [
    {
     "data": {
      "text/plain": [
       "Text(0,0.5,'Number of Patients')"
      ]
     },
     "execution_count": 15,
     "metadata": {},
     "output_type": "execute_result"
    },
    {
     "data": {
      "image/png": "[encoded data removed]",
      "text/plain": [
       "<matplotlib.figure.Figure at 0x7fac4c66e668>"
      ]
     },
     "metadata": {
      "needs_background": "light"
     },
     "output_type": "display_data"
    }
   ],
   "source": [
    "# get the mean and the standard deviation using numpy\n",
    "df_patients_mean, df_patients_std = np.mean(df_patients), np.std(df_patients)\n",
    "\n",
    "# identify ages beyond the standard deviation\n",
    "outside_the_box = df_patients_std * 3\n",
    "lowest, highest = df_patients_mean - outside_the_box, df_patients_mean + outside_the_box\n",
    "# make a df that only has ages in the box\n",
    "df_patients.drop(df_patients[df_patients['Age'] > highest['Age']].index, inplace = True)\n",
    "df_patients.drop(df_patients[df_patients['Age'] < lowest['Age']].index, inplace = True)\n",
    "df_patients.boxplot('Age').set_ylabel('Number of Patients')"
   ]
  },
  {
   "cell_type": "markdown",
   "metadata": {},
   "source": [
    "I removed the patient outliers by age. Here is a boxplot representing the age column. The y-axis is the range of patient ages.\n",
    "\n",
    "The data is cleaned. Here are the first five rows:"
   ]
  },
  {
   "cell_type": "code",
   "execution_count": 16,
   "metadata": {},
   "outputs": [
    {
     "data": {
      "text/html": [
       "<div>\n",
       "<style scoped>\n",
       "    .dataframe tbody tr th:only-of-type {\n",
       "        vertical-align: middle;\n",
       "    }\n",
       "\n",
       "    .dataframe tbody tr th {\n",
       "        vertical-align: top;\n",
       "    }\n",
       "\n",
       "    .dataframe thead th {\n",
       "        text-align: right;\n",
       "    }\n",
       "</style>\n",
       "<table border=\"1\" class=\"dataframe\">\n",
       "  <thead>\n",
       "    <tr style=\"text-align: right;\">\n",
       "      <th></th>\n",
       "      <th>Patient_ID</th>\n",
       "      <th>Appointment_ID</th>\n",
       "      <th>Gender</th>\n",
       "      <th>Scheduled_Day</th>\n",
       "      <th>Appointment_Day</th>\n",
       "      <th>Age</th>\n",
       "      <th>Hospital</th>\n",
       "      <th>Assistance</th>\n",
       "      <th>Hypertension</th>\n",
       "      <th>Diabetes</th>\n",
       "      <th>Alcoholism</th>\n",
       "      <th>Disability</th>\n",
       "      <th>SMS_received</th>\n",
       "      <th>Attendance</th>\n",
       "      <th>Scheduled_Date</th>\n",
       "      <th>Appointment_Date</th>\n",
       "      <th>Time_Difference</th>\n",
       "      <th>Frequency</th>\n",
       "      <th>Attendance_Sum</th>\n",
       "      <th>Attendance_Ratio</th>\n",
       "    </tr>\n",
       "  </thead>\n",
       "  <tbody>\n",
       "    <tr>\n",
       "      <th>0</th>\n",
       "      <td>30846</td>\n",
       "      <td>29333</td>\n",
       "      <td>F</td>\n",
       "      <td>2016-04-29 18:38:08</td>\n",
       "      <td>2016-04-29</td>\n",
       "      <td>62.0</td>\n",
       "      <td>40</td>\n",
       "      <td>0.0</td>\n",
       "      <td>1.0</td>\n",
       "      <td>0.0</td>\n",
       "      <td>0.0</td>\n",
       "      <td>0.0</td>\n",
       "      <td>0.0</td>\n",
       "      <td>2</td>\n",
       "      <td>2016-04-29</td>\n",
       "      <td>2016-04-29</td>\n",
       "      <td>0.0</td>\n",
       "      <td>2</td>\n",
       "      <td>4</td>\n",
       "      <td>2.0</td>\n",
       "    </tr>\n",
       "    <tr>\n",
       "      <th>1</th>\n",
       "      <td>55326</td>\n",
       "      <td>29080</td>\n",
       "      <td>M</td>\n",
       "      <td>2016-04-29 16:08:27</td>\n",
       "      <td>2016-04-29</td>\n",
       "      <td>56.0</td>\n",
       "      <td>40</td>\n",
       "      <td>0.0</td>\n",
       "      <td>0.0</td>\n",
       "      <td>0.0</td>\n",
       "      <td>0.0</td>\n",
       "      <td>0.0</td>\n",
       "      <td>0.0</td>\n",
       "      <td>2</td>\n",
       "      <td>2016-04-29</td>\n",
       "      <td>2016-04-29</td>\n",
       "      <td>0.0</td>\n",
       "      <td>2</td>\n",
       "      <td>4</td>\n",
       "      <td>2.0</td>\n",
       "    </tr>\n",
       "    <tr>\n",
       "      <th>2</th>\n",
       "      <td>15723</td>\n",
       "      <td>29116</td>\n",
       "      <td>F</td>\n",
       "      <td>2016-04-29 16:19:04</td>\n",
       "      <td>2016-04-29</td>\n",
       "      <td>62.0</td>\n",
       "      <td>46</td>\n",
       "      <td>0.0</td>\n",
       "      <td>0.0</td>\n",
       "      <td>0.0</td>\n",
       "      <td>0.0</td>\n",
       "      <td>0.0</td>\n",
       "      <td>0.0</td>\n",
       "      <td>2</td>\n",
       "      <td>2016-04-29</td>\n",
       "      <td>2016-04-29</td>\n",
       "      <td>0.0</td>\n",
       "      <td>2</td>\n",
       "      <td>4</td>\n",
       "      <td>2.0</td>\n",
       "    </tr>\n",
       "    <tr>\n",
       "      <th>3</th>\n",
       "      <td>9019</td>\n",
       "      <td>29300</td>\n",
       "      <td>F</td>\n",
       "      <td>2016-04-29 17:29:31</td>\n",
       "      <td>2016-04-29</td>\n",
       "      <td>8.0</td>\n",
       "      <td>55</td>\n",
       "      <td>0.0</td>\n",
       "      <td>0.0</td>\n",
       "      <td>0.0</td>\n",
       "      <td>0.0</td>\n",
       "      <td>0.0</td>\n",
       "      <td>0.0</td>\n",
       "      <td>2</td>\n",
       "      <td>2016-04-29</td>\n",
       "      <td>2016-04-29</td>\n",
       "      <td>0.0</td>\n",
       "      <td>2</td>\n",
       "      <td>3</td>\n",
       "      <td>1.5</td>\n",
       "    </tr>\n",
       "    <tr>\n",
       "      <th>4</th>\n",
       "      <td>23942</td>\n",
       "      <td>29074</td>\n",
       "      <td>F</td>\n",
       "      <td>2016-04-29 16:07:23</td>\n",
       "      <td>2016-04-29</td>\n",
       "      <td>56.0</td>\n",
       "      <td>40</td>\n",
       "      <td>0.0</td>\n",
       "      <td>1.0</td>\n",
       "      <td>1.0</td>\n",
       "      <td>0.0</td>\n",
       "      <td>0.0</td>\n",
       "      <td>0.0</td>\n",
       "      <td>2</td>\n",
       "      <td>2016-04-29</td>\n",
       "      <td>2016-04-29</td>\n",
       "      <td>0.0</td>\n",
       "      <td>1</td>\n",
       "      <td>2</td>\n",
       "      <td>2.0</td>\n",
       "    </tr>\n",
       "  </tbody>\n",
       "</table>\n",
       "</div>"
      ],
      "text/plain": [
       "   Patient_ID  Appointment_ID Gender       Scheduled_Day Appointment_Day  \\\n",
       "0       30846           29333      F 2016-04-29 18:38:08      2016-04-29   \n",
       "1       55326           29080      M 2016-04-29 16:08:27      2016-04-29   \n",
       "2       15723           29116      F 2016-04-29 16:19:04      2016-04-29   \n",
       "3        9019           29300      F 2016-04-29 17:29:31      2016-04-29   \n",
       "4       23942           29074      F 2016-04-29 16:07:23      2016-04-29   \n",
       "\n",
       "    Age  Hospital  Assistance  Hypertension  Diabetes  Alcoholism  Disability  \\\n",
       "0  62.0        40         0.0           1.0       0.0         0.0         0.0   \n",
       "1  56.0        40         0.0           0.0       0.0         0.0         0.0   \n",
       "2  62.0        46         0.0           0.0       0.0         0.0         0.0   \n",
       "3   8.0        55         0.0           0.0       0.0         0.0         0.0   \n",
       "4  56.0        40         0.0           1.0       1.0         0.0         0.0   \n",
       "\n",
       "   SMS_received  Attendance Scheduled_Date Appointment_Date  Time_Difference  \\\n",
       "0           0.0           2     2016-04-29       2016-04-29              0.0   \n",
       "1           0.0           2     2016-04-29       2016-04-29              0.0   \n",
       "2           0.0           2     2016-04-29       2016-04-29              0.0   \n",
       "3           0.0           2     2016-04-29       2016-04-29              0.0   \n",
       "4           0.0           2     2016-04-29       2016-04-29              0.0   \n",
       "\n",
       "   Frequency  Attendance_Sum  Attendance_Ratio  \n",
       "0          2               4               2.0  \n",
       "1          2               4               2.0  \n",
       "2          2               4               2.0  \n",
       "3          2               3               1.5  \n",
       "4          1               2               2.0  "
      ]
     },
     "execution_count": 16,
     "metadata": {},
     "output_type": "execute_result"
    }
   ],
   "source": [
    "# take a peek\n",
    "df_appointments.head(5)"
   ]
  },
  {
   "cell_type": "markdown",
   "metadata": {},
   "source": [
    "<a id='eda'></a>\n",
    "## Exploratory Data Analysis\n",
    "The first part of this investigation is an analysis of the appointments.\n",
    "\n",
    "First, I compare attendance for same-day appointments versus other appointments. Then, for appointments with a more than one day delay between scheduling and appointment date, I examine how the length of the delay affects attendance. Also, I compare appointment attendance at different hospitals.\n",
    "\n",
    "The following part of my investigation is an analysis of patient factors.\n",
    "\n",
    "For patient information, I checked to see the mean age of patients by attendance at appointments. For this, I divided patients into two groups, attenders and missers (by percentage of appointment attended).\n",
    "\n",
    "I compared these two groups by patient demographic features like government assistance and hospital location, and health factors.\n",
    "\n",
    "Can I predict what type of person is most likely to keep an appointment?\n",
    "\n",
    "[[I also compare the hospitals where the appointments are missed to those where appointments are kept. ]]\n",
    "\n",
    "I also compare the hospitals on the age, assistance, and disablity level of their patients.\n",
    "\n",
    "### Which appointments are being missed? Appointment Questions Analysis\n",
    "\n",
    "I wondered if same day appointments were missed at a different rate, because presumably these were urgent appointments. "
   ]
  },
  {
   "cell_type": "code",
   "execution_count": 17,
   "metadata": {
    "scrolled": false
   },
   "outputs": [
    {
     "data": {
      "text/plain": [
       "Text(0,0.5,'Number of Appointments')"
      ]
     },
     "execution_count": 17,
     "metadata": {},
     "output_type": "execute_result"
    },
    {
     "data": {
      "image/png": "[encoded data removed]",
      "text/plain": [
       "<matplotlib.figure.Figure at 0x7fac4c60ebe0>"
      ]
     },
     "metadata": {
      "needs_background": "light"
     },
     "output_type": "display_data"
    }
   ],
   "source": [
    "# get a df of appointments made on the same day they were scheduled\n",
    "df_same_day_appointment = pd.DataFrame(df_appointments,columns=['Attendance','Time_Difference', 'Scheduled_Date', 'Appointment_Date'])\n",
    "df_same_day_appointment = df_same_day_appointment.loc[df_same_day_appointment['Scheduled_Date'] == df_same_day_appointment['Appointment_Date']] \n",
    "\n",
    "# get a df of appointments made on a different day than they were scheduled\n",
    "df_not_same_day_appointment = pd.DataFrame(df_appointments,columns=['Attendance','Time_Difference', 'Scheduled_Date', 'Appointment_Date'])\n",
    "df_not_same_day_appointment = df_not_same_day_appointment.loc[df_not_same_day_appointment['Scheduled_Date'] != df_not_same_day_appointment['Appointment_Date']]\n",
    "\n",
    "# show the bar chart\n",
    "df_same_day_appointment['Attendance'].value_counts().plot(kind='bar', title = 'Same-day Appointments', cmap = 'rainbow')\n",
    "plt.tick_params(axis = 'x', which = 'both', bottom = False, top = False, labelbottom = False)\n",
    "plt.xlabel('Appointment Attendance', fontsize = 16)\n",
    "plt.ylabel('Number of Appointments', fontsize = 16)"
   ]
  },
  {
   "cell_type": "markdown",
   "metadata": {},
   "source": [
    "Absolutely, same-day appointments have an excellent attendance rate. Anyone might have a reason for an urgent appointment and it is unlikely they would skip it. The most likely patient to keep an appointment will have a same-day appointment. This is common sense.\n",
    "\n",
    "To determine the effect of a longer delay between scheduling an appointment and the appointment date, I look at the correlation between attendance and delay between scheduling and appointment keeping for the appointments that are not same-day appointments."
   ]
  },
  {
   "cell_type": "code",
   "execution_count": 18,
   "metadata": {},
   "outputs": [],
   "source": [
    "def getcorr(df, column_1, column_2): # get the correlation of 2 values from a df and print them out\n",
    "    x = column_1\n",
    "    y = column_2\n",
    "    corr = x.corr(y)\n",
    "   # corr2 = corr.round(2)\n",
    "    corr2 = round(corr,1)\n",
    "    print('The correlation is', corr2)"
   ]
  },
  {
   "cell_type": "code",
   "execution_count": 19,
   "metadata": {},
   "outputs": [
    {
     "name": "stdout",
     "output_type": "stream",
     "text": [
      "The correlation is -0.1\n",
      "\n",
      "             Time_Difference\n",
      "Attendance                 \n",
      "1                 17.218254\n",
      "2                 15.013142\n"
     ]
    }
   ],
   "source": [
    "# make a dataframe to hold not same day appointments\n",
    "df_nsd = pd.DataFrame(df_not_same_day_appointment, columns=['Attendance','Time_Difference'])\n",
    "\n",
    "# drop same day apps\n",
    "df_nsd = df_nsd.loc[df_nsd['Time_Difference'] > 0]\n",
    "\n",
    "# get the correlation between attendance and delay\n",
    "getcorr(df_nsd, df_nsd['Attendance'], df_nsd['Time_Difference'])\n",
    "\n",
    "df_nsd = pd.DataFrame(df_nsd,columns=['Attendance','Time_Difference'])\n",
    "y = df_nsd.groupby('Attendance').mean()\n",
    "print('\\n',y)"
   ]
  },
  {
   "cell_type": "markdown",
   "metadata": {},
   "source": [
    "At a glance, there does not seem to be very much difference in attendance by delay between scheduling and appointment date. The correlation is low and the time delay is 17 days for missed appointments and 15 days for attended appointments.\n",
    "\n",
    "Next I look for outliers, not including same-day appointments."
   ]
  },
  {
   "cell_type": "code",
   "execution_count": 20,
   "metadata": {},
   "outputs": [
    {
     "data": {
      "text/plain": [
       "Text(0,0.5,'Number of Appointments')"
      ]
     },
     "execution_count": 20,
     "metadata": {},
     "output_type": "execute_result"
    },
    {
     "data": {
      "image/png": "[encoded data removed]",
      "text/plain": [
       "<matplotlib.figure.Figure at 0x7fac4c47a9b0>"
      ]
     },
     "metadata": {
      "needs_background": "light"
     },
     "output_type": "display_data"
    }
   ],
   "source": [
    "# get attendance and time difference of all the appointments\n",
    "df_nsd.boxplot('Time_Difference').set_ylabel('Number of Appointments')"
   ]
  },
  {
   "cell_type": "markdown",
   "metadata": {},
   "source": [
    "I then remove outliers in delay length and make a new boxplot to show the results."
   ]
  },
  {
   "cell_type": "code",
   "execution_count": 21,
   "metadata": {},
   "outputs": [
    {
     "data": {
      "text/plain": [
       "Text(0,0.5,'Number of Appointments')"
      ]
     },
     "execution_count": 21,
     "metadata": {},
     "output_type": "execute_result"
    },
    {
     "data": {
      "image/png": "[encoded data removed]",
      "text/plain": [
       "<matplotlib.figure.Figure at 0x7fac475ce5f8>"
      ]
     },
     "metadata": {
      "needs_background": "light"
     },
     "output_type": "display_data"
    }
   ],
   "source": [
    "# get the mean and the standard deviation using numpy\n",
    "df_delay_std, df_delay_std = np.mean(df_nsd), np.std(df_nsd)\n",
    "\n",
    "# identify ages beyond the standard deviation\n",
    "outside = df_delay_std * 3\n",
    "lowest, highest = df_delay_std - outside, df_delay_std + outside\n",
    "\n",
    "# make a df without outliers\n",
    "df_nsd.drop(df_nsd[df_nsd['Time_Difference'] > highest['Time_Difference']].index, inplace = True)\n",
    "df_nsd.drop(df_nsd[df_nsd['Time_Difference'] < lowest['Time_Difference']].index, inplace = True)\n",
    "df_nsd.boxplot('Time_Difference').set_ylabel('Number of Appointments')"
   ]
  },
  {
   "cell_type": "code",
   "execution_count": 22,
   "metadata": {
    "scrolled": false
   },
   "outputs": [
    {
     "data": {
      "text/html": [
       "<div>\n",
       "<style scoped>\n",
       "    .dataframe tbody tr th:only-of-type {\n",
       "        vertical-align: middle;\n",
       "    }\n",
       "\n",
       "    .dataframe tbody tr th {\n",
       "        vertical-align: top;\n",
       "    }\n",
       "\n",
       "    .dataframe thead th {\n",
       "        text-align: right;\n",
       "    }\n",
       "</style>\n",
       "<table border=\"1\" class=\"dataframe\">\n",
       "  <thead>\n",
       "    <tr style=\"text-align: right;\">\n",
       "      <th></th>\n",
       "      <th>Time_Difference</th>\n",
       "    </tr>\n",
       "    <tr>\n",
       "      <th>Attendance</th>\n",
       "      <th></th>\n",
       "    </tr>\n",
       "  </thead>\n",
       "  <tbody>\n",
       "    <tr>\n",
       "      <th>1</th>\n",
       "      <td>15.901029</td>\n",
       "    </tr>\n",
       "    <tr>\n",
       "      <th>2</th>\n",
       "      <td>13.719940</td>\n",
       "    </tr>\n",
       "  </tbody>\n",
       "</table>\n",
       "</div>"
      ],
      "text/plain": [
       "            Time_Difference\n",
       "Attendance                 \n",
       "1                 15.901029\n",
       "2                 13.719940"
      ]
     },
     "execution_count": 22,
     "metadata": {},
     "output_type": "execute_result"
    },
    {
     "data": {
      "image/png": "[encoded data removed]",
      "text/plain": [
       "<matplotlib.figure.Figure at 0x7fac3f8dbd68>"
      ]
     },
     "metadata": {
      "needs_background": "light"
     },
     "output_type": "display_data"
    }
   ],
   "source": [
    "# show attendance by delay \n",
    "df_at = pd.DataFrame(df_nsd,columns=['Attendance','Time_Difference'])\n",
    "\n",
    "# find the mean time difference in days between attended vs missed\n",
    "# when outliers are removed\n",
    "df_at.groupby('Attendance').describe(include = 'all')\n",
    "\n",
    "# graph showing mean of time difference for attendance\n",
    "df_at.groupby(['Attendance'])[['Time_Difference']].mean().plot(kind = 'bar', cmap = 'rainbow').set_ylabel('Mean Time Difference')\n",
    "df_at.groupby(['Attendance'])[['Time_Difference']].mean()"
   ]
  },
  {
   "cell_type": "markdown",
   "metadata": {},
   "source": [
    "Once outliers are removed, the disparity in attendance by length of time between scheduling and keeping an appointment is still small."
   ]
  },
  {
   "cell_type": "code",
   "execution_count": 23,
   "metadata": {},
   "outputs": [
    {
     "name": "stdout",
     "output_type": "stream",
     "text": [
      "The correlation is -0.1\n",
      "None\n"
     ]
    }
   ],
   "source": [
    "print(getcorr(df_at, df_at['Attendance'], df_at['Time_Difference']))"
   ]
  },
  {
   "cell_type": "markdown",
   "metadata": {},
   "source": [
    "The correlation between attendance and time difference remains low.\n",
    "\n",
    "It appears that, in general, if the time between scheduling and appointment date was any longer than 13 days, the appointments were more often missed.\n",
    "\n",
    "The same day appointments are heavily attended."
   ]
  },
  {
   "cell_type": "markdown",
   "metadata": {},
   "source": [
    "The day of the week of the appointment affected whether or not someone attended their appointment. The correlation between day of the week and attendance is:"
   ]
  },
  {
   "cell_type": "code",
   "execution_count": 24,
   "metadata": {},
   "outputs": [
    {
     "name": "stdout",
     "output_type": "stream",
     "text": [
      "The correlation is 0.0\n"
     ]
    }
   ],
   "source": [
    "df_days = df_appointments.reset_index()\n",
    "df_days['Day_of_Week'] = df_appointments['Appointment_Day'].dt.dayofweek\n",
    "df_d = pd.DataFrame(df_days,columns=['Day_of_Week','Attendance'])\n",
    "\n",
    "#df_d['Attendance'] = pd.to_numeric(df_days['Attendance'])\n",
    "\n",
    "getcorr(df_days, df_days['Day_of_Week'], df_days['Attendance'])"
   ]
  },
  {
   "cell_type": "code",
   "execution_count": 25,
   "metadata": {},
   "outputs": [
    {
     "data": {
      "text/html": [
       "<div>\n",
       "<style scoped>\n",
       "    .dataframe tbody tr th:only-of-type {\n",
       "        vertical-align: middle;\n",
       "    }\n",
       "\n",
       "    .dataframe tbody tr th {\n",
       "        vertical-align: top;\n",
       "    }\n",
       "\n",
       "    .dataframe thead tr th {\n",
       "        text-align: left;\n",
       "    }\n",
       "\n",
       "    .dataframe thead tr:last-of-type th {\n",
       "        text-align: right;\n",
       "    }\n",
       "</style>\n",
       "<table border=\"1\" class=\"dataframe\">\n",
       "  <thead>\n",
       "    <tr>\n",
       "      <th></th>\n",
       "      <th colspan=\"8\" halign=\"left\">Attendance</th>\n",
       "    </tr>\n",
       "    <tr>\n",
       "      <th></th>\n",
       "      <th>count</th>\n",
       "      <th>mean</th>\n",
       "      <th>std</th>\n",
       "      <th>min</th>\n",
       "      <th>25%</th>\n",
       "      <th>50%</th>\n",
       "      <th>75%</th>\n",
       "      <th>max</th>\n",
       "    </tr>\n",
       "    <tr>\n",
       "      <th>Day_of_Week</th>\n",
       "      <th></th>\n",
       "      <th></th>\n",
       "      <th></th>\n",
       "      <th></th>\n",
       "      <th></th>\n",
       "      <th></th>\n",
       "      <th></th>\n",
       "      <th></th>\n",
       "    </tr>\n",
       "  </thead>\n",
       "  <tbody>\n",
       "    <tr>\n",
       "      <th>0.0</th>\n",
       "      <td>22714.0</td>\n",
       "      <td>1.791494</td>\n",
       "      <td>0.406249</td>\n",
       "      <td>1.0</td>\n",
       "      <td>2.0</td>\n",
       "      <td>2.0</td>\n",
       "      <td>2.0</td>\n",
       "      <td>2.0</td>\n",
       "    </tr>\n",
       "    <tr>\n",
       "      <th>1.0</th>\n",
       "      <td>25633.0</td>\n",
       "      <td>1.798346</td>\n",
       "      <td>0.401243</td>\n",
       "      <td>1.0</td>\n",
       "      <td>2.0</td>\n",
       "      <td>2.0</td>\n",
       "      <td>2.0</td>\n",
       "      <td>2.0</td>\n",
       "    </tr>\n",
       "    <tr>\n",
       "      <th>2.0</th>\n",
       "      <td>25866.0</td>\n",
       "      <td>1.801709</td>\n",
       "      <td>0.398720</td>\n",
       "      <td>1.0</td>\n",
       "      <td>2.0</td>\n",
       "      <td>2.0</td>\n",
       "      <td>2.0</td>\n",
       "      <td>2.0</td>\n",
       "    </tr>\n",
       "    <tr>\n",
       "      <th>3.0</th>\n",
       "      <td>17246.0</td>\n",
       "      <td>1.808419</td>\n",
       "      <td>0.393556</td>\n",
       "      <td>1.0</td>\n",
       "      <td>2.0</td>\n",
       "      <td>2.0</td>\n",
       "      <td>2.0</td>\n",
       "      <td>2.0</td>\n",
       "    </tr>\n",
       "    <tr>\n",
       "      <th>4.0</th>\n",
       "      <td>19019.0</td>\n",
       "      <td>1.791367</td>\n",
       "      <td>0.406343</td>\n",
       "      <td>1.0</td>\n",
       "      <td>2.0</td>\n",
       "      <td>2.0</td>\n",
       "      <td>2.0</td>\n",
       "      <td>2.0</td>\n",
       "    </tr>\n",
       "    <tr>\n",
       "      <th>5.0</th>\n",
       "      <td>39.0</td>\n",
       "      <td>1.794872</td>\n",
       "      <td>0.409074</td>\n",
       "      <td>1.0</td>\n",
       "      <td>2.0</td>\n",
       "      <td>2.0</td>\n",
       "      <td>2.0</td>\n",
       "      <td>2.0</td>\n",
       "    </tr>\n",
       "  </tbody>\n",
       "</table>\n",
       "</div>"
      ],
      "text/plain": [
       "            Attendance                                             \n",
       "                 count      mean       std  min  25%  50%  75%  max\n",
       "Day_of_Week                                                        \n",
       "0.0            22714.0  1.791494  0.406249  1.0  2.0  2.0  2.0  2.0\n",
       "1.0            25633.0  1.798346  0.401243  1.0  2.0  2.0  2.0  2.0\n",
       "2.0            25866.0  1.801709  0.398720  1.0  2.0  2.0  2.0  2.0\n",
       "3.0            17246.0  1.808419  0.393556  1.0  2.0  2.0  2.0  2.0\n",
       "4.0            19019.0  1.791367  0.406343  1.0  2.0  2.0  2.0  2.0\n",
       "5.0               39.0  1.794872  0.409074  1.0  2.0  2.0  2.0  2.0"
      ]
     },
     "execution_count": 25,
     "metadata": {},
     "output_type": "execute_result"
    }
   ],
   "source": [
    "df_d.groupby('Day_of_Week').describe(include = 'all')"
   ]
  },
  {
   "cell_type": "markdown",
   "metadata": {},
   "source": [
    "The correlation between the day of the week that the appointment falls on and whether or not a patient kept that appointment is weak. Thursday appointments were marginally better attended than others, but the correlation is very poor.\n",
    "\n",
    "Attendance at appointments is not correlated to the location of the hospital."
   ]
  },
  {
   "cell_type": "code",
   "execution_count": 26,
   "metadata": {},
   "outputs": [
    {
     "name": "stdout",
     "output_type": "stream",
     "text": [
      "The correlation is 0.0\n"
     ]
    }
   ],
   "source": [
    "getcorr(df_appointments, df_appointments['Attendance_Ratio'], df_appointments['Hospital'])"
   ]
  },
  {
   "cell_type": "markdown",
   "metadata": {},
   "source": [
    "There are about 80 hospitals. Some do get more appointments than others, which can be seen below. The best attended will have the highest hospital attendance ratio, while having at least an average frequency of attended appointments. \n",
    "\n",
    "To discover the hospital with the highest attendance ratio, I added a column for a sum of each hospital's frequency of appearance, a column of kept appointments sum per hospital, and hospital appointment attendance ratio, the ratio for each hospital of attended to missed appointments."
   ]
  },
  {
   "cell_type": "code",
   "execution_count": 27,
   "metadata": {},
   "outputs": [
    {
     "data": {
      "text/plain": [
       "Text(0,0.5,'Number of Attended Appointments')"
      ]
     },
     "execution_count": 27,
     "metadata": {},
     "output_type": "execute_result"
    },
    {
     "data": {
      "image/png": "[encoded data removed]",
      "text/plain": [
       "<matplotlib.figure.Figure at 0x7fac4c568ef0>"
      ]
     },
     "metadata": {
      "needs_background": "light"
     },
     "output_type": "display_data"
    }
   ],
   "source": [
    "# get most attended hospitals\n",
    "df_hospital_freq = pd.DataFrame(df_appointments,columns=['Hospital', 'Attendance'])\n",
    "\n",
    "# make a frequency column\n",
    "df_hospital_freq['Hospital_Frequency'] = df_appointments.groupby('Hospital')['Hospital'].transform('count')\n",
    "\n",
    "# make sure attendance is a number\n",
    "df_hospital_freq[\"Attendance\"] = df_hospital_freq[\"Attendance\"].astype(str).astype(int)\n",
    "\n",
    "# get number of appointments per patient\n",
    "df_hospital_freq['Hospital_Attendance_Sum'] = df_hospital_freq.groupby('Hospital')['Attendance'].transform('sum')\n",
    "\n",
    "# get an ratio of total appointments kept divided by total appointments made\n",
    "df_hospital_freq['Hospital_Attendance_Ratio'] = df_hospital_freq['Hospital_Attendance_Sum']/df_hospital_freq['Hospital_Frequency']\n",
    "        \n",
    "# make sure there are no 'inf' values, why aren't they just zero?\n",
    "df_hospital_freq = df_hospital_freq.drop_duplicates(subset=['Hospital'])\n",
    "df_hospital_freq.plot(figsize=(10,10),kind = 'scatter', x = 'Hospital', y = 'Hospital_Attendance_Sum', c = 'Hospital_Attendance_Ratio', cmap = 'nipy_spectral', s = 100, title = 'Individual Hospitals by Number of Attended Appointments', colorbar = 'True')\n",
    "plt.ylabel('Number of Attended Appointments', fontsize = 12)"
   ]
  },
  {
   "cell_type": "markdown",
   "metadata": {},
   "source": [
    "Each dot above represents one of the 81 hospitals included in the dataset. The colour of the dots corresponds to the appointment attendance ratio for that hospital. The y-axis is the number of attended appointments. This is the best visual representation I could come up with that showed all 81 hospitals, their attendance ratios, and the number of attended appointments they had.\n",
    "\n",
    "The hospital with the most appointments is Hospital \\#39, with 6252 appointments. Out of the 81 hospitals, however, it is not the hospital with the best attendance ratio. It looks like there's a hospital numbered in the 40s with an attendance ratio above 1.8 and about 7000 attended appointments. Can I find it?"
   ]
  },
  {
   "cell_type": "code",
   "execution_count": 28,
   "metadata": {},
   "outputs": [
    {
     "data": {
      "text/html": [
       "<div>\n",
       "<style scoped>\n",
       "    .dataframe tbody tr th:only-of-type {\n",
       "        vertical-align: middle;\n",
       "    }\n",
       "\n",
       "    .dataframe tbody tr th {\n",
       "        vertical-align: top;\n",
       "    }\n",
       "\n",
       "    .dataframe thead th {\n",
       "        text-align: right;\n",
       "    }\n",
       "</style>\n",
       "<table border=\"1\" class=\"dataframe\">\n",
       "  <thead>\n",
       "    <tr style=\"text-align: right;\">\n",
       "      <th></th>\n",
       "      <th>Hospital</th>\n",
       "      <th>Attendance</th>\n",
       "      <th>Hospital_Frequency</th>\n",
       "      <th>Hospital_Attendance_Sum</th>\n",
       "      <th>Hospital_Attendance_Ratio</th>\n",
       "    </tr>\n",
       "  </thead>\n",
       "  <tbody>\n",
       "    <tr>\n",
       "      <th>0</th>\n",
       "      <td>40</td>\n",
       "      <td>2</td>\n",
       "      <td>3877</td>\n",
       "      <td>7123</td>\n",
       "      <td>1.837245</td>\n",
       "    </tr>\n",
       "    <tr>\n",
       "      <th>2</th>\n",
       "      <td>46</td>\n",
       "      <td>2</td>\n",
       "      <td>644</td>\n",
       "      <td>1178</td>\n",
       "      <td>1.829193</td>\n",
       "    </tr>\n",
       "    <tr>\n",
       "      <th>3</th>\n",
       "      <td>55</td>\n",
       "      <td>2</td>\n",
       "      <td>69</td>\n",
       "      <td>126</td>\n",
       "      <td>1.826087</td>\n",
       "    </tr>\n",
       "  </tbody>\n",
       "</table>\n",
       "</div>"
      ],
      "text/plain": [
       "   Hospital  Attendance  Hospital_Frequency  Hospital_Attendance_Sum  \\\n",
       "0        40           2                3877                     7123   \n",
       "2        46           2                 644                     1178   \n",
       "3        55           2                  69                      126   \n",
       "\n",
       "   Hospital_Attendance_Ratio  \n",
       "0                   1.837245  \n",
       "2                   1.829193  \n",
       "3                   1.826087  "
      ]
     },
     "execution_count": 28,
     "metadata": {},
     "output_type": "execute_result"
    }
   ],
   "source": [
    "df_hospital_freq.head(3)"
   ]
  },
  {
   "cell_type": "markdown",
   "metadata": {},
   "source": [
    "Hospital \\#40 has an attendance ratio of ~1.84 and 7123 kept appointments: it is best attended hospital.\n",
    "\n",
    "The appointment factors are whether or not the appointment was for the same day it was scheduled, and the length of time between being scheduled and being kept, but not really the day of the week the appointment was for. The location of the appointment did not correlate to attendance levels.\n",
    "\n",
    "There is a clear winner of 'Best Attended Hospital' and that is Hospital \\#40."
   ]
  },
  {
   "cell_type": "markdown",
   "metadata": {},
   "source": [
    "### Whose appointments are being missed? Demographic questions analysis\n",
    "\n",
    "Certain demographic groups might be more likely to miss appointments.\n",
    "\n",
    "The mean age of those who keep or miss appointments seems about the same."
   ]
  },
  {
   "cell_type": "code",
   "execution_count": 29,
   "metadata": {},
   "outputs": [
    {
     "data": {
      "text/html": [
       "<div>\n",
       "<style scoped>\n",
       "    .dataframe tbody tr th:only-of-type {\n",
       "        vertical-align: middle;\n",
       "    }\n",
       "\n",
       "    .dataframe tbody tr th {\n",
       "        vertical-align: top;\n",
       "    }\n",
       "\n",
       "    .dataframe thead tr th {\n",
       "        text-align: left;\n",
       "    }\n",
       "\n",
       "    .dataframe thead tr:last-of-type th {\n",
       "        text-align: right;\n",
       "    }\n",
       "</style>\n",
       "<table border=\"1\" class=\"dataframe\">\n",
       "  <thead>\n",
       "    <tr>\n",
       "      <th></th>\n",
       "      <th colspan=\"8\" halign=\"left\">Age</th>\n",
       "    </tr>\n",
       "    <tr>\n",
       "      <th></th>\n",
       "      <th>count</th>\n",
       "      <th>mean</th>\n",
       "      <th>std</th>\n",
       "      <th>min</th>\n",
       "      <th>25%</th>\n",
       "      <th>50%</th>\n",
       "      <th>75%</th>\n",
       "      <th>max</th>\n",
       "    </tr>\n",
       "    <tr>\n",
       "      <th>Attendance</th>\n",
       "      <th></th>\n",
       "      <th></th>\n",
       "      <th></th>\n",
       "      <th></th>\n",
       "      <th></th>\n",
       "      <th></th>\n",
       "      <th></th>\n",
       "      <th></th>\n",
       "    </tr>\n",
       "  </thead>\n",
       "  <tbody>\n",
       "    <tr>\n",
       "      <th>1</th>\n",
       "      <td>22314.0</td>\n",
       "      <td>34.317872</td>\n",
       "      <td>21.965009</td>\n",
       "      <td>0.0</td>\n",
       "      <td>16.0</td>\n",
       "      <td>33.0</td>\n",
       "      <td>51.0</td>\n",
       "      <td>115.0</td>\n",
       "    </tr>\n",
       "    <tr>\n",
       "      <th>2</th>\n",
       "      <td>88208.0</td>\n",
       "      <td>37.790064</td>\n",
       "      <td>23.338878</td>\n",
       "      <td>-1.0</td>\n",
       "      <td>18.0</td>\n",
       "      <td>38.0</td>\n",
       "      <td>56.0</td>\n",
       "      <td>115.0</td>\n",
       "    </tr>\n",
       "  </tbody>\n",
       "</table>\n",
       "</div>"
      ],
      "text/plain": [
       "                Age                                                    \n",
       "              count       mean        std  min   25%   50%   75%    max\n",
       "Attendance                                                             \n",
       "1           22314.0  34.317872  21.965009  0.0  16.0  33.0  51.0  115.0\n",
       "2           88208.0  37.790064  23.338878 -1.0  18.0  38.0  56.0  115.0"
      ]
     },
     "execution_count": 29,
     "metadata": {},
     "output_type": "execute_result"
    }
   ],
   "source": [
    "df_aa = pd.DataFrame(df,columns=['Attendance','Age'])\n",
    "\n",
    "df_aa.groupby('Attendance').describe(include = 'all')"
   ]
  },
  {
   "cell_type": "markdown",
   "metadata": {},
   "source": [
    "These means, age 34 for attenders and age 37 for missers, are skewed by the number of babies in the data. At a glance, the babies are clearly both numerous and dependable. "
   ]
  },
  {
   "cell_type": "code",
   "execution_count": 30,
   "metadata": {
    "scrolled": true
   },
   "outputs": [
    {
     "data": {
      "image/png": "[encoded data removed]",
      "text/plain": [
       "<matplotlib.figure.Figure at 0x7fac4c452588>"
      ]
     },
     "metadata": {},
     "output_type": "display_data"
    }
   ],
   "source": [
    "df_sample_a = df.sample(n=9000)\n",
    "aa = pd.crosstab(df_sample_a.Age, df_sample_a.Attendance).plot(kind='hist', cmap = 'cool', figsize = (10,10))\n",
    "aa.legend(title='Attendance')\n",
    "plt.tick_params(left = False, right = False, labelleft = False, labelbottom = False, bottom = False)\n",
    "plt.title('Age of patient and attendance numbers of patients')\n",
    "plt.ylabel('Number of Patients', fontsize = 16)\n",
    "plt.xlabel('Patient Ages', fontsize = 16)\n",
    "plt.show()"
   ]
  },
  {
   "cell_type": "markdown",
   "metadata": {},
   "source": [
    "So many babies are keeping their appointments. "
   ]
  },
  {
   "cell_type": "markdown",
   "metadata": {},
   "source": [
    "Look at appointment ratios correlated to attenders vs missers. These are individual patients: they are either attenders (attended more than 75% of their appointments), or missers (missed more than 25% of their appointments)."
   ]
  },
  {
   "cell_type": "code",
   "execution_count": 31,
   "metadata": {},
   "outputs": [
    {
     "name": "stdout",
     "output_type": "stream",
     "text": [
      "The correlation is 0.1\n",
      "The correlation is nan\n"
     ]
    }
   ],
   "source": [
    "# use a sample this is taking ages\n",
    "df_sample_p = df_patients.sample(n=9000)\n",
    "df_keepers = df_sample_p.loc[df_sample_p['Attendance_Ratio'] > 0.75]\n",
    "df_missers = df_sample_p.loc[df_sample_p['Attendance_Ratio'] < 0.25]\n",
    "df_keepers['Attendance_Ratio'] = df_keepers['Attendance_Ratio'].astype('int')\n",
    "df_missers['Attendance_Ratio'] = df_missers['Attendance_Ratio'].astype('int')\n",
    "x = getcorr(df_keepers, df_keepers['Attendance_Ratio'],df_keepers['Age'])\n",
    "y = getcorr(df_missers, df_missers['Attendance_Ratio'],df_missers['Age'])"
   ]
  },
  {
   "cell_type": "markdown",
   "metadata": {},
   "source": [
    "The correlations are weak or non-existant, but missers are younger on average than attenders."
   ]
  },
  {
   "cell_type": "raw",
   "metadata": {},
   "source": [
    "Some patients are receiving government assistance. What is the correlation between patients on assistance and their attendance?"
   ]
  },
  {
   "cell_type": "code",
   "execution_count": 32,
   "metadata": {
    "scrolled": true
   },
   "outputs": [
    {
     "name": "stdout",
     "output_type": "stream",
     "text": [
      "The correlation is -0.0\n"
     ]
    },
    {
     "data": {
      "image/png": "[encoded data removed]",
      "text/plain": [
       "<matplotlib.figure.Figure at 0x7fac4c3649e8>"
      ]
     },
     "metadata": {
      "needs_background": "light"
     },
     "output_type": "display_data"
    }
   ],
   "source": [
    "getcorr(df, df['Assistance'], df['Attendance'])\n",
    "\n",
    "df_sample_a = df.sample(n=9000)\n",
    "aa = pd.crosstab(df_sample_a.Assistance, df_sample_a.Attendance).plot(kind='bar', cmap = 'spring', legend = True)\n",
    "plt.ylabel('Number of Patients')\n",
    "plt.xlabel('On Assistance')\n",
    "plt.legend([\"Missed\", \"Kept\"]);"
   ]
  },
  {
   "cell_type": "markdown",
   "metadata": {},
   "source": [
    "Athough there is no correlation between assistance and attendance, it appears that people who are not on assistance are more likely to keep an appointment.\n",
    "\n",
    "There are much fewer patients on assistance that otherwise.\n",
    "\n",
    "Is there a correlation between assistance and attendance ratio?"
   ]
  },
  {
   "cell_type": "code",
   "execution_count": 33,
   "metadata": {},
   "outputs": [
    {
     "name": "stdout",
     "output_type": "stream",
     "text": [
      "The correlation is -0.0\n"
     ]
    }
   ],
   "source": [
    "getcorr(df, df['Assistance'], df['Attendance_Ratio'])\n",
    "\n",
    "df_aaaa = pd.DataFrame(df_appointments,columns=['Attendance_Ratio','Assistance', 'Age'])"
   ]
  },
  {
   "cell_type": "markdown",
   "metadata": {},
   "source": [
    "There is no correlation between patients on assistance and their percentage of appointments attended.\n",
    "\n",
    "In general, babies, perhaps by sheer numbers, are excellent attenders. Otherwise, attenders seem to skew a little older than missers. Perhaps because they only had 2 appointments, Hospital \\#35 has great attendance."
   ]
  },
  {
   "cell_type": "markdown",
   "metadata": {},
   "source": [
    "### Do sick people keep their appointments? Health questions analysis\n",
    "\n",
    "Health factors may correlate with missed appointments. For example, men with alcoholism might miss more appointments than women with diabetes.\n",
    "\n",
    "Take a look at the patients with a high attendance ratio."
   ]
  },
  {
   "cell_type": "code",
   "execution_count": 34,
   "metadata": {},
   "outputs": [
    {
     "data": {
      "text/plain": [
       "<matplotlib.axes._subplots.AxesSubplot at 0x7fac4c5884e0>"
      ]
     },
     "execution_count": 34,
     "metadata": {},
     "output_type": "execute_result"
    },
    {
     "data": {
      "image/png": "[encoded data removed]",
      "text/plain": [
       "<matplotlib.figure.Figure at 0x7fac4c553cf8>"
      ]
     },
     "metadata": {
      "needs_background": "light"
     },
     "output_type": "display_data"
    }
   ],
   "source": [
    "df_keepers = df_sample_p.loc[df['Attendance_Ratio'] > 0.75]\n",
    "\n",
    "df_k = pd.DataFrame(df_keepers,columns=[\"Diabetes\", \"Alcoholism\", \"Disability\", \"Gender\", \"Hypertension\"])\n",
    "df_k.groupby('Gender').mean().plot(kind = 'bar', cmap = 'spring')\n",
    "# 1 = f,0 = m"
   ]
  },
  {
   "cell_type": "markdown",
   "metadata": {},
   "source": [
    "Of the attenders, it appears people with hypertension are most represented.\n",
    "Correlations are in general, weak."
   ]
  },
  {
   "cell_type": "code",
   "execution_count": 35,
   "metadata": {},
   "outputs": [],
   "source": [
    "# maybe i should have make the data numerical instead of categorical\n",
    "# i have to change it to do the chart\n",
    "from sklearn.preprocessing import LabelEncoder\n",
    "\n",
    "df_sm = pd.DataFrame(df_freq, columns = ['Age', 'Gender', 'Time_Difference', 'Hospital', 'Hypertension', 'Diabetes', 'Alcoholism', 'Disability', 'Attendance_Ratio'])\n",
    "\n",
    "# had to reset the index for this to work, but i'm not sure why\n",
    "df_sm = df_sm.reset_index()\n",
    "\n",
    "# this is going to make my categorical values into numbers\n",
    "labelencoder=LabelEncoder()\n",
    "for column in df_sm.columns:\n",
    "    df_sm[column] = labelencoder.fit_transform(df_sm[column])"
   ]
  },
  {
   "cell_type": "code",
   "execution_count": 36,
   "metadata": {},
   "outputs": [
    {
     "data": {
      "text/plain": [
       "<matplotlib.axes._subplots.AxesSubplot at 0x7fac44c4b4e0>"
      ]
     },
     "execution_count": 36,
     "metadata": {},
     "output_type": "execute_result"
    },
    {
     "data": {
      "image/png": "[encoded data removed]",
      "text/plain": [
       "<matplotlib.figure.Figure at 0x7fac47631208>"
      ]
     },
     "metadata": {
      "needs_background": "light"
     },
     "output_type": "display_data"
    }
   ],
   "source": [
    "# I need to be able to see it all at once on my screen so i squished it\n",
    "plt.figure(figsize = (10,5))\n",
    "sb.heatmap(df_sm.corr().round(3),linewidths=.1,cmap=\"cool\", annot = True)"
   ]
  },
  {
   "cell_type": "markdown",
   "metadata": {},
   "source": [
    "I didn't see any strong correlations with attendance, but it is interesting to note that health factors have a greater correlation with attendance than length of scheduling delay."
   ]
  },
  {
   "cell_type": "markdown",
   "metadata": {},
   "source": [
    "Does disability influence attendance of people on assistance?"
   ]
  },
  {
   "cell_type": "code",
   "execution_count": 37,
   "metadata": {},
   "outputs": [
    {
     "data": {
      "image/png": "[encoded data removed]",
      "text/plain": [
       "<matplotlib.figure.Figure at 0x7fac44bf0f28>"
      ]
     },
     "metadata": {
      "needs_background": "light"
     },
     "output_type": "display_data"
    }
   ],
   "source": [
    "df_sample = df_patients.sample(n=2000)\n",
    "df_sample = df_sample[['Attendance', 'Assistance', 'Age', 'Disability']]\n",
    "df_sample['Disability'] = df_sample['Disability'].astype('int64')\n",
    "\n",
    "plt.figure(figsize=(8,2))\n",
    "sb.swarmplot(x = 'Attendance', y = 'Assistance', data = df_sample, hue = 'Disability', dodge = True, palette = 'nipy_spectral')\n",
    "# thank you stackoverflow for how to remove y axis ticks\n",
    "plt.tick_params(axis='y', which='both', bottom = False, top = False, labelbottom = False)"
   ]
  },
  {
   "cell_type": "markdown",
   "metadata": {},
   "source": [
    "People with disabilities not on assistance were more likely to make appointments than their assisted peers. The correlations are low, however."
   ]
  },
  {
   "cell_type": "markdown",
   "metadata": {},
   "source": [
    "<a id='conclusions'></a>\n",
    "## Conclusions\n",
    "The most likely patient to keep an appointment will have a same-day appointment. This is common sense. The patients at hospital 35 had the highest attendance ratios.\n",
    "\n",
    "But who were the best attenders?"
   ]
  },
  {
   "cell_type": "code",
   "execution_count": 38,
   "metadata": {},
   "outputs": [
    {
     "data": {
      "text/plain": [
       "Patient_ID          31069.309344\n",
       "Appointment_ID      54020.505792\n",
       "Age                    38.086332\n",
       "Hospital               42.820849\n",
       "Assistance              0.093282\n",
       "Hypertension            0.212046\n",
       "Diabetes                0.077375\n",
       "Alcoholism              0.021467\n",
       "Disability              0.020541\n",
       "SMS_received            0.289730\n",
       "Attendance              2.000000\n",
       "Time_Difference         9.913977\n",
       "Frequency               1.516293\n",
       "Attendance_Sum          3.032587\n",
       "Attendance_Ratio        2.000000\n",
       "dtype: float64"
      ]
     },
     "execution_count": 38,
     "metadata": {},
     "output_type": "execute_result"
    }
   ],
   "source": [
    "# get the patients with perfect attendance ratios\n",
    "df_keepers.describe()\n",
    "sort_by_highest_ratio_p = df_keepers.loc[df['Attendance_Ratio'] == 2]\n",
    "\n",
    "# get the mean for each factor\n",
    "sort_by_highest_ratio_p.mean()"
   ]
  },
  {
   "cell_type": "markdown",
   "metadata": {},
   "source": [
    "The most likely patient to attend an appointment is aged 38, who scheduled about 10 days in advance and doesn't go to the hospital more than once a month or so. He might have hypertension, but probably not. He's not on assistance and he probably received an SMS."
   ]
  },
  {
   "cell_type": "markdown",
   "metadata": {},
   "source": [
    "### Limitations\n",
    "I made a good guess as to what 'Disability' indicated, but it was only a guess. I didn't check to see which were more likely to be missed, first or subsequent appointments. All the correlations seemed fairly weak, except for obvious ones like diabetes with hypertension.\n",
    "\n",
    "I was unable to write a function that would show if any patients changed status on other factors such as alcoholism, diabetes, hypertension, assistance, gender, or hospital over more than one visit to the hospital.\n",
    "\n",
    "I focussed on the attenders, not the missers: there may have been a very clear type of misser but I wouldn't know. I didn't figure out what the SMS might indicate. A reminder call? A follow-up call? I didn't investigate.\n",
    "\n",
    "Football season ends in early May. This time period is included in the data: I wondered if there was a difference in attendance by gender in the first two weeks of May, but I didn't end up comparing by gender for that time period. I also did a cursory check for important events or holidays in Brazil at the time of data collection, but nothing stood out so I abandoned that avenue of inquiry."
   ]
  },
  {
   "cell_type": "markdown",
   "metadata": {},
   "source": [
    "## OPTIONAL: Question for the reviewer\n",
    " \n",
    "If you have any question about the starter code or your own implementation, please add it in the cell below. \n",
    "\n",
    "For example, if you want to know why a piece of code is written the way it is, or its function, or alternative ways of implementing the same functionality, or if you want to get feedback on a specific part of your code or get feedback on things you tried but did not work.\n",
    "\n",
    "Please keep your questions succinct and clear to help the reviewer answer them satisfactorily. \n",
    "\n",
    "> **_Your question_**\n",
    "I was unable to write a function to check if any of the patients had a change in the different health factors across multiple appointments. What could I have done differently?\n",
    "\n",
    "> Why can't I just get the most attended hospital with this and appending .max() or .head()?\n",
    "> df_ah['Hospital'].value_counts()"
   ]
  },
  {
   "cell_type": "code",
   "execution_count": 40,
   "metadata": {},
   "outputs": [
    {
     "data": {
      "text/plain": [
       "0"
      ]
     },
     "execution_count": 40,
     "metadata": {},
     "output_type": "execute_result"
    }
   ],
   "source": [
    "from subprocess import call\n",
    "call(['python', '-m', 'nbconvert', 'Investigate_a_Dataset.ipynb'])"
   ]
  },
  {
   "cell_type": "code",
   "execution_count": null,
   "metadata": {},
   "outputs": [],
   "source": []
  }
 ],
 "metadata": {
  "kernelspec": {
   "display_name": "Python 3",
   "language": "python",
   "name": "python3"
  },
  "language_info": {
   "codemirror_mode": {
    "name": "ipython",
    "version": 3
   },
   "file_extension": ".py",
   "mimetype": "text/x-python",
   "name": "python",
   "nbconvert_exporter": "python",
   "pygments_lexer": "ipython3",
   "version": "3.6.3"
  }
 },
 "nbformat": 4,
 "nbformat_minor": 2
}
