{
 "cells": [
  {
   "cell_type": "markdown",
   "metadata": {},
   "source": [
    "\n",
    "# Project: Investigate a Dataset - No-show appointments dataset\n",
    "\n",
    "## Table of Contents\n",
    "<ul>\n",
    "<li><a href=\"#intro\">Introduction</a></li>\n",
    "<li><a href=\"#wrangling\">Data Wrangling</a></li>\n",
    "<li><a href=\"#eda\">Exploratory Data Analysis</a></li>\n",
    "<li><a href=\"#conclusions\">Conclusions</a></li>\n",
    "</ul>"
   ]
  },
  {
   "cell_type": "markdown",
   "metadata": {},
   "source": [
    "<a id='intro'></a>\n",
    "## Introduction\n",
    "\n",
    "### Dataset Description \n",
    "\n",
    "The focus of this investigation is the characteristics of patients who kept hospital appointments. This No-show dataset from Kaggle provides the details of 100k medical appointments in Brazil. Specifically, the data holds information about the hospital where patients scheduled appointments, demographic and health data of the patients, and whether or not they kept their appointments.\n",
    "\n",
    "My analyses are focussed on the dependent variables: patient ID, or appointment_ID, in order to predict which type of patient shows up at their hospital appointments. \n",
    "\n",
    "I will look at missed appointments by length of time between scheduling and appointment\n",
    "\n",
    "I investigate patient demographic features like  hospital and age group.\n",
    "\n",
    "I also examine patient health factors. \n",
    "\n",
    "Can I predict what type of person is most likely to keep an appointment?\n",
    "\n",
    "### It will be very useful for your readers if you expand the introduction to discuss the analysis that you intend to implement.\n",
    "\n",
    "Here are the column names and a brief description of each:\n",
    "\n",
    "- PatientId: A unique ID for each patient</li>\n",
    "- AppointmentID: A unique ID for each appointment</li>\n",
    "- ScheduledDay: The day the patient made their appointment</li>\n",
    "- AppointmentDay: The day of the appointment</li>\n",
    "- Gender, Age: patient demographic information</li>\n",
    "- Neighbourhood: The location of the hospital</li>\n",
    "- Scholarship:  ‘Yes’ denotes that the patient is using Brasilian government assistance (Bolsa Família)</li>\n",
    "- Hipertension, Diabetes, Alcoholism, Handcap: health factors. Presumably ‘Handcap’ refers to disability status</li>\n",
    "- SMS_received: Whether the patient received a text reminder.</li>\n",
    "- No-show: Whether the patient missed an appointment (Yes) or kept an appointment (No)</li>"
   ]
  },
  {
   "cell_type": "code",
   "execution_count": null,
   "metadata": {},
   "outputs": [],
   "source": [
    "# import statements\n",
    "\n",
    "import pandas as pd\n",
    "import matplotlib.pyplot as plt\n",
    "import numpy as np\n",
    "import dask.dataframe as dd\n",
    "import seaborn as sb\n",
    "pd.options.mode.chained_assignment = None  # Apparently this helps me with all my renaming issues\n",
    "\n",
    "# 'magic word'\n",
    "%matplotlib inline"
   ]
  },
  {
   "cell_type": "markdown",
   "metadata": {},
   "source": [
    "<a id='wrangling'></a>\n",
    "## Data Wrangling"
   ]
  },
  {
   "cell_type": "markdown",
   "metadata": {},
   "source": [
    "The No-show data comes from Kaggle and is provided by Udacity. Here are the first few rows of data, and the total number of rows and columns."
   ]
  },
  {
   "cell_type": "code",
   "execution_count": null,
   "metadata": {},
   "outputs": [],
   "source": [
    "# data from Kaggle and Udacity: noshowappointments-kagglev2-may-2016.csv\n",
    "# df = pd.read_csv('/Database_No_show_appointments/noshowappointments-kagglev2-may-2016.csv')\n",
    "# df.head()\n",
    "# error: dataset too large\n",
    "\n",
    "# Important Please add markdown cells (instead of the comments inside the code)\n",
    "# to describe each step of the wrangling section.\n",
    "\n",
    "# use dask\n",
    "df_dd = dd.read_csv(\"Database_No_show_appointments/noshowappointments-kagglev2-may-2016.csv\", assume_missing=True)\n",
    "df_dd.head(5)"
   ]
  },
  {
   "cell_type": "markdown",
   "metadata": {},
   "source": [
    "df = pd.read_csv('/Database_No_show_appointments/noshowappointments-kagglev2-may-2016.csv')\n",
    "df.head()\n",
    "error: dataset too large\n",
    "\n",
    "Important Please add markdown cells (instead of the comments inside the code)\n",
    "to describe each step of the wrangling section.\n",
    "\n",
    "use dask"
   ]
  },
  {
   "cell_type": "code",
   "execution_count": null,
   "metadata": {},
   "outputs": [],
   "source": [
    "# Important Please add markdown cells (instead of the comments inside the code)\n",
    "# to describe each step of the wrangling section.\n",
    "# change the dataframe type to continue using pandas\n",
    "df = df_dd.compute()"
   ]
  },
  {
   "cell_type": "markdown",
   "metadata": {},
   "source": [
    "change the dataframe type to continue using pandas\n",
    "df = df_dd.compute()\n",
    "\n",
    "Here is a overview of the data:"
   ]
  },
  {
   "cell_type": "code",
   "execution_count": null,
   "metadata": {},
   "outputs": [],
   "source": [
    "# quick overview of data\n",
    "df.info()"
   ]
  },
  {
   "cell_type": "code",
   "execution_count": null,
   "metadata": {},
   "outputs": [],
   "source": [
    "# Important Please add markdown cells (instead of the comments inside the code)\n",
    "# to describe each step of the wrangling section.\n",
    "# look for duplicated rows"
   ]
  },
  {
   "cell_type": "code",
   "execution_count": null,
   "metadata": {},
   "outputs": [],
   "source": [
    "d = sum(df.duplicated())\n",
    "print('There are', d, 'duplicated rows.')"
   ]
  },
  {
   "cell_type": "code",
   "execution_count": null,
   "metadata": {},
   "outputs": [],
   "source": [
    "# Important Please add markdown cells (instead of the comments inside the code)\n",
    "# to describe each step of the wrangling section.\n",
    "# look for duplicates where none should be"
   ]
  },
  {
   "cell_type": "code",
   "execution_count": null,
   "metadata": {},
   "outputs": [],
   "source": [
    "s = sum(df['AppointmentID'].duplicated())\n",
    "print('Appointment IDs are duplicated', s, 'times.')"
   ]
  },
  {
   "cell_type": "markdown",
   "metadata": {},
   "source": [
    "Some column names and datatypes need to be changed.\n",
    "\n",
    "First, ScheduledDay and AppointmentDay are 'object' datatypes. I changed these to date. Also, I removed appointments that were scheduled after they occurred."
   ]
  },
  {
   "cell_type": "code",
   "execution_count": null,
   "metadata": {},
   "outputs": [],
   "source": [
    "# change day columns to datetime type\n",
    "df[['ScheduledDay', 'AppointmentDay']] = df[['ScheduledDay', 'AppointmentDay']].apply(pd.to_datetime)\n",
    "df['ScheduledDate'] = df['ScheduledDay'].dt.date\n",
    "df['AppointmentDate'] = df['AppointmentDay'].dt.date\n",
    "\n",
    "# drop any appointments that were scheduled after the appointment date\n",
    "df = df.loc[df['ScheduledDate'] <= df['AppointmentDate']]"
   ]
  },
  {
   "cell_type": "markdown",
   "metadata": {},
   "source": [
    "Important Please add markdown cells (instead of the comments inside the code)\n",
    "to describe each step of the wrangling section.\n",
    "\n",
    "get the difference in time between scheduling and the appointment date\n",
    "df['Time_Difference'] = (df.AppointmentDate - df.ScheduledDate).astype('timedelta64[D]')\n",
    "\n",
    "#get rid of NaN\n",
    "df['Time_Difference'] = df['Time_Difference'].replace('NaN', 0)"
   ]
  },
  {
   "cell_type": "code",
   "execution_count": null,
   "metadata": {},
   "outputs": [],
   "source": [
    "# Important Please add markdown cells (instead of the comments inside the code)\n",
    "# to describe each step of the wrangling section.\n",
    "\n",
    "# get the difference in time between scheduling and the appointment date\n",
    "df['Time_Difference'] = (df.AppointmentDate - df.ScheduledDate).astype('timedelta64[D]')\n",
    "\n",
    "#get rid of NaN\n",
    "df['Time_Difference'] = df['Time_Difference'].replace('NaN', 0)"
   ]
  },
  {
   "cell_type": "markdown",
   "metadata": {},
   "source": [
    "Next, the No-show column and values are changed to be less confusing. In the original data, a 'no' in the 'No-show' column indicates a kept appointment and a 'Yes' indicates a missed appointment. A 'yes' in a row about appointments indicating that the appointment was kept is clearer."
   ]
  },
  {
   "cell_type": "code",
   "execution_count": null,
   "metadata": {},
   "outputs": [],
   "source": [
    "# Important Please add markdown cells (instead of the comments inside the code)\n",
    "# to describe each step of the wrangling section.\n",
    "\n",
    "# make attendance make sense\n",
    "df['No-show'] = df['No-show'].replace(['No'],'hold')\n",
    "\n",
    "# if no-show is yes, they didn't show up and the value should be attendance = 0\n",
    "df['No-show'] = df['No-show'].replace(['Yes'],'0')\n",
    "\n",
    "# if no-show is no, they did show up and the value should be attendance = 1\n",
    "df['No-show'] = df['No-show'].replace(['hold'],'1')"
   ]
  },
  {
   "cell_type": "markdown",
   "metadata": {},
   "source": [
    "The different capitalisation between PatientId and AppointmentID is confusing. Those column headers are changed. Also, the values for PatientId and AppointmentID are too long for easy reading.\n",
    "\n",
    "Hypertension is spelled as 'hipertension': that has been changed.  As column headers, 'Disability' is preferrable to 'Handcap' and 'Assistance' is clearer than 'Scholarship'. 'Neighbourhood' refers to the location of the hospital, so that has been changed to 'Hospital'. Also, underscores were added where a space would naturally go to make the headers easier to read."
   ]
  },
  {
   "cell_type": "code",
   "execution_count": null,
   "metadata": {},
   "outputs": [],
   "source": [
    "# change column headings\n",
    "df = df.rename(columns = {'AppointmentID': 'Appointment_ID',\n",
    "                          'PatientId': 'Patient_ID',\n",
    "                          'AppointmentDay': 'Appointment_Day',\n",
    "                          'ScheduledDay': 'Scheduled_Day',\n",
    "                          'Scholarship': 'Assistance',\n",
    "                          'Neighbourhood': 'Hospital',\n",
    "                          'Hipertension': 'Hypertension',\n",
    "                          'Handcap': 'Disability',\n",
    "                          'No-show': 'Attendance'})"
   ]
  },
  {
   "cell_type": "code",
   "execution_count": null,
   "metadata": {},
   "outputs": [],
   "source": [
    "df_keep = df\n",
    "df_throw_away = df\n",
    "\n",
    "# make a df 'throw_away' where all columns are changed to numbers(thanks ngroup)\n",
    "for column in ['Appointment_ID','Hospital','Patient_ID', 'Alcoholism', 'Disability', 'Hypertension', 'Diabetes', 'Assistance', 'Gender']:\n",
    "         df_throw_away[column] = df_throw_away.groupby(column).ngroup()\n",
    "\n",
    "# make a df 'keep' change values to not scientific numbers, also + 1 (I don't want a zero)\n",
    "for column in ['Appointment_ID','Hospital','Patient_ID']:\n",
    "         df_keep[column] = df_keep.groupby(column).ngroup() + 1\n",
    "    \n",
    "# change regular df to be like keep (not scientific numbers)\n",
    "df_appointments = df_keep\n",
    "\n",
    "x = df_appointments.shape\n",
    "print(x)"
   ]
  },
  {
   "cell_type": "markdown",
   "metadata": {},
   "source": [
    "df_keep = df\n",
    "df_throw_away = df\n",
    "\n",
    "#make a df 'throw_away' where all columns are changed to numbers(thanks ngroup)\n",
    "for column in ['Appointment_ID','Hospital','Patient_ID', 'Alcoholism', 'Disability', 'Hypertension', 'Diabetes', 'Assistance', 'Gender']:\n",
    "         df_throw_away[column] = df_throw_away.groupby(column).ngroup()\n",
    "\n",
    "make a df 'keep' change values to not scientific numbers, also + 1 (I don't want a zero)\n",
    "for column in ['Appointment_ID','Hospital','Patient_ID']:\n",
    "         df_keep[column] = df_keep.groupby(column).ngroup() + 1\n",
    "    \n",
    "change regular df to be like keep (not scientific numbers)\n",
    "df_appointments = df_keep\n",
    "\n",
    "x = df_appointments.shape\n",
    "print(x)\n",
    "\n",
    "Patient IDs are needlessly in scientific notation. The patient ids need to be unique, but their actual value is probably irrelevant. As they were randomly assigned, I changed them to integers.\n",
    "\n",
    "The values for Appointment IDs and for Neighbourhoods are changed to numerical, for ease of reading.\n",
    "\n",
    "Some patients have multiple appointments. It would make more sense to combine each patient's appointments by attendance. That way, each patient is represented once. If we need information about individual appointments, we can use the df_appointments dataframe for analysis. \n",
    "\n",
    "What if a patient had a summer birthday?"
   ]
  },
  {
   "cell_type": "code",
   "execution_count": null,
   "metadata": {
    "scrolled": true
   },
   "outputs": [],
   "source": [
    "# patient has 2 ages, use throw-away because values are all numbers and\n",
    "# use getvaluecounts because this is what it is for\n",
    "# for x in patient_id, \n",
    "#     get value_counts for Age\n",
    "#     if > 2, print?\n",
    "\n",
    "# make a better value counter\n",
    "\n",
    "# make a value counter/printer because will use it more than once\n",
    "def getvaluecounts(df, column_1, column_2):\n",
    "    x = column_1\n",
    "    y = column_2\n",
    "    count = df.groupby([x, y]).count()\n",
    "    return(count)\n",
    "\n",
    "# pandas.cut: This allows you to easily cut continuous variables into segments. \n",
    "#    https://pandas.pydata.org/docs/reference/api/pandas.cut.html\n",
    "\n",
    "x = getvaluecounts(df_throw_away, df_throw_away['Patient_ID'], df_throw_away\n",
    "['Age'])\n",
    "\n",
    "'''\n",
    "i assume first birthday value is kept but it's only a one-year difference \n",
    "so i'm not going to worry about it\n",
    "but i wanted to make sure other values like disability or alcoholism didn't change\n",
    "i just looked at this data i didn't actually find a way to find out with code unf.\n",
    "'''\n",
    "\n",
    "# Long Tables\n",
    "# Please avoid including very long tables in the report, it distracts \n",
    "# your readers from the main objective of the report. \n",
    "# Instead consider using summary statistics or .info() or .describe()."
   ]
  },
  {
   "cell_type": "markdown",
   "metadata": {},
   "source": [
    "Some patients have 2 ages, birthdays happen.\n",
    "\n",
    "I added a column for a count of patient ids, representing repeat appointments scheduled, a column of attendance sum, representing attended appointments, and attendance ratio, the ratio for each patient of scheduled appointments to attended appointments. These ratios run from zero (no scheduled appointments were kept) to one (all scheduled appointments were kept)."
   ]
  },
  {
   "cell_type": "code",
   "execution_count": null,
   "metadata": {},
   "outputs": [],
   "source": [
    "# look for duplicates of patient id\n",
    "# there probably are some because people make more than one appointment sometimes\n",
    "df_freq = df_appointments\n",
    "\n",
    "# make a frequency column\n",
    "df_freq['Frequency'] = df_freq.groupby('Patient_ID')['Patient_ID'].transform('count')\n",
    "\n",
    "# make sure attendance is a number\n",
    "df_freq[\"Attendance\"] = df_freq[\"Attendance\"].astype(str).astype(int)\n",
    "\n",
    "# get number of appointments per patient\n",
    "df_freq['Attendance_Sum'] = df_freq.groupby('Patient_ID')['Attendance'].transform('sum')\n",
    "\n",
    "# get an ratio of total appointments kept divided by total appointments made\n",
    "df_freq['Attendance_Ratio'] = df_freq['Attendance_Sum']/df_freq['Frequency']\n",
    "\n",
    "# make sure there are no 'inf' values, why aren't they just zero?\n",
    "df_freq = df_freq.drop_duplicates(subset=['Patient_ID'])\n",
    "\n",
    "df_patients = df_freq"
   ]
  },
  {
   "cell_type": "markdown",
   "metadata": {},
   "source": [
    "look for outliers on box plot.\n",
    "df_appointments.boxplot('Age')\n",
    "df_patients.boxplot('Age')\n",
    "\n",
    "The charts in the report should be clear and easy to interpret. \n",
    "please add the x and the y axis for each chart, please add a descriptive title for each chart. \n",
    "Please add a short discussion under each chart explaining what the chart depicts and your insight."
   ]
  },
  {
   "cell_type": "code",
   "execution_count": null,
   "metadata": {
    "scrolled": true
   },
   "outputs": [],
   "source": [
    "# look for outliers on box plot.\n",
    "# df_appointments.boxplot('Age')\n",
    "df_patients.boxplot('Age')\n",
    "\n",
    "\n",
    "# The charts in the report should be clear and easy to interpret. \n",
    "# please add the x and the y axis for each chart, please add a descriptive title for each chart. \n",
    "# Please add a short discussion under each chart explaining what the chart depicts and your insight."
   ]
  },
  {
   "cell_type": "code",
   "execution_count": null,
   "metadata": {},
   "outputs": [],
   "source": [
    "# get the mean and the standard deviation using numpy\n",
    "df_patients_mean, df_patients_std = np.mean(df_patients), np.std(df_patients)\n",
    "\n",
    "# identify ages beyond the standard deviation\n",
    "outside_the_box = df_patients_std * 3\n",
    "lowest, highest = df_patients_mean - outside_the_box, df_patients_mean + outside_the_box\n",
    "# make a df that only has ages in the box\n",
    "df_patients.drop(df_patients[df_patients['Age'] > highest['Age']].index, inplace = True)\n",
    "df_patients.drop(df_patients[df_patients['Age'] < lowest['Age']].index, inplace = True)\n",
    "df_patients.boxplot('Age')\n",
    "\n",
    "# The charts in the report should be clear and easy to interpret. \n",
    "# please add the x and the y axis for each chart, please add a descriptive title for each chart. \n",
    "# Please add a short discussion under each chart explaining what the chart depicts and your insight."
   ]
  },
  {
   "cell_type": "markdown",
   "metadata": {},
   "source": [
    "I removed the patient outliers by age. Here is a boxplot representing the age column, and a second with the outliers removed."
   ]
  },
  {
   "cell_type": "markdown",
   "metadata": {},
   "source": [
    "The data is cleaned. Here are the first five rows:"
   ]
  },
  {
   "cell_type": "code",
   "execution_count": null,
   "metadata": {},
   "outputs": [],
   "source": [
    "# make the df name shorter\n",
    "df = df_patients\n",
    "\n",
    "# take a peek\n",
    "df.head(5)"
   ]
  },
  {
   "cell_type": "markdown",
   "metadata": {},
   "source": [
    "Column headers were changed to be more clear. Datatypes were changed for easier reading and analysis. Also, columns with two values are now numerical (gender and attendance), and some outliers were removed. Patient records were collapsed into one row, with their attendance ratio and frequency of visits.\n",
    "\n",
    "The data is now ready for analysis."
   ]
  },
  {
   "cell_type": "markdown",
   "metadata": {},
   "source": [
    "<a id='eda'></a>\n",
    "## Exploratory Data Analysis\n",
    "The first part of this investigation is an analysis of the appointments.\n",
    "\n",
    "First, I compare information about the missed appointments to kept appointments. I look at time factors such as length of time between scheduling and appointment or day of the week of the appointment, then by hospital.\n",
    "\n",
    "Finally, I compare the hospitals where the appointments are missed to those where appointments are kept. I compare them by health factors, for example, I compare the missed appointments at hospitals that cater to patients with diabetes to those those that cater to alcoholics. I also compare the hospitals on the age, assistance, and disablity level of their patients.\n",
    "\n",
    "### Which appointments are being missed? Appointment Questions Analysis\n",
    "\n",
    "I wondered if same day appointments were missed at a different rate, because presumably they were urgent. "
   ]
  },
  {
   "cell_type": "code",
   "execution_count": null,
   "metadata": {},
   "outputs": [],
   "source": [
    "# get a df of appointments made on the same day they were scheduled\n",
    "df_same_day_appointments = df_appointments.loc[df_appointments['ScheduledDate'] == df_appointments['AppointmentDate']] \n",
    "\n",
    "# show the bar chart\n",
    "df_same_day_appointments['Attendance'].value_counts().plot(kind='bar', title = 'Same-day Appointments', cmap = 'viridis')\n",
    "plt.xlabel('Appointment Attendance', fontsize = 16)\n",
    "plt.ylabel('Number of Patients', fontsize = 16)"
   ]
  },
  {
   "cell_type": "markdown",
   "metadata": {},
   "source": [
    "The chart above depicts the attendance (1 means attended appointment, 0 means missed appointment) of the patients in the dataset, for appointments scheduled on the **same day** as the appointment date."
   ]
  },
  {
   "cell_type": "code",
   "execution_count": null,
   "metadata": {
    "scrolled": false
   },
   "outputs": [],
   "source": [
    "# get a df of appointments made on a different day than they were scheduled\n",
    "df_not_same_day_appointment = df_appointments.loc[df_appointments['ScheduledDate'] != df_appointments['AppointmentDate']] \n",
    "\n",
    "# show the bar chart\n",
    "df_not_same_day_appointment['Attendance'].value_counts().plot(kind='bar', title = 'Appointments Scheduled Prior to Appointment Date', cmap = 'viridis')\n",
    "plt.xlabel('Appointment Attendance', fontsize = 16)\n",
    "plt.ylabel('Number of Patients', fontsize = 16)"
   ]
  },
  {
   "cell_type": "markdown",
   "metadata": {},
   "source": [
    "The chart above depicts the attendance (1 means attended appointment, 0 means missed appointment) of the patients in the dataset, for appointments scheduled **in advance** of the appointment date.\n",
    "\n",
    "Absolutely, same-day appointments have a better attendance rate than appointments scheduled in advance. \n",
    "\n",
    "Anyone might have a reason for an urgent appointment and it is unlikely they would skip it. The most likely patient to keep an appointment will have a same-day appointment. This is common sense."
   ]
  },
  {
   "cell_type": "markdown",
   "metadata": {},
   "source": [
    "The longer the length of time between scheduling an appointment and the appointment date, the more likely it was that the appointment was missed."
   ]
  },
  {
   "cell_type": "code",
   "execution_count": null,
   "metadata": {},
   "outputs": [],
   "source": [
    "# get attendance and time difference of all the appointments\n",
    "df_at = pd.DataFrame(df_appointments,columns=['Attendance','Time_Difference'])\n",
    "\n",
    "# find the mean time difference in days between attended vs missed\n",
    "# df_at.groupby('Attendance').describe(include = 'all')\n",
    "\n",
    "'''\n",
    "While the .describe() function provides you with the distribution \n",
    "of the numerical features (single variable exploration). \n",
    "Using visualization to examine each feature which is more informative \n",
    "and will help you understand the data much better. \n",
    "You can use a simple histogram (continuous features) or barplot ( categorical features).\n",
    "'''\n",
    "\n",
    "df_at.groupby('Attendance').plot(kind = 'bar')"
   ]
  },
  {
   "cell_type": "markdown",
   "metadata": {},
   "source": [
    "If the time between scheduling and appointment date is about 9 days or less, appointments were more often kept than not. However, if the time between scheduling and appointment date was any longer, the appointments were more often missed.\n",
    "\n",
    "Removing same day appointments, the mean length of time by attendance has less of a disparity."
   ]
  },
  {
   "cell_type": "code",
   "execution_count": 21,
   "metadata": {},
   "outputs": [
    {
     "data": {
      "text/html": [
       "<div>\n",
       "<style scoped>\n",
       "    .dataframe tbody tr th:only-of-type {\n",
       "        vertical-align: middle;\n",
       "    }\n",
       "\n",
       "    .dataframe tbody tr th {\n",
       "        vertical-align: top;\n",
       "    }\n",
       "\n",
       "    .dataframe thead tr th {\n",
       "        text-align: left;\n",
       "    }\n",
       "\n",
       "    .dataframe thead tr:last-of-type th {\n",
       "        text-align: right;\n",
       "    }\n",
       "</style>\n",
       "<table border=\"1\" class=\"dataframe\">\n",
       "  <thead>\n",
       "    <tr>\n",
       "      <th></th>\n",
       "      <th colspan=\"8\" halign=\"left\">Time_Difference</th>\n",
       "    </tr>\n",
       "    <tr>\n",
       "      <th></th>\n",
       "      <th>count</th>\n",
       "      <th>mean</th>\n",
       "      <th>std</th>\n",
       "      <th>min</th>\n",
       "      <th>25%</th>\n",
       "      <th>50%</th>\n",
       "      <th>75%</th>\n",
       "      <th>max</th>\n",
       "    </tr>\n",
       "    <tr>\n",
       "      <th>Attendance</th>\n",
       "      <th></th>\n",
       "      <th></th>\n",
       "      <th></th>\n",
       "      <th></th>\n",
       "      <th></th>\n",
       "      <th></th>\n",
       "      <th></th>\n",
       "      <th></th>\n",
       "    </tr>\n",
       "  </thead>\n",
       "  <tbody>\n",
       "    <tr>\n",
       "      <th>0</th>\n",
       "      <td>20522.0</td>\n",
       "      <td>17.218254</td>\n",
       "      <td>16.613713</td>\n",
       "      <td>1.0</td>\n",
       "      <td>5.0</td>\n",
       "      <td>13.0</td>\n",
       "      <td>25.0</td>\n",
       "      <td>179.0</td>\n",
       "    </tr>\n",
       "    <tr>\n",
       "      <th>1</th>\n",
       "      <td>51437.0</td>\n",
       "      <td>15.013142</td>\n",
       "      <td>16.404411</td>\n",
       "      <td>1.0</td>\n",
       "      <td>4.0</td>\n",
       "      <td>8.0</td>\n",
       "      <td>21.0</td>\n",
       "      <td>179.0</td>\n",
       "    </tr>\n",
       "  </tbody>\n",
       "</table>\n",
       "</div>"
      ],
      "text/plain": [
       "           Time_Difference                                                   \n",
       "                     count       mean        std  min  25%   50%   75%    max\n",
       "Attendance                                                                   \n",
       "0                  20522.0  17.218254  16.613713  1.0  5.0  13.0  25.0  179.0\n",
       "1                  51437.0  15.013142  16.404411  1.0  4.0   8.0  21.0  179.0"
      ]
     },
     "execution_count": 21,
     "metadata": {},
     "output_type": "execute_result"
    }
   ],
   "source": [
    "# get attendance and time difference of all the appointments after removing same day appts\n",
    "df_nsd = pd.DataFrame(df_not_same_day_appointment,columns=['Attendance','Time_Difference'])\n",
    "\n",
    "# find the mean time difference in days between attended vs missed\n",
    "df_nsd.groupby('Attendance').describe(include = 'all')\n",
    "\n",
    "# While the .describe() function provides you with the distribution \n",
    "# of the numerical features (single variable exploration). \n",
    "# Using visualization to examine each feature which is more informative \n",
    "# and will help you understand the data much better. \n",
    "# You can use a simple histogram (continuous features) or barplot ( categorical features).\n"
   ]
  },
  {
   "cell_type": "markdown",
   "metadata": {},
   "source": [
    "The mean length of time between scheduling date and appointment date for missed appointments is approximately 17 days. For the appointments that were kept, the mean is about 15 days.\n",
    "\n",
    "The day of the week of the appointment affected whether or not someone attended their appointment. The correlation between day of the week and attendance is:"
   ]
  },
  {
   "cell_type": "code",
   "execution_count": 16,
   "metadata": {},
   "outputs": [],
   "source": [
    "def getcorr(df, column_1, column_2): # get the correlation of 2 values from a df and print them out\n",
    "    x = column_1\n",
    "    y = column_2\n",
    "    corr = x.corr(y)\n",
    "    corr2 = corr.round(2)\n",
    "    print('The correlation is', corr2)"
   ]
  },
  {
   "cell_type": "code",
   "execution_count": 22,
   "metadata": {},
   "outputs": [
    {
     "name": "stdout",
     "output_type": "stream",
     "text": [
      "The correlation is 0.0\n"
     ]
    }
   ],
   "source": [
    "df_days = df_appointments.reset_index()\n",
    "df_days['Day_of_Week'] = df_appointments['Appointment_Day'].dt.dayofweek\n",
    "df_d = pd.DataFrame(df_days,columns=['Day_of_Week','Attendance'])\n",
    "\n",
    "getcorr(df_days, df_days['Day_of_Week'], df_days['Attendance'])"
   ]
  },
  {
   "cell_type": "code",
   "execution_count": 23,
   "metadata": {},
   "outputs": [
    {
     "data": {
      "text/html": [
       "<div>\n",
       "<style scoped>\n",
       "    .dataframe tbody tr th:only-of-type {\n",
       "        vertical-align: middle;\n",
       "    }\n",
       "\n",
       "    .dataframe tbody tr th {\n",
       "        vertical-align: top;\n",
       "    }\n",
       "\n",
       "    .dataframe thead tr th {\n",
       "        text-align: left;\n",
       "    }\n",
       "\n",
       "    .dataframe thead tr:last-of-type th {\n",
       "        text-align: right;\n",
       "    }\n",
       "</style>\n",
       "<table border=\"1\" class=\"dataframe\">\n",
       "  <thead>\n",
       "    <tr>\n",
       "      <th></th>\n",
       "      <th colspan=\"8\" halign=\"left\">Attendance</th>\n",
       "    </tr>\n",
       "    <tr>\n",
       "      <th></th>\n",
       "      <th>count</th>\n",
       "      <th>mean</th>\n",
       "      <th>std</th>\n",
       "      <th>min</th>\n",
       "      <th>25%</th>\n",
       "      <th>50%</th>\n",
       "      <th>75%</th>\n",
       "      <th>max</th>\n",
       "    </tr>\n",
       "    <tr>\n",
       "      <th>Day_of_Week</th>\n",
       "      <th></th>\n",
       "      <th></th>\n",
       "      <th></th>\n",
       "      <th></th>\n",
       "      <th></th>\n",
       "      <th></th>\n",
       "      <th></th>\n",
       "      <th></th>\n",
       "    </tr>\n",
       "  </thead>\n",
       "  <tbody>\n",
       "    <tr>\n",
       "      <th>0.0</th>\n",
       "      <td>22714.0</td>\n",
       "      <td>0.791494</td>\n",
       "      <td>0.406249</td>\n",
       "      <td>0.0</td>\n",
       "      <td>1.0</td>\n",
       "      <td>1.0</td>\n",
       "      <td>1.0</td>\n",
       "      <td>1.0</td>\n",
       "    </tr>\n",
       "    <tr>\n",
       "      <th>1.0</th>\n",
       "      <td>25633.0</td>\n",
       "      <td>0.798346</td>\n",
       "      <td>0.401243</td>\n",
       "      <td>0.0</td>\n",
       "      <td>1.0</td>\n",
       "      <td>1.0</td>\n",
       "      <td>1.0</td>\n",
       "      <td>1.0</td>\n",
       "    </tr>\n",
       "    <tr>\n",
       "      <th>2.0</th>\n",
       "      <td>25866.0</td>\n",
       "      <td>0.801709</td>\n",
       "      <td>0.398720</td>\n",
       "      <td>0.0</td>\n",
       "      <td>1.0</td>\n",
       "      <td>1.0</td>\n",
       "      <td>1.0</td>\n",
       "      <td>1.0</td>\n",
       "    </tr>\n",
       "    <tr>\n",
       "      <th>3.0</th>\n",
       "      <td>17246.0</td>\n",
       "      <td>0.808419</td>\n",
       "      <td>0.393556</td>\n",
       "      <td>0.0</td>\n",
       "      <td>1.0</td>\n",
       "      <td>1.0</td>\n",
       "      <td>1.0</td>\n",
       "      <td>1.0</td>\n",
       "    </tr>\n",
       "    <tr>\n",
       "      <th>4.0</th>\n",
       "      <td>19019.0</td>\n",
       "      <td>0.791367</td>\n",
       "      <td>0.406343</td>\n",
       "      <td>0.0</td>\n",
       "      <td>1.0</td>\n",
       "      <td>1.0</td>\n",
       "      <td>1.0</td>\n",
       "      <td>1.0</td>\n",
       "    </tr>\n",
       "    <tr>\n",
       "      <th>5.0</th>\n",
       "      <td>39.0</td>\n",
       "      <td>0.794872</td>\n",
       "      <td>0.409074</td>\n",
       "      <td>0.0</td>\n",
       "      <td>1.0</td>\n",
       "      <td>1.0</td>\n",
       "      <td>1.0</td>\n",
       "      <td>1.0</td>\n",
       "    </tr>\n",
       "  </tbody>\n",
       "</table>\n",
       "</div>"
      ],
      "text/plain": [
       "            Attendance                                             \n",
       "                 count      mean       std  min  25%  50%  75%  max\n",
       "Day_of_Week                                                        \n",
       "0.0            22714.0  0.791494  0.406249  0.0  1.0  1.0  1.0  1.0\n",
       "1.0            25633.0  0.798346  0.401243  0.0  1.0  1.0  1.0  1.0\n",
       "2.0            25866.0  0.801709  0.398720  0.0  1.0  1.0  1.0  1.0\n",
       "3.0            17246.0  0.808419  0.393556  0.0  1.0  1.0  1.0  1.0\n",
       "4.0            19019.0  0.791367  0.406343  0.0  1.0  1.0  1.0  1.0\n",
       "5.0               39.0  0.794872  0.409074  0.0  1.0  1.0  1.0  1.0"
      ]
     },
     "execution_count": 23,
     "metadata": {},
     "output_type": "execute_result"
    }
   ],
   "source": [
    "df_d.groupby('Day_of_Week').describe(include = 'all')\n",
    "\n",
    "\n",
    "# While the .describe() function provides you with the distribution \n",
    "# of the numerical features (single variable exploration). \n",
    "# Using visualization to examine each feature which is more informative \n",
    "# and will help you understand the data much better. \n",
    "# You can use a simple histogram (continuous features) or barplot ( categorical features).\n"
   ]
  },
  {
   "cell_type": "markdown",
   "metadata": {},
   "source": [
    "The correlation between the day of the week that the appointment falls on and whether or not a patient kept that appointment is weak. Thursday appointments were marginally better attended than others, but the correlation is very poor.\n",
    "\n",
    "The appointment factors are whether or not the appointment was for the same day it was scheduled, and the length of time between being scheduled and being kept, but not really the day of the week the appointment was for."
   ]
  },
  {
   "cell_type": "markdown",
   "metadata": {},
   "source": [
    "### Whose appointments are being missed? Demographic questions analysis\n",
    "\n",
    "Certain demographic groups might be more likely to miss appointments.\n",
    "\n",
    "The mean age of those who keep or miss appointments seems about the same."
   ]
  },
  {
   "cell_type": "code",
   "execution_count": 24,
   "metadata": {},
   "outputs": [
    {
     "data": {
      "text/html": [
       "<div>\n",
       "<style scoped>\n",
       "    .dataframe tbody tr th:only-of-type {\n",
       "        vertical-align: middle;\n",
       "    }\n",
       "\n",
       "    .dataframe tbody tr th {\n",
       "        vertical-align: top;\n",
       "    }\n",
       "\n",
       "    .dataframe thead tr th {\n",
       "        text-align: left;\n",
       "    }\n",
       "\n",
       "    .dataframe thead tr:last-of-type th {\n",
       "        text-align: right;\n",
       "    }\n",
       "</style>\n",
       "<table border=\"1\" class=\"dataframe\">\n",
       "  <thead>\n",
       "    <tr>\n",
       "      <th></th>\n",
       "      <th colspan=\"8\" halign=\"left\">Age</th>\n",
       "    </tr>\n",
       "    <tr>\n",
       "      <th></th>\n",
       "      <th>count</th>\n",
       "      <th>mean</th>\n",
       "      <th>std</th>\n",
       "      <th>min</th>\n",
       "      <th>25%</th>\n",
       "      <th>50%</th>\n",
       "      <th>75%</th>\n",
       "      <th>max</th>\n",
       "    </tr>\n",
       "    <tr>\n",
       "      <th>Attendance</th>\n",
       "      <th></th>\n",
       "      <th></th>\n",
       "      <th></th>\n",
       "      <th></th>\n",
       "      <th></th>\n",
       "      <th></th>\n",
       "      <th></th>\n",
       "      <th></th>\n",
       "    </tr>\n",
       "  </thead>\n",
       "  <tbody>\n",
       "    <tr>\n",
       "      <th>0</th>\n",
       "      <td>12191.0</td>\n",
       "      <td>33.838980</td>\n",
       "      <td>22.064491</td>\n",
       "      <td>0.0</td>\n",
       "      <td>16.0</td>\n",
       "      <td>32.0</td>\n",
       "      <td>51.0</td>\n",
       "      <td>98.0</td>\n",
       "    </tr>\n",
       "    <tr>\n",
       "      <th>1</th>\n",
       "      <td>50106.0</td>\n",
       "      <td>37.399054</td>\n",
       "      <td>23.818181</td>\n",
       "      <td>-1.0</td>\n",
       "      <td>17.0</td>\n",
       "      <td>38.0</td>\n",
       "      <td>57.0</td>\n",
       "      <td>102.0</td>\n",
       "    </tr>\n",
       "  </tbody>\n",
       "</table>\n",
       "</div>"
      ],
      "text/plain": [
       "                Age                                                    \n",
       "              count       mean        std  min   25%   50%   75%    max\n",
       "Attendance                                                             \n",
       "0           12191.0  33.838980  22.064491  0.0  16.0  32.0  51.0   98.0\n",
       "1           50106.0  37.399054  23.818181 -1.0  17.0  38.0  57.0  102.0"
      ]
     },
     "execution_count": 24,
     "metadata": {},
     "output_type": "execute_result"
    }
   ],
   "source": [
    "df_ma = pd.DataFrame(df,columns=['Attendance','Age'])\n",
    "\n",
    "df_ma.groupby('Attendance').describe(include = 'all')\n",
    "\n",
    "\n",
    "# While the .describe() function provides you with the distribution \n",
    "# of the numerical features (single variable exploration). \n",
    "# Using visualization to examine each feature which is more informative \n",
    "# and will help you understand the data much better. \n",
    "# You can use a simple histogram (continuous features) or barplot ( categorical features).\n"
   ]
  },
  {
   "cell_type": "markdown",
   "metadata": {},
   "source": [
    "These means are skewed by the number of babies in the data. However, at a glance, the babies are clearly both numerous and dependable. "
   ]
  },
  {
   "cell_type": "code",
   "execution_count": 25,
   "metadata": {},
   "outputs": [
    {
     "data": {
      "text/plain": [
       "<matplotlib.legend.Legend at 0x7fbca4612320>"
      ]
     },
     "execution_count": 25,
     "metadata": {},
     "output_type": "execute_result"
    },
    {
     "data": {
      "image/png": "[encoded data removed]",
      "text/plain": [
       "<matplotlib.figure.Figure at 0x7fbca4769f60>"
      ]
     },
     "metadata": {
      "needs_background": "light"
     },
     "output_type": "display_data"
    }
   ],
   "source": [
    "df_sample_a = df.sample(n=9000)\n",
    "\n",
    "aa = pd.crosstab(df_sample_a.Age, df_sample_a.Attendance).plot(kind='bar', cmap = 'cool')\n",
    "aa.legend(title='Attendance')\n",
    "\n",
    "# Most of the charts are well done so I only have few comments here.\n",
    "\n",
    "# For the chart here below, the x-axis ticks are not readable. \n",
    "\n",
    "# Please use a histogram instead of a bar plot. \n",
    "\n",
    "# Another option is to increase the size of the figure till the \n",
    "\n",
    "# text is readable. as a general comment here, please make sure \n",
    "\n",
    "# that all the text that appears on a figure is readable.\n",
    "\n",
    "# Examp_1.jpg\n",
    "\n",
    "\n",
    "# The charts in the report should be clear and easy to interpret. \n",
    "# please add the x and the y axis for each chart, please add a descriptive title for each chart. \n",
    "# Please add a short discussion under each chart explaining what the chart depicts and your insight."
   ]
  },
  {
   "cell_type": "markdown",
   "metadata": {},
   "source": [
    "So many babies are keeping their appointments. \n",
    "\n",
    "Look at appointment ratios correlated to attenders vs missers. These are individual patients: they are either attenders (attended more than 75% of their appointments, or missers, missed more than 25% of their appointments."
   ]
  },
  {
   "cell_type": "code",
   "execution_count": 26,
   "metadata": {},
   "outputs": [
    {
     "name": "stdout",
     "output_type": "stream",
     "text": [
      "The correlation is 0.01\n",
      "The correlation is 0.06\n"
     ]
    }
   ],
   "source": [
    "# use a sample this is taking ages\n",
    "df_sample_p = df.sample(n=9000)\n",
    "df_keepers = df_sample_p.loc[df_sample_p['Attendance_Ratio'] > 0.75]\n",
    "df_missers = df_sample_p.loc[df_sample_p['Attendance_Ratio'] < 0.25]\n",
    "\n",
    "x = getcorr(df_keepers, df_keepers['Attendance_Ratio'],df_keepers['Age'])\n",
    "y = getcorr(df_missers, df_missers['Attendance_Ratio'],df_missers['Age'])"
   ]
  },
  {
   "cell_type": "markdown",
   "metadata": {},
   "source": [
    "The correlations are weak, but missers are younger on average than attenders.\n",
    "\n",
    "The location of the hospital is correlated to attendance at appointments. There are about 80 hospitals. The colour indicates attendance ratio: yellower means higher attendance."
   ]
  },
  {
   "cell_type": "code",
   "execution_count": 27,
   "metadata": {},
   "outputs": [
    {
     "data": {
      "image/png": "[encoded data removed]",
      "text/plain": [
       "<matplotlib.figure.Figure at 0x7fbca45c5908>"
      ]
     },
     "metadata": {
      "needs_background": "light"
     },
     "output_type": "display_data"
    }
   ],
   "source": [
    "# this gets really crowded so use a sample to get the point across\n",
    "df_sample = df_appointments.sample(n=3000)\n",
    "\n",
    "# after messing around with these values, these sizes ended up being best\n",
    "fig = plt.figure(figsize=(7, 7))\n",
    "plt.scatter(df_sample['Hospital'], df_sample['Time_Difference'],\n",
    "           linewidths=1, alpha=.5,\n",
    "           edgecolor='c',\n",
    "            cmap = 'viridis',\n",
    "           s = 30,\n",
    "           c=df_sample['Attendance_Ratio'])\n",
    "\n",
    "plt.xlabel('Hospitals')\n",
    "plt.ylabel('Time Difference')\n",
    "plt.colorbar()\n",
    "plt.show()\n",
    "\n",
    "# For the scatter plot here, \n",
    "# what does the color represents? \n",
    "# please add a color legend title to make sure what the color represents.\n",
    "\n",
    "# I also not completely sure why 'Hospitals' are indicated as a continuous number. \n",
    "# I assume 'Houspital' should be a categorical feature. \n",
    "# If so, the best representation of the data should be a box \n",
    "# plot where the y-axis will show the 'time difference distribution for each category.\n",
    "\n",
    "\n",
    "# The charts in the report should be clear and easy to interpret. \n",
    "# please add the x and the y axis for each chart, please add a descriptive title for each chart. \n",
    "# Please add a short discussion under each chart explaining what the chart depicts and your insight."
   ]
  },
  {
   "cell_type": "markdown",
   "metadata": {},
   "source": [
    "Some hospitals may not allow patients to schedule appointments too far in advance. This makes it difficult to determine if some hospitals have better attendance than others. Assuming they all have the same restrictions on scheduling appointments, some hospitals are clearly better attended than others."
   ]
  },
  {
   "cell_type": "code",
   "execution_count": 46,
   "metadata": {},
   "outputs": [
    {
     "data": {
      "text/plain": [
       "39    7717\n",
       "44    5805\n",
       "60    4430\n",
       "40    3877\n",
       "37    3514\n",
       "11    3334\n",
       "79    3131\n",
       "67    3131\n",
       "41    2853\n",
       "9     2773\n",
       "70    2744\n",
       "69    2571\n",
       "10    2565\n",
       "38    2509\n",
       "78    2448\n",
       "34    2266\n",
       "51    2264\n",
       "2     2262\n",
       "16    2217\n",
       "61    2215\n",
       "28    2018\n",
       "77    1977\n",
       "6     1907\n",
       "45    1902\n",
       "24    1889\n",
       "31    1885\n",
       "76    1836\n",
       "58    1553\n",
       "75    1439\n",
       "42    1427\n",
       "      ... \n",
       "72     547\n",
       "22     538\n",
       "63     506\n",
       "74     469\n",
       "54     452\n",
       "62     448\n",
       "66     438\n",
       "65     428\n",
       "5      423\n",
       "19     413\n",
       "49     371\n",
       "8      312\n",
       "12     310\n",
       "17     305\n",
       "4      282\n",
       "3      271\n",
       "25     258\n",
       "21     235\n",
       "64     178\n",
       "29     175\n",
       "80     152\n",
       "73     145\n",
       "50     135\n",
       "48      96\n",
       "55      69\n",
       "32      35\n",
       "33      10\n",
       "1        8\n",
       "35       2\n",
       "52       1\n",
       "Name: Hospital, Length: 81, dtype: int64"
      ]
     },
     "execution_count": 46,
     "metadata": {},
     "output_type": "execute_result"
    }
   ],
   "source": [
    "# Long Tables\n",
    "# Please avoid including very long tables in the report, it distracts \n",
    "# your readers from the main objective of the report. \n",
    "# Instead consider using summary statistics or .info() or .describe().\n",
    "\n",
    "df_ah = pd.DataFrame(df_appointments,columns=['Attendance', 'Hospital'])\n",
    "df_ah.groupby('Hospital').describe(include = 'all')\n",
    "df_ah['Hospital'].value_counts()\n",
    "\n",
    "\n",
    "# While the .describe() function provides you with the distribution \n",
    "# of the numerical features (single variable exploration). \n",
    "# Using visualization to examine each feature which is more informative \n",
    "# and will help you understand the data much better. \n",
    "# You can use a simple histogram (continuous features) or barplot ( categorical features).\n"
   ]
  },
  {
   "cell_type": "code",
   "execution_count": 29,
   "metadata": {},
   "outputs": [],
   "source": [
    "# hospitals by average attendance\n",
    "df_hf = pd.DataFrame(df_patients,columns=['Attendance_Sum', 'Hospital'])\n",
    "\n",
    "# make a frequency column\n",
    "df_hf['Hospital_Freq'] = df_hf.groupby('Hospital')['Hospital'].transform('count')\n",
    "\n",
    "# get number of appointments per hospital\n",
    "df_hf['Attendance_Sum'] = df_hf.groupby('Hospital')['Attendance_Sum'].transform('sum')\n",
    "\n",
    "# get an ratio of total appointments kept divided by total appointments made\n",
    "df_hf['Attendance_Sum_Ratio'] = df_hf['Attendance_Sum']/df_hf['Hospital_Freq']\n",
    "\n",
    "df_hf = df_hf.drop_duplicates(subset=['Hospital'])"
   ]
  },
  {
   "cell_type": "code",
   "execution_count": 30,
   "metadata": {},
   "outputs": [
    {
     "data": {
      "text/html": [
       "<div>\n",
       "<style scoped>\n",
       "    .dataframe tbody tr th:only-of-type {\n",
       "        vertical-align: middle;\n",
       "    }\n",
       "\n",
       "    .dataframe tbody tr th {\n",
       "        vertical-align: top;\n",
       "    }\n",
       "\n",
       "    .dataframe thead th {\n",
       "        text-align: right;\n",
       "    }\n",
       "</style>\n",
       "<table border=\"1\" class=\"dataframe\">\n",
       "  <thead>\n",
       "    <tr style=\"text-align: right;\">\n",
       "      <th></th>\n",
       "      <th>Attendance_Sum</th>\n",
       "      <th>Hospital</th>\n",
       "      <th>Hospital_Freq</th>\n",
       "      <th>Attendance_Sum_Ratio</th>\n",
       "    </tr>\n",
       "  </thead>\n",
       "  <tbody>\n",
       "    <tr>\n",
       "      <th>750</th>\n",
       "      <td>254</td>\n",
       "      <td>12</td>\n",
       "      <td>148</td>\n",
       "      <td>1.716216</td>\n",
       "    </tr>\n",
       "  </tbody>\n",
       "</table>\n",
       "</div>"
      ],
      "text/plain": [
       "     Attendance_Sum  Hospital  Hospital_Freq  Attendance_Sum_Ratio\n",
       "750             254        12            148              1.716216"
      ]
     },
     "execution_count": 30,
     "metadata": {},
     "output_type": "execute_result"
    }
   ],
   "source": [
    "sort_by_highest_ratio = df_hf.sort_values('Attendance_Sum_Ratio')\n",
    "\n",
    "sort_by_highest_ratio.tail(1)"
   ]
  },
  {
   "cell_type": "raw",
   "metadata": {},
   "source": [
    "Hospital #39 gets a lot of appointments scheduled, but Hospital # 12 has the highest attendance ratio.\n",
    "\n",
    "Some hospitals are in neighbourhoods with a high level of patients with assistance. What is the correlation between neighbourhood and assistance?"
   ]
  },
  {
   "cell_type": "code",
   "execution_count": 31,
   "metadata": {},
   "outputs": [
    {
     "name": "stdout",
     "output_type": "stream",
     "text": [
      "The correlation is 0.0\n"
     ]
    },
    {
     "data": {
      "image/png": "[encoded data removed]",
      "text/plain": [
       "<matplotlib.figure.Figure at 0x7fbc9d655dd8>"
      ]
     },
     "metadata": {
      "needs_background": "light"
     },
     "output_type": "display_data"
    }
   ],
   "source": [
    "getcorr(df, df['Assistance'], df['Hospital'])\n",
    "\n",
    "df_sample_a = df.sample(n=9000)\n",
    "\n",
    "aa = pd.crosstab(df_sample_a.Assistance, df_sample_a.Hospital).plot(kind='bar', cmap = 'cool', legend = False)\n",
    "\n",
    "# What the color represents here? Please add a color legend. What the y-axis represents? \n",
    "\n",
    "# The charts in the report should be clear and easy to interpret. \n",
    "# please add the x and the y axis for each chart, please add a descriptive title for each chart. \n",
    "# Please add a short discussion under each chart explaining what the chart depicts and your insight.\n",
    "\n",
    "\n",
    "# The charts in the report should be clear and easy to interpret. \n",
    "# please add the x and the y axis for each chart, please add a descriptive title for each chart. \n",
    "# Please add a short discussion under each chart explaining what the chart depicts and your insight."
   ]
  },
  {
   "cell_type": "markdown",
   "metadata": {},
   "source": [
    "Most patients are not on assistance, but there is no correlation between assistance and hospital. Is there a correlation between assistance and attendance ratio?"
   ]
  },
  {
   "cell_type": "code",
   "execution_count": 32,
   "metadata": {},
   "outputs": [
    {
     "name": "stdout",
     "output_type": "stream",
     "text": [
      "The correlation is -0.03\n"
     ]
    },
    {
     "data": {
      "text/plain": [
       "<matplotlib.axes._subplots.AxesSubplot at 0x7fbc9c5539b0>"
      ]
     },
     "execution_count": 32,
     "metadata": {},
     "output_type": "execute_result"
    },
    {
     "data": {
      "image/png": "[encoded data removed]",
      "text/plain": [
       "<matplotlib.figure.Figure at 0x7fbc9c5005f8>"
      ]
     },
     "metadata": {
      "needs_background": "light"
     },
     "output_type": "display_data"
    }
   ],
   "source": [
    "getcorr(df, df['Assistance'], df['Attendance_Ratio'])\n",
    "\n",
    "df_aaaa = pd.DataFrame(df_appointments,columns=['Attendance_Ratio','Assistance', 'Age'])\n",
    "\n",
    "df_aaaa['Assistance'].value_counts().plot(kind='bar', cmap = 'viridis')\n",
    "\n",
    "\n",
    "# The charts in the report should be clear and easy to interpret. \n",
    "# please add the x and the y axis for each chart, please add a descriptive title for each chart. \n",
    "# Please add a short discussion under each chart explaining what the chart depicts and your insight."
   ]
  },
  {
   "cell_type": "markdown",
   "metadata": {},
   "source": [
    "These correlations are weak.\n",
    "\n",
    "In general, babies, perhaps by sheer numbers, are excellent attenders. Otherwise, attenders seem to skew a little older than missers. For whatever reason, Hospital 39 has great attendance. Whether Hospital 39 is in a neighbourhood with a larger population or is associated with good outcomes, I cannot tell."
   ]
  },
  {
   "cell_type": "markdown",
   "metadata": {},
   "source": [
    "### Do sick people keep their appointments? Health questions analysis\n",
    "\n",
    "Health factors may correlate with missed appointments. For example, men with alcoholism might miss more appointments than women with diabetes.\n",
    "\n",
    "Take a look at the patients with a high attendance ratio."
   ]
  },
  {
   "cell_type": "code",
   "execution_count": 33,
   "metadata": {},
   "outputs": [
    {
     "data": {
      "text/plain": [
       "<matplotlib.axes._subplots.AxesSubplot at 0x7fbc9c361d68>"
      ]
     },
     "execution_count": 33,
     "metadata": {},
     "output_type": "execute_result"
    },
    {
     "data": {
      "image/png": "[encoded data removed]",
      "text/plain": [
       "<matplotlib.figure.Figure at 0x7fbc9c500b38>"
      ]
     },
     "metadata": {
      "needs_background": "light"
     },
     "output_type": "display_data"
    }
   ],
   "source": [
    "df_keepers = df_sample_p.loc[df['Attendance_Ratio'] > 0.75]\n",
    "\n",
    "df_k = pd.DataFrame(df_keepers,columns=[\"Diabetes\", \"Alcoholism\", \"Disability\", \"Gender\", \"Hypertension\"])\n",
    "df_k.groupby('Gender').mean().plot(kind = 'bar')\n",
    "# 1 = f 0 = m\n",
    "\n",
    "\n",
    "# The charts in the report should be clear and easy to interpret. \n",
    "# please add the x and the y axis for each chart, please add a descriptive title for each chart. \n",
    "# Please add a short discussion under each chart explaining what the chart depicts and your insight."
   ]
  },
  {
   "cell_type": "markdown",
   "metadata": {},
   "source": [
    "Of the attenders, it appears people with hypertension are most represented.\n",
    "Correlations are in general, weak."
   ]
  },
  {
   "cell_type": "code",
   "execution_count": 34,
   "metadata": {},
   "outputs": [],
   "source": [
    "# maybe i should have make the data numerical instead of categorical\n",
    "# i have to change it to do the chart\n",
    "from sklearn.preprocessing import LabelEncoder\n",
    "\n",
    "df_sm = pd.DataFrame(df_freq, columns = ['Age', 'Gender', 'Time_Difference', 'Hospital', 'Hypertension', 'Diabetes', 'Alcoholism', 'Disability', 'Attendance_Ratio'])\n",
    "\n",
    "# had to reset the index for this to work, but i'm not sure why\n",
    "df_sm = df_sm.reset_index()\n",
    "\n",
    "# this is going to make my categorical values into numbers\n",
    "labelencoder=LabelEncoder()\n",
    "for column in df_sm.columns:\n",
    "    df_sm[column] = labelencoder.fit_transform(df_sm[column])"
   ]
  },
  {
   "cell_type": "code",
   "execution_count": 35,
   "metadata": {},
   "outputs": [
    {
     "data": {
      "text/plain": [
       "<matplotlib.axes._subplots.AxesSubplot at 0x7fbc9c237710>"
      ]
     },
     "execution_count": 35,
     "metadata": {},
     "output_type": "execute_result"
    },
    {
     "data": {
      "image/png": "[encoded data removed]",
      "text/plain": [
       "<matplotlib.figure.Figure at 0x7fbc9c308860>"
      ]
     },
     "metadata": {
      "needs_background": "light"
     },
     "output_type": "display_data"
    }
   ],
   "source": [
    "# I need to be able to see it all at once on my screen so i squished it\n",
    "plt.figure(figsize = (10,5))\n",
    "sb.heatmap(df_sm.corr().round(3),linewidths=.1,cmap=\"cool\", annot = True)\n",
    "\n",
    "\n",
    "# The charts in the report should be clear and easy to interpret. \n",
    "# please add the x and the y axis for each chart, please add a descriptive title for each chart. \n",
    "# Please add a short discussion under each chart explaining what the chart depicts and your insight."
   ]
  },
  {
   "cell_type": "markdown",
   "metadata": {},
   "source": [
    "I didn't see any strong correlations with attendance."
   ]
  },
  {
   "cell_type": "markdown",
   "metadata": {},
   "source": [
    "Did people on assistance miss more appointments? Does disability influence the outcome?"
   ]
  },
  {
   "cell_type": "code",
   "execution_count": 50,
   "metadata": {},
   "outputs": [
    {
     "data": {
      "text/plain": [
       "<matplotlib.axes._subplots.AxesSubplot at 0x7f81f9237898>"
      ]
     },
     "execution_count": 50,
     "metadata": {},
     "output_type": "execute_result"
    },
    {
     "data": {
      "image/png": "[encoded data removed]",
      "text/plain": [
       "<matplotlib.figure.Figure at 0x7f82061274e0>"
      ]
     },
     "metadata": {
      "needs_background": "light"
     },
     "output_type": "display_data"
    }
   ],
   "source": [
    "df_sample = df_freq.sample(n=2000)\n",
    "df_sample = df_sample[['Attendance', 'Assistance', 'Age', 'Disability']]\n",
    "df_sample['Disability'] = df_sample['Disability'].astype('int64')\n",
    "\n",
    "plt.figure(figsize=(6,2))\n",
    "sb.swarmplot(x = 'Attendance', y = 'Assistance', data = df_sample, hue = 'Disability', \n",
    "             dodge = True, palette = 'viridis')\n",
    "\n",
    "\n",
    "# The charts in the report should be clear and easy to interpret. \n",
    "# please add the x and the y axis for each chart, please add a descriptive title for each chart. \n",
    "# Please add a short discussion under each chart explaining what the chart depicts and your insight."
   ]
  },
  {
   "cell_type": "markdown",
   "metadata": {},
   "source": [
    "People with disabilities not on assistance were more likely to make appointments than their assisted peers. The correlations are low, however."
   ]
  },
  {
   "cell_type": "markdown",
   "metadata": {},
   "source": [
    "<a id='conclusions'></a>\n",
    "## Conclusions\n",
    "The most likely patient to keep an appointment will have a same-day appointment. This is common sense. The patients at hospital 12 had the highest attendance ratios.\n",
    "\n",
    "But who were the best attenders?\n",
    "\n",
    "## Please expand the discussion about the limitations and the shortcoming for the analysis and the dataset.\n",
    "For example, how many samples the data include? Do you think that the number of samples is a good representative of the population? Do you think that missing values might influence the results of the analysis? The analysis includes comparisons between different categories, you can discuss the importance of statistical test to appreciate the significance of the differences. Optionally you can even implement the appropriate statistical test."
   ]
  },
  {
   "cell_type": "code",
   "execution_count": 58,
   "metadata": {},
   "outputs": [
    {
     "data": {
      "text/plain": [
       "Patient_ID          31166.758788\n",
       "Appointment_ID      54210.923987\n",
       "Gender                  0.360643\n",
       "Age                    37.627327\n",
       "Hospital               43.002352\n",
       "Assistance              0.086767\n",
       "Hypertension            0.206600\n",
       "Diabetes                0.073168\n",
       "Alcoholism              0.022089\n",
       "Disability              0.021059\n",
       "SMS_received            0.297242\n",
       "Attendance              1.000000\n",
       "Time_Difference         9.807223\n",
       "Frequency               1.511974\n",
       "Attendance_Sum          1.511974\n",
       "Attendance_Ratio        1.000000\n",
       "dtype: float64"
      ]
     },
     "execution_count": 58,
     "metadata": {},
     "output_type": "execute_result"
    }
   ],
   "source": [
    "# get the patients with perfect attendance ratios\n",
    "sort_by_highest_ratio_p = df_patients.loc[df['Attendance_Ratio'] == 1]\n",
    "\n",
    "# get the mean for each factor\n",
    "sort_by_highest_ratio_p.mean()"
   ]
  },
  {
   "cell_type": "markdown",
   "metadata": {},
   "source": [
    "The most likely patient to attend an appointment is a man, aged 37, who scheduled about 10 days in advance and doesn't go to the hospital more than once a month or so. He might have hypertension, but probably not. He's not on assistance and he might have received an SMS."
   ]
  },
  {
   "cell_type": "markdown",
   "metadata": {},
   "source": [
    "### Limitations\n",
    "I made a good guess as to what 'Disability' indicated, but it was only a guess. I didn't check to see which were more likely to be missed, first or subsequent appointments. All the correlations seemed fairly weak, except for obvious ones like diabetes with hypertension. I focussed on the attenders, not the missers: there may have been a very clear type of misser but I wouldn't know. I didn't figure out what the SMS might indicate. A reminder call? A follow-up call? I didn't investigate."
   ]
  },
  {
   "cell_type": "markdown",
   "metadata": {},
   "source": [
    "## OPTIONAL: Question for the reviewer\n",
    " \n",
    "If you have any question about the starter code or your own implementation, please add it in the cell below. \n",
    "\n",
    "For example, if you want to know why a piece of code is written the way it is, or its function, or alternative ways of implementing the same functionality, or if you want to get feedback on a specific part of your code or get feedback on things you tried but did not work.\n",
    "\n",
    "Please keep your questions succinct and clear to help the reviewer answer them satisfactorily. \n",
    "\n",
    "> **_Your question_**\n",
    "I am so sure that babies and older people each have a higher attendance ratio than people in the middle, but I couldn't figure out how to show it. I separated the age data into bins and made a million pies, but I couldn't figure it out. I decided then that i was probably wrong, but i just can't shake the intuition. What could I have done differently?\n",
    "\n",
    "> Why can't I just get the most attended hospital with this and appending .max() or .head()?\n",
    "> df_ah['Hospital'].value_counts()"
   ]
  },
  {
   "cell_type": "code",
   "execution_count": null,
   "metadata": {},
   "outputs": [],
   "source": [
    "from subprocess import call\n",
    "call(['python', '-m', 'nbconvert', 'Investigate_a_Dataset.ipynb'])"
   ]
  }
 ],
 "metadata": {
  "kernelspec": {
   "display_name": "Python 3",
   "language": "python",
   "name": "python3"
  },
  "language_info": {
   "codemirror_mode": {
    "name": "ipython",
    "version": 3
   },
   "file_extension": ".py",
   "mimetype": "text/x-python",
   "name": "python",
   "nbconvert_exporter": "python",
   "pygments_lexer": "ipython3",
   "version": "3.6.3"
  }
 },
 "nbformat": 4,
 "nbformat_minor": 2
}
