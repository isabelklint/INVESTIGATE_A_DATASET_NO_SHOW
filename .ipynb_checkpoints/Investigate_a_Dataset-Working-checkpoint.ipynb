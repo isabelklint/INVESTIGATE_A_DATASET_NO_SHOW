{
 "cells": [
  {
   "cell_type": "markdown",
   "metadata": {},
   "source": [
    "\n",
    "# Project: Investigate a Dataset - No-show appointments dataset\n",
    "\n",
    "## Table of Contents\n",
    "<ul>\n",
    "<li><a href=\"#intro\">Introduction</a></li>\n",
    "<li><a href=\"#wrangling\">Data Wrangling</a></li>\n",
    "<li><a href=\"#eda\">Exploratory Data Analysis</a></li>\n",
    "<li><a href=\"#conclusions\">Conclusions</a></li>\n",
    "</ul>"
   ]
  },
  {
   "cell_type": "markdown",
   "metadata": {},
   "source": [
    "<a id='intro'></a>\n",
    "## Introduction\n",
    "\n",
    "### Dataset Description \n",
    "\n",
    "The focus of this investigation is the characteristics of people who missed appointments. This No-show dataset from Kaggle provides the details of 100k medical appointments in Brazil. Specifically, the data holds information about the hospital where patients scheduled appointments, demographic and health data of the patients, and whether or not they kept their appointments.\n",
    "\n",
    "My analyses are focussed on the dependent variables: patient ID, or appointment_ID. I will look at missed appointments by length of time between scheduling and appointment, and patient demographic features like  hospital and age group, and by patient health factors. Can I predict what type of person is most likely to keep an appointment?\n",
    "\n",
    "Here are the column names and a brief description of each:\n",
    "\n",
    "- PatientId: A unique ID for each patient</li>\n",
    "- AppointmentID: A unique ID for each appointment</li>\n",
    "- ScheduledDay: The day the patient made their appointment</li>\n",
    "- AppointmentDay: The day of the appointment</li>\n",
    "- Gender, Age: patient demographic information</li>\n",
    "- Neighbourhood: The location of the hospital</li>\n",
    "- Scholarship:  ‘Yes’ denotes that the patient is using Brasilian government assistance (Bolsa Família)</li>\n",
    "- Hipertension, Diabetes, Alcoholism, Handcap: health factors. Presumably ‘Handcap’ refers to disability status</li>\n",
    "- SMS_received: Whether the patient received a text reminder.</li>\n",
    "- No-show: Whether the patient missed an appointment (Yes) or kept an appointment (No)</li>"
   ]
  },
  {
   "cell_type": "code",
   "execution_count": 1,
   "metadata": {},
   "outputs": [],
   "source": [
    "# import statements\n",
    "\n",
    "import pandas as pd\n",
    "import matplotlib.pyplot as plt\n",
    "import numpy as np\n",
    "import dask.dataframe as dd\n",
    "import seaborn as sb\n",
    "pd.options.mode.chained_assignment = None  # Apparently this helps me with all my renaming issues\n",
    "\n",
    "# 'magic word'\n",
    "%matplotlib inline"
   ]
  },
  {
   "cell_type": "markdown",
   "metadata": {},
   "source": [
    "<a id='wrangling'></a>\n",
    "## Data Wrangling"
   ]
  },
  {
   "cell_type": "markdown",
   "metadata": {},
   "source": [
    "The No-show data comes from Kaggle and is provided by Udacity. Here are the first few rows of data, and the total number of rows and columns."
   ]
  },
  {
   "cell_type": "code",
   "execution_count": 2,
   "metadata": {},
   "outputs": [
    {
     "data": {
      "text/html": [
       "<div>\n",
       "<style scoped>\n",
       "    .dataframe tbody tr th:only-of-type {\n",
       "        vertical-align: middle;\n",
       "    }\n",
       "\n",
       "    .dataframe tbody tr th {\n",
       "        vertical-align: top;\n",
       "    }\n",
       "\n",
       "    .dataframe thead th {\n",
       "        text-align: right;\n",
       "    }\n",
       "</style>\n",
       "<table border=\"1\" class=\"dataframe\">\n",
       "  <thead>\n",
       "    <tr style=\"text-align: right;\">\n",
       "      <th></th>\n",
       "      <th>PatientId</th>\n",
       "      <th>AppointmentID</th>\n",
       "      <th>Gender</th>\n",
       "      <th>ScheduledDay</th>\n",
       "      <th>AppointmentDay</th>\n",
       "      <th>Age</th>\n",
       "      <th>Neighbourhood</th>\n",
       "      <th>Scholarship</th>\n",
       "      <th>Hipertension</th>\n",
       "      <th>Diabetes</th>\n",
       "      <th>Alcoholism</th>\n",
       "      <th>Handcap</th>\n",
       "      <th>SMS_received</th>\n",
       "      <th>No-show</th>\n",
       "    </tr>\n",
       "  </thead>\n",
       "  <tbody>\n",
       "    <tr>\n",
       "      <th>0</th>\n",
       "      <td>2.987250e+13</td>\n",
       "      <td>5642903.0</td>\n",
       "      <td>F</td>\n",
       "      <td>2016-04-29T18:38:08Z</td>\n",
       "      <td>2016-04-29T00:00:00Z</td>\n",
       "      <td>62.0</td>\n",
       "      <td>JARDIM DA PENHA</td>\n",
       "      <td>0.0</td>\n",
       "      <td>1.0</td>\n",
       "      <td>0.0</td>\n",
       "      <td>0.0</td>\n",
       "      <td>0.0</td>\n",
       "      <td>0.0</td>\n",
       "      <td>No</td>\n",
       "    </tr>\n",
       "    <tr>\n",
       "      <th>1</th>\n",
       "      <td>5.589978e+14</td>\n",
       "      <td>5642503.0</td>\n",
       "      <td>M</td>\n",
       "      <td>2016-04-29T16:08:27Z</td>\n",
       "      <td>2016-04-29T00:00:00Z</td>\n",
       "      <td>56.0</td>\n",
       "      <td>JARDIM DA PENHA</td>\n",
       "      <td>0.0</td>\n",
       "      <td>0.0</td>\n",
       "      <td>0.0</td>\n",
       "      <td>0.0</td>\n",
       "      <td>0.0</td>\n",
       "      <td>0.0</td>\n",
       "      <td>No</td>\n",
       "    </tr>\n",
       "    <tr>\n",
       "      <th>2</th>\n",
       "      <td>4.262962e+12</td>\n",
       "      <td>5642549.0</td>\n",
       "      <td>F</td>\n",
       "      <td>2016-04-29T16:19:04Z</td>\n",
       "      <td>2016-04-29T00:00:00Z</td>\n",
       "      <td>62.0</td>\n",
       "      <td>MATA DA PRAIA</td>\n",
       "      <td>0.0</td>\n",
       "      <td>0.0</td>\n",
       "      <td>0.0</td>\n",
       "      <td>0.0</td>\n",
       "      <td>0.0</td>\n",
       "      <td>0.0</td>\n",
       "      <td>No</td>\n",
       "    </tr>\n",
       "    <tr>\n",
       "      <th>3</th>\n",
       "      <td>8.679512e+11</td>\n",
       "      <td>5642828.0</td>\n",
       "      <td>F</td>\n",
       "      <td>2016-04-29T17:29:31Z</td>\n",
       "      <td>2016-04-29T00:00:00Z</td>\n",
       "      <td>8.0</td>\n",
       "      <td>PONTAL DE CAMBURI</td>\n",
       "      <td>0.0</td>\n",
       "      <td>0.0</td>\n",
       "      <td>0.0</td>\n",
       "      <td>0.0</td>\n",
       "      <td>0.0</td>\n",
       "      <td>0.0</td>\n",
       "      <td>No</td>\n",
       "    </tr>\n",
       "    <tr>\n",
       "      <th>4</th>\n",
       "      <td>8.841186e+12</td>\n",
       "      <td>5642494.0</td>\n",
       "      <td>F</td>\n",
       "      <td>2016-04-29T16:07:23Z</td>\n",
       "      <td>2016-04-29T00:00:00Z</td>\n",
       "      <td>56.0</td>\n",
       "      <td>JARDIM DA PENHA</td>\n",
       "      <td>0.0</td>\n",
       "      <td>1.0</td>\n",
       "      <td>1.0</td>\n",
       "      <td>0.0</td>\n",
       "      <td>0.0</td>\n",
       "      <td>0.0</td>\n",
       "      <td>No</td>\n",
       "    </tr>\n",
       "  </tbody>\n",
       "</table>\n",
       "</div>"
      ],
      "text/plain": [
       "      PatientId  AppointmentID Gender          ScheduledDay  \\\n",
       "0  2.987250e+13      5642903.0      F  2016-04-29T18:38:08Z   \n",
       "1  5.589978e+14      5642503.0      M  2016-04-29T16:08:27Z   \n",
       "2  4.262962e+12      5642549.0      F  2016-04-29T16:19:04Z   \n",
       "3  8.679512e+11      5642828.0      F  2016-04-29T17:29:31Z   \n",
       "4  8.841186e+12      5642494.0      F  2016-04-29T16:07:23Z   \n",
       "\n",
       "         AppointmentDay   Age      Neighbourhood  Scholarship  Hipertension  \\\n",
       "0  2016-04-29T00:00:00Z  62.0    JARDIM DA PENHA          0.0           1.0   \n",
       "1  2016-04-29T00:00:00Z  56.0    JARDIM DA PENHA          0.0           0.0   \n",
       "2  2016-04-29T00:00:00Z  62.0      MATA DA PRAIA          0.0           0.0   \n",
       "3  2016-04-29T00:00:00Z   8.0  PONTAL DE CAMBURI          0.0           0.0   \n",
       "4  2016-04-29T00:00:00Z  56.0    JARDIM DA PENHA          0.0           1.0   \n",
       "\n",
       "   Diabetes  Alcoholism  Handcap  SMS_received No-show  \n",
       "0       0.0         0.0      0.0           0.0      No  \n",
       "1       0.0         0.0      0.0           0.0      No  \n",
       "2       0.0         0.0      0.0           0.0      No  \n",
       "3       0.0         0.0      0.0           0.0      No  \n",
       "4       1.0         0.0      0.0           0.0      No  "
      ]
     },
     "execution_count": 2,
     "metadata": {},
     "output_type": "execute_result"
    }
   ],
   "source": [
    "# data from Kaggle and Udacity: noshowappointments-kagglev2-may-2016.csv\n",
    "\n",
    "# df = pd.read_csv('/Database_No_show_appointments/noshowappointments-kagglev2-may-2016.csv')\n",
    "# df.head()\n",
    "# error: dataset too large\n",
    "\n",
    "# use dask\n",
    "df_dd = dd.read_csv(\"Database_No_show_appointments/noshowappointments-kagglev2-may-2016.csv\", assume_missing=True)\n",
    "df_dd.head(5)"
   ]
  },
  {
   "cell_type": "code",
   "execution_count": 3,
   "metadata": {},
   "outputs": [],
   "source": [
    "# change the dataframe type to continue using pandas\n",
    "df = df_dd.compute()"
   ]
  },
  {
   "cell_type": "markdown",
   "metadata": {},
   "source": [
    "Here is a overview of the data:"
   ]
  },
  {
   "cell_type": "code",
   "execution_count": 4,
   "metadata": {},
   "outputs": [
    {
     "name": "stdout",
     "output_type": "stream",
     "text": [
      "<class 'pandas.core.frame.DataFrame'>\n",
      "RangeIndex: 110527 entries, 0 to 110526\n",
      "Data columns (total 14 columns):\n",
      "PatientId         110527 non-null float64\n",
      "AppointmentID     110527 non-null float64\n",
      "Gender            110527 non-null object\n",
      "ScheduledDay      110527 non-null object\n",
      "AppointmentDay    110527 non-null object\n",
      "Age               110527 non-null float64\n",
      "Neighbourhood     110527 non-null object\n",
      "Scholarship       110527 non-null float64\n",
      "Hipertension      110527 non-null float64\n",
      "Diabetes          110527 non-null float64\n",
      "Alcoholism        110527 non-null float64\n",
      "Handcap           110527 non-null float64\n",
      "SMS_received      110527 non-null float64\n",
      "No-show           110527 non-null object\n",
      "dtypes: float64(9), object(5)\n",
      "memory usage: 11.8+ MB\n"
     ]
    }
   ],
   "source": [
    "# quick overview of data\n",
    "df.info()"
   ]
  },
  {
   "cell_type": "code",
   "execution_count": 5,
   "metadata": {},
   "outputs": [
    {
     "name": "stdout",
     "output_type": "stream",
     "text": [
      "There are 0 duplicated rows.\n"
     ]
    }
   ],
   "source": [
    "# look for duplicated rows\n",
    "d = sum(df.duplicated())\n",
    "print('There are', d, 'duplicated rows.')"
   ]
  },
  {
   "cell_type": "code",
   "execution_count": 6,
   "metadata": {},
   "outputs": [
    {
     "name": "stdout",
     "output_type": "stream",
     "text": [
      "Appointment IDs are duplicated 0 times.\n"
     ]
    }
   ],
   "source": [
    "# look for duplicates where none should be\n",
    "s = sum(df['AppointmentID'].duplicated())\n",
    "print('Appointment IDs are duplicated', s, 'times.')"
   ]
  },
  {
   "cell_type": "markdown",
   "metadata": {},
   "source": [
    "Some column names and datatypes need to be changed.\n",
    "\n",
    "First, ScheduledDay and AppointmentDay are 'object' datatypes. I changed these to date."
   ]
  },
  {
   "cell_type": "code",
   "execution_count": 7,
   "metadata": {},
   "outputs": [],
   "source": [
    "# change day columns to datetime type\n",
    "df[['ScheduledDay', 'AppointmentDay']] = df[['ScheduledDay', 'AppointmentDay']].apply(pd.to_datetime)\n",
    "df['ScheduledDate'] = df['ScheduledDay'].dt.date\n",
    "df['AppointmentDate'] = df['AppointmentDay'].dt.date\n",
    "df = df"
   ]
  },
  {
   "cell_type": "markdown",
   "metadata": {},
   "source": [
    "Also, I removed appointments that were scheduled after they occurred.\n",
    "\n",
    "I wondered if same day appointments were missed at a different rate, because presumably they were urgent. "
   ]
  },
  {
   "cell_type": "code",
   "execution_count": 8,
   "metadata": {},
   "outputs": [],
   "source": [
    "# make attendance numerical for sth later\n",
    "df['No-show'] = df['No-show'].replace(['No'],'hold')\n",
    "\n",
    "# if no-show is yes, they didn't show up and the value should be attendance = 0\n",
    "df['No-show'] = df['No-show'].replace(['Yes'],'0')\n",
    "\n",
    "# if no-show is no, they did show up and the value should be attendance = 1\n",
    "df['No-show'] = df['No-show'].replace(['hold'],'1')\n",
    "\n",
    "# make a separate dataframe so you don't get confused\n",
    "df_time = df"
   ]
  },
  {
   "cell_type": "code",
   "execution_count": 9,
   "metadata": {},
   "outputs": [
    {
     "data": {
      "text/plain": [
       "Text(0,0.5,'Number of Patients')"
      ]
     },
     "execution_count": 9,
     "metadata": {},
     "output_type": "execute_result"
    },
    {
     "data": {
      "image/png": "[encoded data removed]",
      "text/plain": [
       "<matplotlib.figure.Figure at 0x7f7d2e8a1828>"
      ]
     },
     "metadata": {
      "needs_background": "light"
     },
     "output_type": "display_data"
    }
   ],
   "source": [
    "# drop any appointments that were scheduled after the appointment date\n",
    "df_same_day_appointment = df_time.loc[df_time['ScheduledDate'] == df_time['AppointmentDate']] \n",
    "\n",
    "df_not_same_day_appointment = df_time.loc[df_time['ScheduledDate'] != df_time['AppointmentDate']] \n",
    "\n",
    "df_same_day_appointment['No-show'].value_counts().plot(kind='bar', title = 'Same-day Appointments', cmap = 'viridis')\n",
    "\n",
    "plt.xlabel('Appointment Attendance', fontsize = 16)\n",
    "plt.ylabel('Number of Patients', fontsize = 16)"
   ]
  },
  {
   "cell_type": "code",
   "execution_count": 10,
   "metadata": {},
   "outputs": [
    {
     "data": {
      "text/plain": [
       "Text(0,0.5,'Number of Patients')"
      ]
     },
     "execution_count": 10,
     "metadata": {},
     "output_type": "execute_result"
    },
    {
     "data": {
      "image/png": "[encoded data removed]",
      "text/plain": [
       "<matplotlib.figure.Figure at 0x7f7d2e8f9588>"
      ]
     },
     "metadata": {
      "needs_background": "light"
     },
     "output_type": "display_data"
    }
   ],
   "source": [
    "df_not_same_day_appointment['No-show'].value_counts().plot(kind='bar', title = 'Not same-day Appointments', cmap = 'viridis')\n",
    "plt.xlabel('Appointment Attendance', fontsize = 16)\n",
    "plt.ylabel('Number of Patients', fontsize = 16)"
   ]
  },
  {
   "cell_type": "code",
   "execution_count": 11,
   "metadata": {},
   "outputs": [],
   "source": [
    "df = df_time.loc[df_time['ScheduledDate'] < df_time['AppointmentDate']] "
   ]
  },
  {
   "cell_type": "markdown",
   "metadata": {},
   "source": [
    "Same day appointments were much more likely to be kept than appointments scheduled for future dates. I removed them because anyone might have a reason for an urgent appointment and it is unlikely they would skip it. Their information won't help my analysis beyond this point: The most likely patient to keep an appointment will have a same-day appointment. This is common sense.\n",
    "\n",
    "Some appointments were scheduled after the date of the appointment: I removed those.\n",
    "\n",
    "Knowing the length in time between scheduling an appointment and keeping it will be useful. I add a column 'Time_Difference' for that information."
   ]
  },
  {
   "cell_type": "code",
   "execution_count": 12,
   "metadata": {},
   "outputs": [],
   "source": [
    "# get the difference in time between scheduling and the appointment date\n",
    "df_time['Time_Difference'] = (df.AppointmentDate - df.ScheduledDate).astype('timedelta64[D]')\n",
    "\n",
    "df = df_time # get name back\n",
    "\n",
    "#get rid of NaN\n",
    "df['Time_Difference'] = df_time['Time_Difference'].replace('NaN', 0)"
   ]
  },
  {
   "cell_type": "markdown",
   "metadata": {},
   "source": [
    "Next, the No-show column and values are changed to be less confusing. In the original data, a 'no' in the 'No-show' column indicates a kept appointment and a 'Yes' indicates a missed appointment. A 'yes' in a row about appointments indicating that the appointment was kept is clearer.\n",
    "\n",
    "The different capitalisation between PatientId and AppointmentID is confusing. Those column headers are changed. Also, the values for PatientId and AppointmentID are too long for easy reading.\n",
    "\n",
    "Hypertension is spelled as 'hipertension': that has been changed.  As column headers, 'Disability' is preferrable to 'Handcap' and 'Assistance' is clearer than 'Scholarship'. 'Neighbourhood' refers to the location of the hospital, so that has been changed to 'Hospital'. Also, underscores were added where a space would naturally go to make the headers easier to read."
   ]
  },
  {
   "cell_type": "code",
   "execution_count": 13,
   "metadata": {},
   "outputs": [],
   "source": [
    "# change column headings\n",
    "df = df.rename(columns = {'AppointmentID': 'Appointment_ID',\n",
    "                          'PatientId': 'Patient_ID',\n",
    "                          'AppointmentDay': 'Appointment_Day',\n",
    "                          'ScheduledDay': 'Scheduled_Day',\n",
    "                          'Scholarship': 'Assistance',\n",
    "                          'Neighbourhood': 'Hospital',\n",
    "                          'Hipertension': 'Hypertension',\n",
    "                          'Handcap': 'Disability',\n",
    "                          'No-show': 'Attendance'})"
   ]
  },
  {
   "cell_type": "code",
   "execution_count": 14,
   "metadata": {},
   "outputs": [
    {
     "name": "stdout",
     "output_type": "stream",
     "text": [
      "(110527, 17)\n"
     ]
    }
   ],
   "source": [
    "# change to not scientific numbers\n",
    "# or just numbers\n",
    "for column in ['Appointment_ID','Hospital','Patient_ID', 'Alcoholism', 'Disability', 'Hypertension', 'Diabetes', 'Assistance', 'Gender']:\n",
    "         df[column] = df.groupby(column).ngroup() + 1\n",
    "        \n",
    "\n",
    "def getvaluecounts(df, column_1, column_2):\n",
    "    x = column_1\n",
    "    y = column_2\n",
    "    count = df.groupby([x, y]).count()\n",
    "    print(count)\n",
    "\n",
    "# get data that isn't by appointment frequency\n",
    "df_entire = df\n",
    "\n",
    "x = df.shape\n",
    "print(x)"
   ]
  },
  {
   "cell_type": "markdown",
   "metadata": {},
   "source": [
    "Some patients have multiple appointments. It would make more sense to combine each patient's appointments by attendance. That way, each patient is represented once. If we need information about individual appointments, we can use the df_copy dataframe for analysis. What if a patient had a summer birthday?"
   ]
  },
  {
   "cell_type": "code",
   "execution_count": 15,
   "metadata": {
    "scrolled": true
   },
   "outputs": [
    {
     "name": "stdout",
     "output_type": "stream",
     "text": [
      "                 Patient_ID  Appointment_ID  Gender  Scheduled_Day  \\\n",
      "Patient_ID Age                                                       \n",
      "1          44.0           1               1       1              1   \n",
      "2          39.0           1               1       1              1   \n",
      "3          33.0           1               1       1              1   \n",
      "4          12.0           1               1       1              1   \n",
      "5          14.0           1               1       1              1   \n",
      "6          13.0           1               1       1              1   \n",
      "7          16.0           1               1       1              1   \n",
      "8          22.0           1               1       1              1   \n",
      "           23.0           1               1       1              1   \n",
      "9          28.0           2               2       2              2   \n",
      "10         32.0           1               1       1              1   \n",
      "11         62.0           1               1       1              1   \n",
      "12         10.0           1               1       1              1   \n",
      "13         29.0           2               2       2              2   \n",
      "14         21.0           1               1       1              1   \n",
      "15         21.0           2               2       2              2   \n",
      "16         68.0           1               1       1              1   \n",
      "17         3.0            2               2       2              2   \n",
      "18         27.0           1               1       1              1   \n",
      "19         25.0           1               1       1              1   \n",
      "20         28.0           2               2       2              2   \n",
      "21         35.0           1               1       1              1   \n",
      "22         80.0           2               2       2              2   \n",
      "23         74.0           2               2       2              2   \n",
      "24         62.0           2               2       2              2   \n",
      "25         16.0           1               1       1              1   \n",
      "26         32.0           3               3       3              3   \n",
      "27         56.0           2               2       2              2   \n",
      "28         29.0           1               1       1              1   \n",
      "29         21.0           2               2       2              2   \n",
      "...                     ...             ...     ...            ...   \n",
      "62271      61.0           2               2       2              2   \n",
      "62272      1.0            2               2       2              2   \n",
      "62273      5.0            4               4       4              4   \n",
      "62274      65.0           1               1       1              1   \n",
      "62275      47.0           2               2       2              2   \n",
      "62276      71.0           1               1       1              1   \n",
      "62277      61.0           1               1       1              1   \n",
      "62278      26.0           1               1       1              1   \n",
      "62279      21.0           3               3       3              3   \n",
      "62280      59.0           1               1       1              1   \n",
      "62281      7.0            1               1       1              1   \n",
      "62282      40.0           2               2       2              2   \n",
      "62283      66.0           1               1       1              1   \n",
      "62284      36.0           3               3       3              3   \n",
      "62285      44.0           2               2       2              2   \n",
      "           45.0           1               1       1              1   \n",
      "62286      77.0           4               4       4              4   \n",
      "62287      27.0           1               1       1              1   \n",
      "62288      22.0           1               1       1              1   \n",
      "62289      24.0           2               2       2              2   \n",
      "62290      12.0           1               1       1              1   \n",
      "62291      14.0           1               1       1              1   \n",
      "62292      57.0           4               4       4              4   \n",
      "62293      13.0           2               2       2              2   \n",
      "62294      50.0           1               1       1              1   \n",
      "62295      90.0           5               5       5              5   \n",
      "62296      5.0            1               1       1              1   \n",
      "62297      65.0           1               1       1              1   \n",
      "62298      81.0           1               1       1              1   \n",
      "62299      1.0            1               1       1              1   \n",
      "\n",
      "                 Appointment_Day  Age  Hospital  Assistance  Hypertension  \\\n",
      "Patient_ID Age                                                              \n",
      "1          44.0                1    1         1           1             1   \n",
      "2          39.0                1    1         1           1             1   \n",
      "3          33.0                1    1         1           1             1   \n",
      "4          12.0                1    1         1           1             1   \n",
      "5          14.0                1    1         1           1             1   \n",
      "6          13.0                1    1         1           1             1   \n",
      "7          16.0                1    1         1           1             1   \n",
      "8          22.0                1    1         1           1             1   \n",
      "           23.0                1    1         1           1             1   \n",
      "9          28.0                2    2         2           2             2   \n",
      "10         32.0                1    1         1           1             1   \n",
      "11         62.0                1    1         1           1             1   \n",
      "12         10.0                1    1         1           1             1   \n",
      "13         29.0                2    2         2           2             2   \n",
      "14         21.0                1    1         1           1             1   \n",
      "15         21.0                2    2         2           2             2   \n",
      "16         68.0                1    1         1           1             1   \n",
      "17         3.0                 2    2         2           2             2   \n",
      "18         27.0                1    1         1           1             1   \n",
      "19         25.0                1    1         1           1             1   \n",
      "20         28.0                2    2         2           2             2   \n",
      "21         35.0                1    1         1           1             1   \n",
      "22         80.0                2    2         2           2             2   \n",
      "23         74.0                2    2         2           2             2   \n",
      "24         62.0                2    2         2           2             2   \n",
      "25         16.0                1    1         1           1             1   \n",
      "26         32.0                3    3         3           3             3   \n",
      "27         56.0                2    2         2           2             2   \n",
      "28         29.0                1    1         1           1             1   \n",
      "29         21.0                2    2         2           2             2   \n",
      "...                          ...  ...       ...         ...           ...   \n",
      "62271      61.0                2    2         2           2             2   \n",
      "62272      1.0                 2    2         2           2             2   \n",
      "62273      5.0                 4    4         4           4             4   \n",
      "62274      65.0                1    1         1           1             1   \n",
      "62275      47.0                2    2         2           2             2   \n",
      "62276      71.0                1    1         1           1             1   \n",
      "62277      61.0                1    1         1           1             1   \n",
      "62278      26.0                1    1         1           1             1   \n",
      "62279      21.0                3    3         3           3             3   \n",
      "62280      59.0                1    1         1           1             1   \n",
      "62281      7.0                 1    1         1           1             1   \n",
      "62282      40.0                2    2         2           2             2   \n",
      "62283      66.0                1    1         1           1             1   \n",
      "62284      36.0                3    3         3           3             3   \n",
      "62285      44.0                2    2         2           2             2   \n",
      "           45.0                1    1         1           1             1   \n",
      "62286      77.0                4    4         4           4             4   \n",
      "62287      27.0                1    1         1           1             1   \n",
      "62288      22.0                1    1         1           1             1   \n",
      "62289      24.0                2    2         2           2             2   \n",
      "62290      12.0                1    1         1           1             1   \n",
      "62291      14.0                1    1         1           1             1   \n",
      "62292      57.0                4    4         4           4             4   \n",
      "62293      13.0                2    2         2           2             2   \n",
      "62294      50.0                1    1         1           1             1   \n",
      "62295      90.0                5    5         5           5             5   \n",
      "62296      5.0                 1    1         1           1             1   \n",
      "62297      65.0                1    1         1           1             1   \n",
      "62298      81.0                1    1         1           1             1   \n",
      "62299      1.0                 1    1         1           1             1   \n",
      "\n",
      "                 Diabetes  Alcoholism  Disability  SMS_received  Attendance  \\\n",
      "Patient_ID Age                                                                \n",
      "1          44.0         1           1           1             1           1   \n",
      "2          39.0         1           1           1             1           1   \n",
      "3          33.0         1           1           1             1           1   \n",
      "4          12.0         1           1           1             1           1   \n",
      "5          14.0         1           1           1             1           1   \n",
      "6          13.0         1           1           1             1           1   \n",
      "7          16.0         1           1           1             1           1   \n",
      "8          22.0         1           1           1             1           1   \n",
      "           23.0         1           1           1             1           1   \n",
      "9          28.0         2           2           2             2           2   \n",
      "10         32.0         1           1           1             1           1   \n",
      "11         62.0         1           1           1             1           1   \n",
      "12         10.0         1           1           1             1           1   \n",
      "13         29.0         2           2           2             2           2   \n",
      "14         21.0         1           1           1             1           1   \n",
      "15         21.0         2           2           2             2           2   \n",
      "16         68.0         1           1           1             1           1   \n",
      "17         3.0          2           2           2             2           2   \n",
      "18         27.0         1           1           1             1           1   \n",
      "19         25.0         1           1           1             1           1   \n",
      "20         28.0         2           2           2             2           2   \n",
      "21         35.0         1           1           1             1           1   \n",
      "22         80.0         2           2           2             2           2   \n",
      "23         74.0         2           2           2             2           2   \n",
      "24         62.0         2           2           2             2           2   \n",
      "25         16.0         1           1           1             1           1   \n",
      "26         32.0         3           3           3             3           3   \n",
      "27         56.0         2           2           2             2           2   \n",
      "28         29.0         1           1           1             1           1   \n",
      "29         21.0         2           2           2             2           2   \n",
      "...                   ...         ...         ...           ...         ...   \n",
      "62271      61.0         2           2           2             2           2   \n",
      "62272      1.0          2           2           2             2           2   \n",
      "62273      5.0          4           4           4             4           4   \n",
      "62274      65.0         1           1           1             1           1   \n",
      "62275      47.0         2           2           2             2           2   \n",
      "62276      71.0         1           1           1             1           1   \n",
      "62277      61.0         1           1           1             1           1   \n",
      "62278      26.0         1           1           1             1           1   \n",
      "62279      21.0         3           3           3             3           3   \n",
      "62280      59.0         1           1           1             1           1   \n",
      "62281      7.0          1           1           1             1           1   \n",
      "62282      40.0         2           2           2             2           2   \n",
      "62283      66.0         1           1           1             1           1   \n",
      "62284      36.0         3           3           3             3           3   \n",
      "62285      44.0         2           2           2             2           2   \n",
      "           45.0         1           1           1             1           1   \n",
      "62286      77.0         4           4           4             4           4   \n",
      "62287      27.0         1           1           1             1           1   \n",
      "62288      22.0         1           1           1             1           1   \n",
      "62289      24.0         2           2           2             2           2   \n",
      "62290      12.0         1           1           1             1           1   \n",
      "62291      14.0         1           1           1             1           1   \n",
      "62292      57.0         4           4           4             4           4   \n",
      "62293      13.0         2           2           2             2           2   \n",
      "62294      50.0         1           1           1             1           1   \n",
      "62295      90.0         5           5           5             5           5   \n",
      "62296      5.0          1           1           1             1           1   \n",
      "62297      65.0         1           1           1             1           1   \n",
      "62298      81.0         1           1           1             1           1   \n",
      "62299      1.0          1           1           1             1           1   \n",
      "\n",
      "                 ScheduledDate  AppointmentDate  Time_Difference  \n",
      "Patient_ID Age                                                    \n",
      "1          44.0              1                1                1  \n",
      "2          39.0              1                1                0  \n",
      "3          33.0              1                1                0  \n",
      "4          12.0              1                1                1  \n",
      "5          14.0              1                1                1  \n",
      "6          13.0              1                1                1  \n",
      "7          16.0              1                1                0  \n",
      "8          22.0              1                1                1  \n",
      "           23.0              1                1                1  \n",
      "9          28.0              2                2                1  \n",
      "10         32.0              1                1                1  \n",
      "11         62.0              1                1                0  \n",
      "12         10.0              1                1                1  \n",
      "13         29.0              2                2                2  \n",
      "14         21.0              1                1                1  \n",
      "15         21.0              2                2                1  \n",
      "16         68.0              1                1                1  \n",
      "17         3.0               2                2                1  \n",
      "18         27.0              1                1                1  \n",
      "19         25.0              1                1                0  \n",
      "20         28.0              2                2                2  \n",
      "21         35.0              1                1                1  \n",
      "22         80.0              2                2                2  \n",
      "23         74.0              2                2                0  \n",
      "24         62.0              2                2                1  \n",
      "25         16.0              1                1                1  \n",
      "26         32.0              3                3                1  \n",
      "27         56.0              2                2                2  \n",
      "28         29.0              1                1                1  \n",
      "29         21.0              2                2                0  \n",
      "...                        ...              ...              ...  \n",
      "62271      61.0              2                2                2  \n",
      "62272      1.0               2                2                2  \n",
      "62273      5.0               4                4                0  \n",
      "62274      65.0              1                1                0  \n",
      "62275      47.0              2                2                2  \n",
      "62276      71.0              1                1                1  \n",
      "62277      61.0              1                1                1  \n",
      "62278      26.0              1                1                1  \n",
      "62279      21.0              3                3                0  \n",
      "62280      59.0              1                1                1  \n",
      "62281      7.0               1                1                1  \n",
      "62282      40.0              2                2                1  \n",
      "62283      66.0              1                1                0  \n",
      "62284      36.0              3                3                3  \n",
      "62285      44.0              2                2                2  \n",
      "           45.0              1                1                1  \n",
      "62286      77.0              4                4                2  \n",
      "62287      27.0              1                1                1  \n",
      "62288      22.0              1                1                1  \n",
      "62289      24.0              2                2                0  \n",
      "62290      12.0              1                1                1  \n",
      "62291      14.0              1                1                1  \n",
      "62292      57.0              4                4                3  \n",
      "62293      13.0              2                2                1  \n",
      "62294      50.0              1                1                1  \n",
      "62295      90.0              5                5                3  \n",
      "62296      5.0               1                1                0  \n",
      "62297      65.0              1                1                0  \n",
      "62298      81.0              1                1                0  \n",
      "62299      1.0               1                1                0  \n",
      "\n",
      "[63467 rows x 17 columns]\n"
     ]
    }
   ],
   "source": [
    "# patient has 2 ages\n",
    "getvaluecounts(df, df['Patient_ID'], df['Age'])"
   ]
  },
  {
   "cell_type": "markdown",
   "metadata": {},
   "source": [
    "Some patients have 2 ages.\n",
    "\n",
    "I added a column for a count of patient ids, representing repeat appointments scheduled, a column of attendance sum, representing attended appointments, and attendance ratio, the ratio for each patient of attended to scheduled appointments."
   ]
  },
  {
   "cell_type": "code",
   "execution_count": 16,
   "metadata": {},
   "outputs": [
    {
     "name": "stdout",
     "output_type": "stream",
     "text": [
      "<class 'pandas.core.frame.DataFrame'>\n",
      "Int64Index: 62299 entries, 0 to 110524\n",
      "Data columns (total 20 columns):\n",
      "Patient_ID          62299 non-null int64\n",
      "Appointment_ID      62299 non-null int64\n",
      "Gender              62299 non-null int64\n",
      "Scheduled_Day       62299 non-null datetime64[ns]\n",
      "Appointment_Day     62299 non-null datetime64[ns]\n",
      "Age                 62299 non-null float64\n",
      "Hospital            62299 non-null int64\n",
      "Assistance          62299 non-null int64\n",
      "Hypertension        62299 non-null int64\n",
      "Diabetes            62299 non-null int64\n",
      "Alcoholism          62299 non-null int64\n",
      "Disability          62299 non-null int64\n",
      "SMS_received        62299 non-null float64\n",
      "Attendance          62299 non-null int64\n",
      "ScheduledDate       62299 non-null object\n",
      "AppointmentDate     62299 non-null object\n",
      "Time_Difference     40756 non-null float64\n",
      "Frequency           62299 non-null int64\n",
      "Attendance_Sum      62299 non-null int64\n",
      "Attendance_Ratio    62299 non-null float64\n",
      "dtypes: datetime64[ns](2), float64(4), int64(12), object(2)\n",
      "memory usage: 10.0+ MB\n"
     ]
    }
   ],
   "source": [
    "# look for duplicates of patient id\n",
    "# there probably are some\n",
    "df_freq = df\n",
    "\n",
    "# make a frequency column\n",
    "df_freq['Frequency'] = df_freq.groupby('Patient_ID')['Patient_ID'].transform('count')\n",
    "\n",
    "df_freq[\"Attendance\"] = df_freq[\"Attendance\"].astype(str).astype(int)\n",
    "\n",
    "df_freq['Attendance_Sum'] = df_freq.groupby('Patient_ID')['Attendance'].transform('sum')\n",
    "\n",
    "df_freq['Attendance_Ratio'] = df_freq['Attendance_Sum']/df_freq['Frequency']\n",
    "df_freq['Attendance_Ratio'] = df_freq['Attendance_Ratio'].replace(np.inf, 0)\n",
    "\n",
    "df_freq = df_freq.drop_duplicates(subset=['Patient_ID'])\n",
    "\n",
    "df = df_freq\n",
    "df.info()"
   ]
  },
  {
   "cell_type": "markdown",
   "metadata": {},
   "source": [
    "Patient IDs are needlessly in scientific notation. The patient ids need to be unique, but their actual value is probably irrelevant. As they were randomly assigned, I changed them to integers.\n",
    "\n",
    "The values for Appointment IDs and for Neighbourhoods are changed to numerical, for ease of reading.\n",
    "\n",
    "I removed the patient outliers by age. Here is a boxplot representing the age column, and a second with the outliers removed."
   ]
  },
  {
   "cell_type": "code",
   "execution_count": 17,
   "metadata": {},
   "outputs": [
    {
     "data": {
      "text/plain": [
       "<matplotlib.axes._subplots.AxesSubplot at 0x7f7d2e838b00>"
      ]
     },
     "execution_count": 17,
     "metadata": {},
     "output_type": "execute_result"
    },
    {
     "data": {
      "image/png": "[encoded data removed]",
      "text/plain": [
       "<matplotlib.figure.Figure at 0x7f7d2e7d5fd0>"
      ]
     },
     "metadata": {
      "needs_background": "light"
     },
     "output_type": "display_data"
    }
   ],
   "source": [
    "# look for outliers on box plot.\n",
    "df.boxplot('Age')"
   ]
  },
  {
   "cell_type": "code",
   "execution_count": 18,
   "metadata": {},
   "outputs": [
    {
     "data": {
      "text/plain": [
       "<matplotlib.axes._subplots.AxesSubplot at 0x7f7d2e7a3b70>"
      ]
     },
     "execution_count": 18,
     "metadata": {},
     "output_type": "execute_result"
    },
    {
     "data": {
      "image/png": "[encoded data removed]",
      "text/plain": [
       "<matplotlib.figure.Figure at 0x7f7d2e7e94e0>"
      ]
     },
     "metadata": {
      "needs_background": "light"
     },
     "output_type": "display_data"
    }
   ],
   "source": [
    "# get the mean and the standard deviation using numpy\n",
    "df_mean, df_std = np.mean(df), np.std(df)\n",
    "# identify ages beyond the standard deviation\n",
    "outside_the_box = df_std * 3\n",
    "lowest, highest = df_mean - outside_the_box, df_mean + outside_the_box\n",
    "# make a df that only has ages in the box\n",
    "df.drop(df[df['Age'] > highest['Age']].index, inplace = True)\n",
    "df.drop(df[df['Age'] < lowest['Age']].index, inplace = True)\n",
    "df.boxplot('Age')"
   ]
  },
  {
   "cell_type": "code",
   "execution_count": 19,
   "metadata": {},
   "outputs": [
    {
     "name": "stdout",
     "output_type": "stream",
     "text": [
      "The correlation is 0.04\n"
     ]
    }
   ],
   "source": [
    "# checking if patient_ID correlates to age in any way\n",
    "\n",
    "def getcorr(df, column_1, column_2):\n",
    "    x = column_1\n",
    "    y = column_2\n",
    "    corr = x.corr(y)\n",
    "    corr2 = corr.round(2)\n",
    "    print('The correlation is', corr2)\n",
    "\n",
    "getcorr(df, df['Attendance_Sum'], df['Age'])"
   ]
  },
  {
   "cell_type": "markdown",
   "metadata": {},
   "source": [
    "The attendance sum does not correlate strongly to age. I examine the difference between adults and children in the analysis section.\n",
    "\n",
    "The float columns are  categories, so the data is changed to reflect that."
   ]
  },
  {
   "cell_type": "markdown",
   "metadata": {},
   "source": [
    "The data is cleaned. "
   ]
  },
  {
   "cell_type": "code",
   "execution_count": 20,
   "metadata": {},
   "outputs": [
    {
     "data": {
      "text/html": [
       "<div>\n",
       "<style scoped>\n",
       "    .dataframe tbody tr th:only-of-type {\n",
       "        vertical-align: middle;\n",
       "    }\n",
       "\n",
       "    .dataframe tbody tr th {\n",
       "        vertical-align: top;\n",
       "    }\n",
       "\n",
       "    .dataframe thead th {\n",
       "        text-align: right;\n",
       "    }\n",
       "</style>\n",
       "<table border=\"1\" class=\"dataframe\">\n",
       "  <thead>\n",
       "    <tr style=\"text-align: right;\">\n",
       "      <th></th>\n",
       "      <th>Patient_ID</th>\n",
       "      <th>Appointment_ID</th>\n",
       "      <th>Gender</th>\n",
       "      <th>Scheduled_Day</th>\n",
       "      <th>Appointment_Day</th>\n",
       "      <th>Age</th>\n",
       "      <th>Hospital</th>\n",
       "      <th>Assistance</th>\n",
       "      <th>Hypertension</th>\n",
       "      <th>Diabetes</th>\n",
       "      <th>Alcoholism</th>\n",
       "      <th>Disability</th>\n",
       "      <th>SMS_received</th>\n",
       "      <th>Attendance</th>\n",
       "      <th>ScheduledDate</th>\n",
       "      <th>AppointmentDate</th>\n",
       "      <th>Time_Difference</th>\n",
       "      <th>Frequency</th>\n",
       "      <th>Attendance_Sum</th>\n",
       "      <th>Attendance_Ratio</th>\n",
       "    </tr>\n",
       "  </thead>\n",
       "  <tbody>\n",
       "    <tr>\n",
       "      <th>0</th>\n",
       "      <td>30846</td>\n",
       "      <td>29333</td>\n",
       "      <td>1</td>\n",
       "      <td>2016-04-29 18:38:08</td>\n",
       "      <td>2016-04-29</td>\n",
       "      <td>62.0</td>\n",
       "      <td>40</td>\n",
       "      <td>1</td>\n",
       "      <td>2</td>\n",
       "      <td>1</td>\n",
       "      <td>1</td>\n",
       "      <td>1</td>\n",
       "      <td>0.0</td>\n",
       "      <td>1</td>\n",
       "      <td>2016-04-29</td>\n",
       "      <td>2016-04-29</td>\n",
       "      <td>NaN</td>\n",
       "      <td>2</td>\n",
       "      <td>2</td>\n",
       "      <td>1.0</td>\n",
       "    </tr>\n",
       "    <tr>\n",
       "      <th>1</th>\n",
       "      <td>55326</td>\n",
       "      <td>29080</td>\n",
       "      <td>2</td>\n",
       "      <td>2016-04-29 16:08:27</td>\n",
       "      <td>2016-04-29</td>\n",
       "      <td>56.0</td>\n",
       "      <td>40</td>\n",
       "      <td>1</td>\n",
       "      <td>1</td>\n",
       "      <td>1</td>\n",
       "      <td>1</td>\n",
       "      <td>1</td>\n",
       "      <td>0.0</td>\n",
       "      <td>1</td>\n",
       "      <td>2016-04-29</td>\n",
       "      <td>2016-04-29</td>\n",
       "      <td>NaN</td>\n",
       "      <td>2</td>\n",
       "      <td>2</td>\n",
       "      <td>1.0</td>\n",
       "    </tr>\n",
       "    <tr>\n",
       "      <th>2</th>\n",
       "      <td>15723</td>\n",
       "      <td>29116</td>\n",
       "      <td>1</td>\n",
       "      <td>2016-04-29 16:19:04</td>\n",
       "      <td>2016-04-29</td>\n",
       "      <td>62.0</td>\n",
       "      <td>46</td>\n",
       "      <td>1</td>\n",
       "      <td>1</td>\n",
       "      <td>1</td>\n",
       "      <td>1</td>\n",
       "      <td>1</td>\n",
       "      <td>0.0</td>\n",
       "      <td>1</td>\n",
       "      <td>2016-04-29</td>\n",
       "      <td>2016-04-29</td>\n",
       "      <td>NaN</td>\n",
       "      <td>2</td>\n",
       "      <td>2</td>\n",
       "      <td>1.0</td>\n",
       "    </tr>\n",
       "    <tr>\n",
       "      <th>3</th>\n",
       "      <td>9019</td>\n",
       "      <td>29300</td>\n",
       "      <td>1</td>\n",
       "      <td>2016-04-29 17:29:31</td>\n",
       "      <td>2016-04-29</td>\n",
       "      <td>8.0</td>\n",
       "      <td>55</td>\n",
       "      <td>1</td>\n",
       "      <td>1</td>\n",
       "      <td>1</td>\n",
       "      <td>1</td>\n",
       "      <td>1</td>\n",
       "      <td>0.0</td>\n",
       "      <td>1</td>\n",
       "      <td>2016-04-29</td>\n",
       "      <td>2016-04-29</td>\n",
       "      <td>NaN</td>\n",
       "      <td>2</td>\n",
       "      <td>1</td>\n",
       "      <td>0.5</td>\n",
       "    </tr>\n",
       "    <tr>\n",
       "      <th>4</th>\n",
       "      <td>23942</td>\n",
       "      <td>29074</td>\n",
       "      <td>1</td>\n",
       "      <td>2016-04-29 16:07:23</td>\n",
       "      <td>2016-04-29</td>\n",
       "      <td>56.0</td>\n",
       "      <td>40</td>\n",
       "      <td>1</td>\n",
       "      <td>2</td>\n",
       "      <td>2</td>\n",
       "      <td>1</td>\n",
       "      <td>1</td>\n",
       "      <td>0.0</td>\n",
       "      <td>1</td>\n",
       "      <td>2016-04-29</td>\n",
       "      <td>2016-04-29</td>\n",
       "      <td>NaN</td>\n",
       "      <td>1</td>\n",
       "      <td>1</td>\n",
       "      <td>1.0</td>\n",
       "    </tr>\n",
       "  </tbody>\n",
       "</table>\n",
       "</div>"
      ],
      "text/plain": [
       "   Patient_ID  Appointment_ID  Gender       Scheduled_Day Appointment_Day  \\\n",
       "0       30846           29333       1 2016-04-29 18:38:08      2016-04-29   \n",
       "1       55326           29080       2 2016-04-29 16:08:27      2016-04-29   \n",
       "2       15723           29116       1 2016-04-29 16:19:04      2016-04-29   \n",
       "3        9019           29300       1 2016-04-29 17:29:31      2016-04-29   \n",
       "4       23942           29074       1 2016-04-29 16:07:23      2016-04-29   \n",
       "\n",
       "    Age  Hospital  Assistance  Hypertension  Diabetes  Alcoholism  Disability  \\\n",
       "0  62.0        40           1             2         1           1           1   \n",
       "1  56.0        40           1             1         1           1           1   \n",
       "2  62.0        46           1             1         1           1           1   \n",
       "3   8.0        55           1             1         1           1           1   \n",
       "4  56.0        40           1             2         2           1           1   \n",
       "\n",
       "   SMS_received  Attendance ScheduledDate AppointmentDate  Time_Difference  \\\n",
       "0           0.0           1    2016-04-29      2016-04-29              NaN   \n",
       "1           0.0           1    2016-04-29      2016-04-29              NaN   \n",
       "2           0.0           1    2016-04-29      2016-04-29              NaN   \n",
       "3           0.0           1    2016-04-29      2016-04-29              NaN   \n",
       "4           0.0           1    2016-04-29      2016-04-29              NaN   \n",
       "\n",
       "   Frequency  Attendance_Sum  Attendance_Ratio  \n",
       "0          2               2               1.0  \n",
       "1          2               2               1.0  \n",
       "2          2               2               1.0  \n",
       "3          2               1               0.5  \n",
       "4          1               1               1.0  "
      ]
     },
     "execution_count": 20,
     "metadata": {},
     "output_type": "execute_result"
    }
   ],
   "source": [
    "# get a copy in case you need it\n",
    "df_copy = df\n",
    "\n",
    "df.head(5)"
   ]
  },
  {
   "cell_type": "markdown",
   "metadata": {},
   "source": [
    "Column headers were changed to be more clear. Datatypes were changed for easier reading and analysis. Also, some outliers were removed. In one dataframe, patient records were collapsed into one row, with their attendance ratio and frequency of visits. Appointment data is retained in another for separate analysis.\n",
    "\n",
    "The data is now ready for analysis."
   ]
  },
  {
   "cell_type": "markdown",
   "metadata": {},
   "source": [
    "<a id='eda'></a>\n",
    "## Exploratory Data Analysis\n",
    "The first part of this investigation is an analysis of the appointments.\n",
    "\n",
    "First, I compare information about the missed appointments to kept appointments. I look at time factors such as length of time between scheduling and appointment or day of the week of the appointment, then by hospital.\n",
    "\n",
    "Finally, I compare the hospitals where the appointments are missed to those where appointments are kept. I compare them by health factors, for example, I compare the missed appointments at hospitals that cater to patients with diabetes to those those that cater to alcoholics. I also compare the hospitals on the age, assistance, and disablity level of their patients.\n",
    "\n",
    "### Which appointments are being missed? Appointment Questions Analysis\n",
    "\n",
    "The longer the length of time between scheduling an appointment and the appointment date, the more likely it was that the appointment was missed.\n",
    "\n",
    "The correlation between length of time between scheduling and keeping of an appointment:"
   ]
  },
  {
   "cell_type": "code",
   "execution_count": 21,
   "metadata": {},
   "outputs": [
    {
     "name": "stdout",
     "output_type": "stream",
     "text": [
      "The correlation is -0.06\n"
     ]
    }
   ],
   "source": [
    "# what is correlation between difference and attendance?\n",
    "getcorr(df_entire, df_entire['Time_Difference'], df_entire['Attendance'])"
   ]
  },
  {
   "cell_type": "code",
   "execution_count": 22,
   "metadata": {},
   "outputs": [
    {
     "data": {
      "text/html": [
       "<div>\n",
       "<style scoped>\n",
       "    .dataframe tbody tr th:only-of-type {\n",
       "        vertical-align: middle;\n",
       "    }\n",
       "\n",
       "    .dataframe tbody tr th {\n",
       "        vertical-align: top;\n",
       "    }\n",
       "\n",
       "    .dataframe thead tr th {\n",
       "        text-align: left;\n",
       "    }\n",
       "\n",
       "    .dataframe thead tr:last-of-type th {\n",
       "        text-align: right;\n",
       "    }\n",
       "</style>\n",
       "<table border=\"1\" class=\"dataframe\">\n",
       "  <thead>\n",
       "    <tr>\n",
       "      <th></th>\n",
       "      <th colspan=\"8\" halign=\"left\">Age</th>\n",
       "      <th colspan=\"8\" halign=\"left\">Time_Difference</th>\n",
       "    </tr>\n",
       "    <tr>\n",
       "      <th></th>\n",
       "      <th>count</th>\n",
       "      <th>mean</th>\n",
       "      <th>std</th>\n",
       "      <th>min</th>\n",
       "      <th>25%</th>\n",
       "      <th>50%</th>\n",
       "      <th>75%</th>\n",
       "      <th>max</th>\n",
       "      <th>count</th>\n",
       "      <th>mean</th>\n",
       "      <th>std</th>\n",
       "      <th>min</th>\n",
       "      <th>25%</th>\n",
       "      <th>50%</th>\n",
       "      <th>75%</th>\n",
       "      <th>max</th>\n",
       "    </tr>\n",
       "    <tr>\n",
       "      <th>Attendance</th>\n",
       "      <th></th>\n",
       "      <th></th>\n",
       "      <th></th>\n",
       "      <th></th>\n",
       "      <th></th>\n",
       "      <th></th>\n",
       "      <th></th>\n",
       "      <th></th>\n",
       "      <th></th>\n",
       "      <th></th>\n",
       "      <th></th>\n",
       "      <th></th>\n",
       "      <th></th>\n",
       "      <th></th>\n",
       "      <th></th>\n",
       "      <th></th>\n",
       "    </tr>\n",
       "  </thead>\n",
       "  <tbody>\n",
       "    <tr>\n",
       "      <th>0</th>\n",
       "      <td>22319.0</td>\n",
       "      <td>34.317667</td>\n",
       "      <td>21.965941</td>\n",
       "      <td>0.0</td>\n",
       "      <td>16.0</td>\n",
       "      <td>33.0</td>\n",
       "      <td>51.0</td>\n",
       "      <td>115.0</td>\n",
       "      <td>20522.0</td>\n",
       "      <td>17.218254</td>\n",
       "      <td>16.613713</td>\n",
       "      <td>1.0</td>\n",
       "      <td>5.0</td>\n",
       "      <td>13.0</td>\n",
       "      <td>25.0</td>\n",
       "      <td>179.0</td>\n",
       "    </tr>\n",
       "    <tr>\n",
       "      <th>1</th>\n",
       "      <td>88208.0</td>\n",
       "      <td>37.790064</td>\n",
       "      <td>23.338878</td>\n",
       "      <td>-1.0</td>\n",
       "      <td>18.0</td>\n",
       "      <td>38.0</td>\n",
       "      <td>56.0</td>\n",
       "      <td>115.0</td>\n",
       "      <td>51437.0</td>\n",
       "      <td>15.013142</td>\n",
       "      <td>16.404411</td>\n",
       "      <td>1.0</td>\n",
       "      <td>4.0</td>\n",
       "      <td>8.0</td>\n",
       "      <td>21.0</td>\n",
       "      <td>179.0</td>\n",
       "    </tr>\n",
       "  </tbody>\n",
       "</table>\n",
       "</div>"
      ],
      "text/plain": [
       "                Age                                                      \\\n",
       "              count       mean        std  min   25%   50%   75%    max   \n",
       "Attendance                                                                \n",
       "0           22319.0  34.317667  21.965941  0.0  16.0  33.0  51.0  115.0   \n",
       "1           88208.0  37.790064  23.338878 -1.0  18.0  38.0  56.0  115.0   \n",
       "\n",
       "           Time_Difference                                                     \n",
       "                     count       mean        std  min  25%   50%   75%    max  \n",
       "Attendance                                                                     \n",
       "0                  20522.0  17.218254  16.613713  1.0  5.0  13.0  25.0  179.0  \n",
       "1                  51437.0  15.013142  16.404411  1.0  4.0   8.0  21.0  179.0  "
      ]
     },
     "execution_count": 22,
     "metadata": {},
     "output_type": "execute_result"
    }
   ],
   "source": [
    "# get the mean for appointment delay and attendance\n",
    "df_ada = pd.DataFrame(df_entire,columns=['Attendance', 'Time_Difference', 'Age'])\n",
    "df_ada.groupby(['Attendance']).describe(include = 'all')"
   ]
  },
  {
   "cell_type": "markdown",
   "metadata": {},
   "source": [
    "Not including same-day appointments, the mean length of time between scheduling date and appointment date for missed appointments is approximately 17 days. For the appointments that were kept, the mean is about 15 days. If the time between scheduling and appointment date is about 15 days or less, appointments were more often kept than not. However, if the time between scheduling and appointment date was any longer, the appointments were more often missed.\n"
   ]
  },
  {
   "cell_type": "code",
   "execution_count": null,
   "metadata": {},
   "outputs": [],
   "source": [
    "df_ada = pd.DataFrame(df_entire,columns=['Patient_ID','Appointment_ID','Gender','Age','Hospital','Assistance','Hypertension','Diabetes','Alcoholism','Disability','SMS_received','Attendance','Time_Difference','Frequency','Attendance_Sum','Attendance_Ratio'\n",
    "])\n",
    "sb.heatmap(df_ada, cmap ='RdYlGn', linewidths = 0.1, annot = True)"
   ]
  },
  {
   "cell_type": "markdown",
   "metadata": {},
   "source": [
    "The day of the week of the appointment affected whether or not someone attended their appointment. The correlation between day of the week and attendance is:"
   ]
  },
  {
   "cell_type": "code",
   "execution_count": null,
   "metadata": {},
   "outputs": [],
   "source": [
    "df_days = df_entire.reset_index()\n",
    "df_days['Day_of_Week'] = df_entire['Appointment_Day'].dt.dayofweek\n",
    "getcorr(df_days, df_days['Day_of_Week'], df_days['Attendance'])"
   ]
  },
  {
   "cell_type": "markdown",
   "metadata": {},
   "source": [
    "The correlation between the day of the week that the appointment falls on and whether or not a patient kept that appointment is weak."
   ]
  },
  {
   "cell_type": "markdown",
   "metadata": {},
   "source": [
    "### Whose appointments are being missed? Demographic questions analysis\n",
    "\n",
    "Certain demographic groups might be more likely to miss appointments.\n",
    "\n",
    "The mean age of those who keep or miss appointments seems about the same."
   ]
  },
  {
   "cell_type": "code",
   "execution_count": null,
   "metadata": {},
   "outputs": [],
   "source": [
    "df_at = pd.DataFrame(df_entire,columns=['Attendance', 'Age'])\n",
    "df_at.groupby(['Attendance']).describe(include = 'all')"
   ]
  },
  {
   "cell_type": "markdown",
   "metadata": {},
   "source": [
    "However, at a glance, the babies are clearly both numerous and dependable."
   ]
  },
  {
   "cell_type": "code",
   "execution_count": null,
   "metadata": {},
   "outputs": [],
   "source": [
    "aa = pd.crosstab(df_entire.Age, df_entire.Attendance).plot(kind='bar', cmap = 'cool')\n",
    "aa.legend(title='Attendance')"
   ]
  },
  {
   "cell_type": "markdown",
   "metadata": {},
   "source": [
    "So many babies are keeping their appointments. \n",
    "\n",
    "Regardless of age, more people made their appointment if they scheduled it within the previous 15 days. Otherwise, they were more likely to miss their appointment.\n",
    "\n",
    "Look at appointment attenders vs missers. These are individual patients by age: they are either attenders (attended more than 75% of their appointments, or missers, missed more than 25% of their appointments."
   ]
  },
  {
   "cell_type": "code",
   "execution_count": null,
   "metadata": {},
   "outputs": [],
   "source": [
    "\n",
    "df_yes = df_entire.loc[df_entire['Attendance_Ratio'] > 0.75] \n",
    "df_no = df_entire.loc[df_entire['Attendance_Ratio'] < 0.25] \n",
    "\n",
    "df_yes.boxplot('Age')"
   ]
  },
  {
   "cell_type": "code",
   "execution_count": null,
   "metadata": {},
   "outputs": [],
   "source": [
    "# get the mean and the standard deviation using numpy\n",
    "df_no.boxplot('Age')"
   ]
  },
  {
   "cell_type": "markdown",
   "metadata": {},
   "source": [
    "Missers are younger on average than attenders.\n",
    "\n",
    "The location of the hospital is correlated to attendance at appointments. There are about 80 hospitals. The colour indicates attendance ratio: yellower means higher attendance."
   ]
  },
  {
   "cell_type": "code",
   "execution_count": null,
   "metadata": {},
   "outputs": [],
   "source": [
    "# this gets really crowded so use a sample to get the point across\n",
    "df_sample = df_entire.sample(n=3000)\n",
    "\n",
    "# after messing around with these values, these sizes ended up being best\n",
    "fig = plt.figure(figsize=(7, 7))\n",
    "plt.scatter(df_sample['Hospital'], df_sample['Time_Difference'],\n",
    "           linewidths=1, alpha=.5,\n",
    "           edgecolor='c',\n",
    "            cmap = 'viridis',\n",
    "           s = 30,\n",
    "           c=df_sample['Attendance_Ratio'])\n",
    "\n",
    "plt.xlabel('Hospitals')\n",
    "plt.ylabel('Time Difference')\n",
    "plt.colorbar()\n",
    "plt.show()"
   ]
  },
  {
   "cell_type": "markdown",
   "metadata": {},
   "source": [
    "Some hospitals may not allow patients to schedule appointments too far in advance. This makes it difficult to determine if some hospitals have better attendance than others. Assuming they all have the same restrictions on scheduling appointments, some hospitals are clearly better attended than others."
   ]
  },
  {
   "cell_type": "code",
   "execution_count": null,
   "metadata": {},
   "outputs": [],
   "source": [
    "df_ah = pd.DataFrame(df_entire,columns=['Attendance', 'Hospital'])\n",
    "df_ah.groupby('Hospital').describe(include = 'all')\n",
    "df_ah['Hospital'].value_counts()"
   ]
  },
  {
   "cell_type": "raw",
   "metadata": {},
   "source": [
    "Hospital #39 is very well attended.\n",
    "\n",
    "Some hospitals are in neighbourhoods with a high level of patients with assistance. What is the correlation between neighbourhood and assistance?"
   ]
  },
  {
   "cell_type": "code",
   "execution_count": null,
   "metadata": {},
   "outputs": [],
   "source": [
    "getcorr(df_freq, df_freq['Assistance'], df_freq['Hospital'])"
   ]
  },
  {
   "cell_type": "code",
   "execution_count": null,
   "metadata": {},
   "outputs": [],
   "source": [
    "getcorr(df_freq, df_freq['Assistance'], df_freq['Attendance'])"
   ]
  },
  {
   "cell_type": "markdown",
   "metadata": {},
   "source": [
    "These correlations are weak.\n",
    "\n",
    "In general, babies, perhaps by sheer numbers, are excellent attenders. Otherwise, attenders seem to skew a little older than missers. For whatever reason, Hospital 39 has great attendance. Higher population? Good outcomes? I cannot tell."
   ]
  },
  {
   "cell_type": "markdown",
   "metadata": {},
   "source": [
    "### Do sick people keep their appointments? Health questions analysis\n",
    "\n",
    "Health health factors may correlate with missed appointments. For example, men with alcoholism might miss more appointments than women with diabetes."
   ]
  },
  {
   "cell_type": "code",
   "execution_count": null,
   "metadata": {},
   "outputs": [],
   "source": [
    "df_sample = df_copy.sample(n=500)\n",
    "\n",
    "plt.figure(figsize=(4,4))\n",
    "sb.swarmplot(x='Attendance', y='Alcoholism', data=df_sample, hue='Gender', dodge=True, palette='viridis')"
   ]
  },
  {
   "cell_type": "code",
   "execution_count": null,
   "metadata": {},
   "outputs": [],
   "source": [
    "plt.figure(figsize=(4,4))\n",
    "sb.swarmplot(x='Attendance', y='Diabetes', data=df_sample, hue='Gender', dodge=True, palette='viridis')"
   ]
  },
  {
   "cell_type": "markdown",
   "metadata": {},
   "source": [
    "It appears men with diabetes and women with alcoholism are more concientious than their peers about keeping appoinments.\n",
    "\n",
    "Correlations are in general, weak."
   ]
  },
  {
   "cell_type": "code",
   "execution_count": null,
   "metadata": {},
   "outputs": [],
   "source": [
    "# maybe i should have make the data numerical instead of categorical\n",
    "# i have to change it to do the chart\n",
    "from sklearn.preprocessing import LabelEncoder\n",
    "\n",
    "df_sm = pd.DataFrame(df_freq, columns = ['Age', 'Gender', 'Time_Difference', 'Hospital', 'Hypertension', 'Diabetes', 'Alcoholism', 'Disability', 'Attendance_Ratio'])\n",
    "\n",
    "# had to reset the index for this to work, but i'm not sure why\n",
    "df_sm = df_sm.reset_index()\n",
    "\n",
    "# got an error message that told me to use this method\n",
    "#df_sm = df_sm.loc[df_sm['Age'] > 18]\n",
    "# i decided not to drop kids\n",
    "\n",
    "# this is going to make my categorical values into numbers\n",
    "labelencoder=LabelEncoder()\n",
    "for column in df_sm.columns:\n",
    "    df_sm[column] = labelencoder.fit_transform(df_sm[column])"
   ]
  },
  {
   "cell_type": "code",
   "execution_count": null,
   "metadata": {},
   "outputs": [],
   "source": [
    "# I need to be able to see it all at once on my screen so i squished it\n",
    "plt.figure(figsize = (10,5))\n",
    "sb.heatmap(df_sm.corr().round(3),linewidths=.1,cmap=\"cool\", annot = True)"
   ]
  },
  {
   "cell_type": "markdown",
   "metadata": {},
   "source": [
    "I didn't see any strong correlations with attendance."
   ]
  },
  {
   "cell_type": "markdown",
   "metadata": {},
   "source": [
    "Did people on assistance miss more appointments?"
   ]
  },
  {
   "cell_type": "code",
   "execution_count": null,
   "metadata": {},
   "outputs": [],
   "source": [
    "df_sample = df_freq.sample(n=2000)\n",
    "df_sample = df_sample[['Attendance', 'Assistance', 'Age', 'Disability']]\n",
    "df_sample['Disability'] = df_sample['Disability'].astype('int64')\n",
    "\n",
    "plt.figure(figsize=(10,7))\n",
    "sb.swarmplot(x = 'Attendance', y = 'Assistance', data = df_sample, hue = 'Disability', dodge = True, palette = 'viridis')"
   ]
  },
  {
   "cell_type": "markdown",
   "metadata": {},
   "source": [
    "People with disabilities not on assistance were more likely to make appointments than their assisted peers. The correlations are low, however."
   ]
  },
  {
   "cell_type": "markdown",
   "metadata": {},
   "source": [
    "<a id='conclusions'></a>\n",
    "## Conclusions\n",
    "The most likely patient to keep an appointment will have a same-day appointment. This is common sense. The patient most likely to attend an appointment scheduled their appointment no more than two weeks in advance. This person is nearly 40, and made their appointment at hospital \\#39. If the patient is a woman with diabetes or a male alcoholic, there is a good likelihood that they kept their appointment. In general, not being on assistance increased the likelihood that a patient showed up at the hospital as planned, but this correlation was too low for predictions.\n",
    "\n",
    "### Limitations\n",
    "I could make a good guess as to what 'Disability' indicated, but it would only be a guess. I didn't check if patients visited more than one hospital or if their health factors changed over time. I didn't check to see which were more likely to be missed, first or subsequent appointments.\n"
   ]
  },
  {
   "cell_type": "markdown",
   "metadata": {},
   "source": [
    "## Submitting your Project \n",
    "\n",
    "> **Tip**: Before you submit your project, you need to create a .html or .pdf version of this notebook in the workspace here. To do that, run the code cell below. If it worked correctly, you should get a return code of 0, and you should see the generated .html file in the workspace directory (click on the orange Jupyter icon in the upper left)."
   ]
  },
  {
   "cell_type": "markdown",
   "metadata": {},
   "source": [
    "## OPTIONAL: Question for the reviewer\n",
    " \n",
    "If you have any question about the starter code or your own implementation, please add it in the cell below. \n",
    "\n",
    "For example, if you want to know why a piece of code is written the way it is, or its function, or alternative ways of implementing the same functionality, or if you want to get feedback on a specific part of your code or get feedback on things you tried but did not work.\n",
    "\n",
    "Please keep your questions succinct and clear to help the reviewer answer them satisfactorily. \n",
    "\n",
    "> **_Your question_**\n",
    "I am so sure that babies and older people each have a higher attendance ratio than people in the middle, but I couldn't figure out how to show it. I separated the age data into bins and made a million pies, but I couldn't figure it out. I decided then that i was probably wrong, but i just can't shake the intuition. What could I have done differently?"
   ]
  },
  {
   "cell_type": "code",
   "execution_count": null,
   "metadata": {},
   "outputs": [],
   "source": [
    "from subprocess import call\n",
    "call(['python', '-m', 'nbconvert', 'Investigate_a_Dataset.ipynb'])"
   ]
  }
 ],
 "metadata": {
  "kernelspec": {
   "display_name": "Python 3",
   "language": "python",
   "name": "python3"
  },
  "language_info": {
   "codemirror_mode": {
    "name": "ipython",
    "version": 3
   },
   "file_extension": ".py",
   "mimetype": "text/x-python",
   "name": "python",
   "nbconvert_exporter": "python",
   "pygments_lexer": "ipython3",
   "version": "3.6.3"
  }
 },
 "nbformat": 4,
 "nbformat_minor": 2
}
